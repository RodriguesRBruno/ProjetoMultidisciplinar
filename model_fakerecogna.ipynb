{
 "cells": [
  {
   "cell_type": "markdown",
   "id": "041aa085",
   "metadata": {},
   "source": [
    "# Treinamento e validação de Modelos - Dataset FakeRecogna\n",
    "Treinamento de um modelo usando como base o segundo dataset estudado: https://github.com/Gabriel-Lino-Garcia/FakeRecogna \n",
    "\n",
    "Após verificar que o primeiro modelo obteve uma performace ruim ao ser testado com outro dataset, fez-se a hipótese de que isto pode ter ocorrido devido à baixa variabilidade de notícias no primeiro dataset utilizado. Optou-se então por tentar treinar um modelo TF-IDF no segundo dataset, que possui maior variedade de notícias, para validar se isto resultaria em um modelo mais geral.\n",
    "\n",
    "Este modelo, além de ser validado no próprio dataset que o gerou, também é validado com o primeiro dataset utilizado no projeto."
   ]
  },
  {
   "cell_type": "code",
   "execution_count": 1,
   "id": "58d32bc0",
   "metadata": {},
   "outputs": [
    {
     "name": "stdout",
     "output_type": "stream",
     "text": [
      "Looking in indexes: https://pypi.org/simple, https://pip.repos.neuron.amazonaws.com\n",
      "Requirement already satisfied: wordcloud in /home/ec2-user/anaconda3/envs/amazonei_tensorflow2_p36/lib/python3.6/site-packages (1.8.2.2)\n",
      "Requirement already satisfied: matplotlib in /home/ec2-user/anaconda3/envs/amazonei_tensorflow2_p36/lib/python3.6/site-packages (from wordcloud) (3.3.4)\n",
      "Requirement already satisfied: numpy>=1.6.1 in /home/ec2-user/anaconda3/envs/amazonei_tensorflow2_p36/lib/python3.6/site-packages (from wordcloud) (1.19.5)\n",
      "Requirement already satisfied: pillow in /home/ec2-user/anaconda3/envs/amazonei_tensorflow2_p36/lib/python3.6/site-packages (from wordcloud) (8.4.0)\n",
      "Requirement already satisfied: cycler>=0.10 in /home/ec2-user/anaconda3/envs/amazonei_tensorflow2_p36/lib/python3.6/site-packages (from matplotlib->wordcloud) (0.10.0)\n",
      "Requirement already satisfied: kiwisolver>=1.0.1 in /home/ec2-user/anaconda3/envs/amazonei_tensorflow2_p36/lib/python3.6/site-packages (from matplotlib->wordcloud) (1.3.1)\n",
      "Requirement already satisfied: python-dateutil>=2.1 in /home/ec2-user/anaconda3/envs/amazonei_tensorflow2_p36/lib/python3.6/site-packages (from matplotlib->wordcloud) (2.8.1)\n",
      "Requirement already satisfied: pyparsing!=2.0.4,!=2.1.2,!=2.1.6,>=2.0.3 in /home/ec2-user/anaconda3/envs/amazonei_tensorflow2_p36/lib/python3.6/site-packages (from matplotlib->wordcloud) (2.4.7)\n",
      "Requirement already satisfied: six in /home/ec2-user/anaconda3/envs/amazonei_tensorflow2_p36/lib/python3.6/site-packages (from cycler>=0.10->matplotlib->wordcloud) (1.15.0)\n",
      "Note: you may need to restart the kernel to use updated packages.\n"
     ]
    }
   ],
   "source": [
    "# Se necessário\n",
    "%pip install wordcloud"
   ]
  },
  {
   "cell_type": "code",
   "execution_count": 2,
   "id": "748bcd07",
   "metadata": {},
   "outputs": [],
   "source": [
    "import os\n",
    "import sagemaker\n",
    "import pandas as pd\n",
    "from sklearn.feature_extraction.text import TfidfVectorizer\n",
    "from sklearn.metrics import classification_report, precision_score\n",
    "from python_scripts.save_load import load_df_from_bucket, save_df_to_s3_bucket, save_to_s3_bucket_as_libsvm, BUCKET_MODEL\n",
    "from python_scripts.modelling import create_train_validation_test_sets, setup_model, make_prediction\n",
    "from python_scripts.plots import plot_confusion_matrix"
   ]
  },
  {
   "cell_type": "markdown",
   "id": "d98eaaf5",
   "metadata": {},
   "source": [
    "## Carregamento de dados\n",
    "O pré-processamento e padronização dos dados deste dataset já foi realizado no notebook `preprocessing.ipynb`."
   ]
  },
  {
   "cell_type": "code",
   "execution_count": 3,
   "id": "fc994d4d",
   "metadata": {},
   "outputs": [
    {
     "data": {
      "text/html": [
       "<div>\n",
       "<style scoped>\n",
       "    .dataframe tbody tr th:only-of-type {\n",
       "        vertical-align: middle;\n",
       "    }\n",
       "\n",
       "    .dataframe tbody tr th {\n",
       "        vertical-align: top;\n",
       "    }\n",
       "\n",
       "    .dataframe thead th {\n",
       "        text-align: right;\n",
       "    }\n",
       "</style>\n",
       "<table border=\"1\" class=\"dataframe\">\n",
       "  <thead>\n",
       "    <tr style=\"text-align: right;\">\n",
       "      <th></th>\n",
       "      <th>Categoria</th>\n",
       "      <th>lemmas_str</th>\n",
       "      <th>fake</th>\n",
       "    </tr>\n",
       "  </thead>\n",
       "  <tbody>\n",
       "    <tr>\n",
       "      <th>0</th>\n",
       "      <td>entretenimento</td>\n",
       "      <td>apagão vaticano papar presar acusação tráfico ...</td>\n",
       "      <td>1</td>\n",
       "    </tr>\n",
       "    <tr>\n",
       "      <th>1</th>\n",
       "      <td>saúde</td>\n",
       "      <td>governar equador anunciar preparar cova coleti...</td>\n",
       "      <td>0</td>\n",
       "    </tr>\n",
       "    <tr>\n",
       "      <th>2</th>\n",
       "      <td>saúde</td>\n",
       "      <td>companhia air france operar voar direto pequim...</td>\n",
       "      <td>0</td>\n",
       "    </tr>\n",
       "    <tr>\n",
       "      <th>3</th>\n",
       "      <td>saúde</td>\n",
       "      <td>marfrig global foods retomar vender carnar bov...</td>\n",
       "      <td>0</td>\n",
       "    </tr>\n",
       "    <tr>\n",
       "      <th>4</th>\n",
       "      <td>entretenimento</td>\n",
       "      <td>assunto voltar compartilhar rede social julho ...</td>\n",
       "      <td>1</td>\n",
       "    </tr>\n",
       "  </tbody>\n",
       "</table>\n",
       "</div>"
      ],
      "text/plain": [
       "        Categoria                                         lemmas_str  fake\n",
       "0  entretenimento  apagão vaticano papar presar acusação tráfico ...     1\n",
       "1           saúde  governar equador anunciar preparar cova coleti...     0\n",
       "2           saúde  companhia air france operar voar direto pequim...     0\n",
       "3           saúde  marfrig global foods retomar vender carnar bov...     0\n",
       "4  entretenimento  assunto voltar compartilhar rede social julho ...     1"
      ]
     },
     "execution_count": 3,
     "metadata": {},
     "output_type": "execute_result"
    }
   ],
   "source": [
    "model_df = load_df_from_bucket('dados_processados_recogna.csv', tipo='processado')\n",
    "model_df.head()"
   ]
  },
  {
   "cell_type": "markdown",
   "id": "8885754a",
   "metadata": {},
   "source": [
    "## Modelo 1: TF-IDF baseado no texto da notícia\n",
    "Vetorização TF-IDF é aplicada somente à coluna de texto da notícia. Demais colunas de dados não são consideradas."
   ]
  },
  {
   "cell_type": "code",
   "execution_count": 4,
   "id": "8ca51e84",
   "metadata": {},
   "outputs": [],
   "source": [
    "train_1, test_1, validate_1 = create_train_validation_test_sets(model_df, \n",
    "                                                                stratify_col='fake',\n",
    "                                                                test_size=0.2, random_state=42)"
   ]
  },
  {
   "cell_type": "markdown",
   "id": "258a4749",
   "metadata": {},
   "source": [
    "### Processamento adicional\n",
    "\n",
    "Um vetorizador TFIDF é utilizado para converter os dados textuais em colunas do DataFrame."
   ]
  },
  {
   "cell_type": "code",
   "execution_count": 5,
   "id": "b1985e86",
   "metadata": {},
   "outputs": [
    {
     "data": {
      "text/plain": [
       "TfidfVectorizer(lowercase=False, ngram_range=(1, 2))"
      ]
     },
     "execution_count": 5,
     "metadata": {},
     "output_type": "execute_result"
    }
   ],
   "source": [
    "# Criar vetorizador TFIDF e ajustar aos dados de treinamento\n",
    "tfidf = TfidfVectorizer(lowercase=False, ngram_range = (1,2))\n",
    "tfidf.fit(train_1['lemmas_str'])"
   ]
  },
  {
   "cell_type": "code",
   "execution_count": 6,
   "id": "2e1c9a9b",
   "metadata": {},
   "outputs": [],
   "source": [
    "def create_x_y_1(base_df, tfidf, target_col='fake', lemma_col = 'lemmas_str'):\n",
    "    tfidf_res = tfidf.transform(base_df[lemma_col])\n",
    "    return tfidf_res, base_df[target_col]\n",
    "\n",
    "x_train_1, y_train_1 = create_x_y_1(train_1, tfidf)\n",
    "x_validate_1, y_validate_1 = create_x_y_1(validate_1, tfidf)\n",
    "x_test_1, y_test_1 = create_x_y_1(test_1, tfidf)"
   ]
  },
  {
   "cell_type": "markdown",
   "id": "44f5ad58",
   "metadata": {},
   "source": [
    "### Upload de dados para o S3"
   ]
  },
  {
   "cell_type": "code",
   "execution_count": 7,
   "id": "3ab7824a",
   "metadata": {},
   "outputs": [
    {
     "name": "stderr",
     "output_type": "stream",
     "text": [
      "/home/ec2-user/anaconda3/envs/amazonei_tensorflow2_p36/lib/python3.6/site-packages/boto3/compat.py:88: PythonDeprecationWarning: Boto3 will no longer support Python 3.6 starting May 30, 2022. To continue receiving service updates, bug fixes, and security updates please upgrade to Python 3.7 or later. More information can be found here: https://aws.amazon.com/blogs/developer/python-support-policy-updates-for-aws-sdks-and-tools/\n",
      "  warnings.warn(warning, PythonDeprecationWarning)\n",
      "/home/ec2-user/anaconda3/envs/amazonei_tensorflow2_p36/lib/python3.6/site-packages/boto3/compat.py:88: PythonDeprecationWarning: Boto3 will no longer support Python 3.6 starting May 30, 2022. To continue receiving service updates, bug fixes, and security updates please upgrade to Python 3.7 or later. More information can be found here: https://aws.amazon.com/blogs/developer/python-support-policy-updates-for-aws-sdks-and-tools/\n",
      "  warnings.warn(warning, PythonDeprecationWarning)\n",
      "/home/ec2-user/anaconda3/envs/amazonei_tensorflow2_p36/lib/python3.6/site-packages/boto3/compat.py:88: PythonDeprecationWarning: Boto3 will no longer support Python 3.6 starting May 30, 2022. To continue receiving service updates, bug fixes, and security updates please upgrade to Python 3.7 or later. More information can be found here: https://aws.amazon.com/blogs/developer/python-support-policy-updates-for-aws-sdks-and-tools/\n",
      "  warnings.warn(warning, PythonDeprecationWarning)\n"
     ]
    }
   ],
   "source": [
    "file_name_tuples = [(x_train_1, y_train_1, 'train'), \n",
    "                   (x_test_1, y_test_1, 'test'), \n",
    "                   (x_validate_1, y_validate_1, 'validate')]\n",
    "\n",
    "for x, y, prefix in file_name_tuples:\n",
    "    save_to_s3_bucket_as_libsvm(x, y, prefix=prefix, filename='model_1_2.libsvm', tipo='modelo')"
   ]
  },
  {
   "cell_type": "markdown",
   "id": "e1905c1d",
   "metadata": {},
   "source": [
    "### Treinar modelo"
   ]
  },
  {
   "cell_type": "code",
   "execution_count": 8,
   "id": "c773eb3e",
   "metadata": {},
   "outputs": [
    {
     "name": "stdout",
     "output_type": "stream",
     "text": [
      "2022-11-16 13:26:31 Starting - Starting the training job...ProfilerReport-1668605191: InProgress\n",
      "...\n",
      "2022-11-16 13:27:06 Starting - Preparing the instances for training.........\n",
      "2022-11-16 13:28:56 Downloading - Downloading input data......\n",
      "2022-11-16 13:29:54 Training - Downloading the training image.....\u001b[36m[2022-11-16 13:30:40.395 ip-10-0-239-65.ec2.internal:8 INFO utils.py:27] RULE_JOB_STOP_SIGNAL_FILENAME: None\u001b[0m\n",
      "\u001b[36m[2022-11-16:13:30:40:INFO] Imported framework sagemaker_xgboost_container.training\u001b[0m\n",
      "\u001b[36m[2022-11-16:13:30:40:INFO] Failed to parse hyperparameter eval_metric value map to Json.\u001b[0m\n",
      "\u001b[36mReturning the value itself\u001b[0m\n",
      "\u001b[36m[2022-11-16:13:30:40:INFO] Failed to parse hyperparameter objective value binary:logistic to Json.\u001b[0m\n",
      "\u001b[36mReturning the value itself\u001b[0m\n",
      "\u001b[36m[2022-11-16:13:30:40:INFO] No GPUs detected (normal if no gpus installed)\u001b[0m\n",
      "\u001b[36m[2022-11-16:13:30:40:INFO] Running XGBoost Sagemaker in algorithm mode\u001b[0m\n",
      "\u001b[36m[2022-11-16:13:30:40:INFO] files path: /opt/ml/input/data/train\u001b[0m\n",
      "\u001b[36m[2022-11-16:13:30:40:INFO] files path: /opt/ml/input/data/validation\u001b[0m\n",
      "\u001b[36m[2022-11-16:13:30:40:INFO] Distributed node training with 4 hosts: ['algo-1', 'algo-2', 'algo-3', 'algo-4']\u001b[0m\n",
      "\u001b[36m[2022-11-16:13:30:40:INFO] Connected to RabitTracker.\u001b[0m\n",
      "\u001b[32m[2022-11-16 13:30:40.699 ip-10-0-217-100.ec2.internal:8 INFO utils.py:27] RULE_JOB_STOP_SIGNAL_FILENAME: None\u001b[0m\n",
      "\u001b[32m[2022-11-16:13:30:40:INFO] Imported framework sagemaker_xgboost_container.training\u001b[0m\n",
      "\u001b[32m[2022-11-16:13:30:40:INFO] Failed to parse hyperparameter eval_metric value map to Json.\u001b[0m\n",
      "\u001b[32mReturning the value itself\u001b[0m\n",
      "\u001b[32m[2022-11-16:13:30:40:INFO] Failed to parse hyperparameter objective value binary:logistic to Json.\u001b[0m\n",
      "\u001b[32mReturning the value itself\u001b[0m\n",
      "\u001b[32m[2022-11-16:13:30:40:INFO] No GPUs detected (normal if no gpus installed)\u001b[0m\n",
      "\u001b[32m[2022-11-16:13:30:40:INFO] Running XGBoost Sagemaker in algorithm mode\u001b[0m\n",
      "\u001b[32m[2022-11-16:13:30:40:INFO] files path: /opt/ml/input/data/train\u001b[0m\n",
      "\u001b[36m[13:30:41] task NULL got new rank 3\u001b[0m\n",
      "\u001b[36m[2022-11-16:13:30:41:INFO] Failed to connect to RabitTracker on attempt 0\u001b[0m\n",
      "\u001b[36m[2022-11-16:13:30:41:INFO] Sleeping for 3 sec before retrying\u001b[0m\n",
      "\u001b[32m[2022-11-16:13:30:40:INFO] files path: /opt/ml/input/data/validation\u001b[0m\n",
      "\u001b[32m[2022-11-16:13:30:40:INFO] Distributed node training with 4 hosts: ['algo-1', 'algo-2', 'algo-3', 'algo-4']\u001b[0m\n",
      "\u001b[32m[2022-11-16:13:30:41:INFO] Connected to RabitTracker.\u001b[0m\n",
      "\u001b[32m[13:30:41] task NULL got new rank 1\u001b[0m\n",
      "\u001b[32m[2022-11-16:13:30:41:INFO] Failed to connect to RabitTracker on attempt 0\u001b[0m\n",
      "\u001b[32m[2022-11-16:13:30:41:INFO] Sleeping for 3 sec before retrying\u001b[0m\n",
      "\u001b[34m[2022-11-16 13:30:39.579 ip-10-0-197-115.ec2.internal:7 INFO utils.py:27] RULE_JOB_STOP_SIGNAL_FILENAME: None\u001b[0m\n",
      "\u001b[34m[2022-11-16:13:30:39:INFO] Imported framework sagemaker_xgboost_container.training\u001b[0m\n",
      "\u001b[34m[2022-11-16:13:30:39:INFO] Failed to parse hyperparameter eval_metric value map to Json.\u001b[0m\n",
      "\u001b[34mReturning the value itself\u001b[0m\n",
      "\u001b[34m[2022-11-16:13:30:39:INFO] Failed to parse hyperparameter objective value binary:logistic to Json.\u001b[0m\n",
      "\u001b[34mReturning the value itself\u001b[0m\n",
      "\u001b[34m[2022-11-16:13:30:39:INFO] No GPUs detected (normal if no gpus installed)\u001b[0m\n",
      "\u001b[34m[2022-11-16:13:30:39:INFO] Running XGBoost Sagemaker in algorithm mode\u001b[0m\n",
      "\u001b[34m[2022-11-16:13:30:39:INFO] files path: /opt/ml/input/data/train\u001b[0m\n",
      "\u001b[34m[2022-11-16:13:30:39:INFO] files path: /opt/ml/input/data/validation\u001b[0m\n",
      "\u001b[34m[2022-11-16:13:30:39:INFO] Distributed node training with 4 hosts: ['algo-1', 'algo-2', 'algo-3', 'algo-4']\u001b[0m\n",
      "\u001b[34m[2022-11-16:13:30:39:INFO] start listen on algo-1:9099\u001b[0m\n",
      "\u001b[34m[2022-11-16:13:30:39:INFO] Rabit slave environment: {'DMLC_TRACKER_URI': 'algo-1', 'DMLC_TRACKER_PORT': 9099}\u001b[0m\n",
      "\u001b[34m[2022-11-16:13:30:39:INFO] No data received from connection ('10.0.197.115', 60286). Closing.\u001b[0m\n",
      "\u001b[34m[2022-11-16:13:30:39:INFO] Connected to RabitTracker.\u001b[0m\n",
      "\u001b[34m[2022-11-16:13:30:39:INFO] No data received from connection ('10.0.228.241', 42902). Closing.\u001b[0m\n",
      "\u001b[34m[2022-11-16:13:30:40:INFO] No data received from connection ('10.0.239.65', 52448). Closing.\u001b[0m\n",
      "\u001b[34m[2022-11-16:13:30:41:INFO] No data received from connection ('10.0.217.100', 45412). Closing.\u001b[0m\n",
      "\u001b[34m[13:30:41] task NULL got new rank 0\u001b[0m\n",
      "\u001b[34m[2022-11-16:13:30:41:INFO] Recieve start signal from 10.0.197.115; assign rank 0\u001b[0m\n",
      "\u001b[34m[2022-11-16:13:30:41:INFO] Recieve start signal from 10.0.217.100; assign rank 1\u001b[0m\n",
      "\u001b[34m[2022-11-16:13:30:41:INFO] Recieve start signal from 10.0.228.241; assign rank 2\u001b[0m\n",
      "\u001b[34m[2022-11-16:13:30:41:INFO] Recieve start signal from 10.0.239.65; assign rank 3\u001b[0m\n",
      "\u001b[34m[2022-11-16:13:30:41:INFO] @tracker All of 4 nodes getting started\u001b[0m\n",
      "\u001b[34m[2022-11-16:13:30:41:INFO] @tracker All nodes finishes job\u001b[0m\n",
      "\u001b[34m[2022-11-16:13:30:41:INFO] @tracker 0.0448307991027832 secs between node start and job finish\u001b[0m\n",
      "\u001b[34m[2022-11-16:13:30:41:INFO] start listen on algo-1:9100\u001b[0m\n",
      "\u001b[34m[2022-11-16:13:30:41:INFO] Rabit slave environment: {'DMLC_TRACKER_URI': 'algo-1', 'DMLC_TRACKER_PORT': 9100}\u001b[0m\n",
      "\u001b[34m[2022-11-16:13:30:41:INFO] No data received from connection ('10.0.197.115', 47744). Closing.\u001b[0m\n",
      "\u001b[34m[2022-11-16:13:30:41:INFO] Connected to RabitTracker.\u001b[0m\n",
      "\u001b[35m[2022-11-16 13:30:39.614 ip-10-0-228-241.ec2.internal:7 INFO utils.py:27] RULE_JOB_STOP_SIGNAL_FILENAME: None\u001b[0m\n",
      "\u001b[35m[2022-11-16:13:30:39:INFO] Imported framework sagemaker_xgboost_container.training\u001b[0m\n",
      "\u001b[35m[2022-11-16:13:30:39:INFO] Failed to parse hyperparameter eval_metric value map to Json.\u001b[0m\n",
      "\u001b[35mReturning the value itself\u001b[0m\n",
      "\u001b[35m[2022-11-16:13:30:39:INFO] Failed to parse hyperparameter objective value binary:logistic to Json.\u001b[0m\n",
      "\u001b[35mReturning the value itself\u001b[0m\n",
      "\u001b[35m[2022-11-16:13:30:39:INFO] No GPUs detected (normal if no gpus installed)\u001b[0m\n",
      "\u001b[35m[2022-11-16:13:30:39:INFO] Running XGBoost Sagemaker in algorithm mode\u001b[0m\n",
      "\u001b[35m[2022-11-16:13:30:39:INFO] files path: /opt/ml/input/data/train\u001b[0m\n",
      "\u001b[35m[2022-11-16:13:30:39:INFO] files path: /opt/ml/input/data/validation\u001b[0m\n",
      "\u001b[35m[2022-11-16:13:30:39:INFO] Distributed node training with 4 hosts: ['algo-1', 'algo-2', 'algo-3', 'algo-4']\u001b[0m\n",
      "\u001b[35m[2022-11-16:13:30:39:INFO] Connected to RabitTracker.\u001b[0m\n",
      "\u001b[35m[13:30:41] task NULL got new rank 2\u001b[0m\n",
      "\u001b[35m[2022-11-16:13:30:41:INFO] Failed to connect to RabitTracker on attempt 0\u001b[0m\n",
      "\u001b[35m[2022-11-16:13:30:41:INFO] Sleeping for 3 sec before retrying\u001b[0m\n",
      "\u001b[36m[2022-11-16:13:30:44:INFO] Connected to RabitTracker.\u001b[0m\n",
      "\u001b[35m[2022-11-16:13:30:44:INFO] Connected to RabitTracker.\u001b[0m\n",
      "\u001b[35m[13:30:44] task NULL got new rank 2\u001b[0m\n",
      "\u001b[35m[2022-11-16:13:30:44:INFO] Train matrix has 9521 rows and 449038 columns\u001b[0m\n",
      "\u001b[35m[2022-11-16:13:30:44:INFO] Validation matrix has 1191 rows\u001b[0m\n",
      "\u001b[35m[2022-11-16 13:30:44.861 ip-10-0-228-241.ec2.internal:7 INFO json_config.py:91] Creating hook from json_config at /opt/ml/input/config/debughookconfig.json.\u001b[0m\n",
      "\u001b[32m[2022-11-16:13:30:44:INFO] Connected to RabitTracker.\u001b[0m\n",
      "\u001b[32m[13:30:44] task NULL got new rank 1\u001b[0m\n",
      "\u001b[32m[2022-11-16:13:30:44:INFO] Train matrix has 9521 rows and 449038 columns\u001b[0m\n",
      "\u001b[32m[2022-11-16:13:30:44:INFO] Validation matrix has 1191 rows\u001b[0m\n",
      "\u001b[32m[2022-11-16 13:30:44.750 ip-10-0-217-100.ec2.internal:8 INFO json_config.py:91] Creating hook from json_config at /opt/ml/input/config/debughookconfig.json.\u001b[0m\n",
      "\u001b[34m[2022-11-16:13:30:44:INFO] No data received from connection ('10.0.217.100', 35608). Closing.\u001b[0m\n",
      "\u001b[34m[2022-11-16:13:30:44:INFO] No data received from connection ('10.0.228.241', 34312). Closing.\u001b[0m\n",
      "\u001b[34m[2022-11-16:13:30:44:INFO] No data received from connection ('10.0.239.65', 54608). Closing.\u001b[0m\n",
      "\u001b[34m[13:30:44] task NULL got new rank 0\u001b[0m\n",
      "\u001b[34m[2022-11-16:13:30:44:INFO] Recieve start signal from 10.0.197.115; assign rank 0\u001b[0m\n",
      "\u001b[34m[2022-11-16:13:30:44:INFO] Recieve start signal from 10.0.217.100; assign rank 1\u001b[0m\n",
      "\u001b[34m[2022-11-16:13:30:44:INFO] Recieve start signal from 10.0.228.241; assign rank 2\u001b[0m\n",
      "\u001b[34m[2022-11-16:13:30:44:INFO] Recieve start signal from 10.0.239.65; assign rank 3\u001b[0m\n",
      "\u001b[34m[2022-11-16:13:30:44:INFO] Train matrix has 9521 rows and 449038 columns\u001b[0m\n",
      "\u001b[34m[2022-11-16:13:30:44:INFO] @tracker All of 4 nodes getting started\u001b[0m\n",
      "\u001b[34m[2022-11-16:13:30:44:INFO] Validation matrix has 1191 rows\u001b[0m\n",
      "\u001b[34m[2022-11-16 13:30:44.856 ip-10-0-197-115.ec2.internal:7 INFO json_config.py:91] Creating hook from json_config at /opt/ml/input/config/debughookconfig.json.\u001b[0m\n",
      "\u001b[36m[13:30:44] task NULL got new rank 3\u001b[0m\n",
      "\u001b[36m[2022-11-16:13:30:44:INFO] Train matrix has 9521 rows and 449038 columns\u001b[0m\n",
      "\u001b[36m[2022-11-16:13:30:44:INFO] Validation matrix has 1191 rows\u001b[0m\n",
      "\u001b[36m[2022-11-16 13:30:44.858 ip-10-0-239-65.ec2.internal:8 INFO json_config.py:91] Creating hook from json_config at /opt/ml/input/config/debughookconfig.json.\u001b[0m\n",
      "\n",
      "2022-11-16 13:30:54 Training - Training image download completed. Training in progress.\u001b[34m[2022-11-16:13:31:01:INFO] [0]#011train-map:0.86182#011validation-map:0.82103\u001b[0m\n",
      "\u001b[34m[2022-11-16:13:31:15:INFO] [1]#011train-map:0.90161#011validation-map:0.85104\u001b[0m\n",
      "\u001b[34m[2022-11-16:13:31:29:INFO] [2]#011train-map:0.93338#011validation-map:0.89099\u001b[0m\n",
      "\u001b[34m[2022-11-16:13:31:43:INFO] [3]#011train-map:0.94886#011validation-map:0.91445\u001b[0m\n",
      "\u001b[34m[2022-11-16:13:31:57:INFO] [4]#011train-map:0.95726#011validation-map:0.92383\u001b[0m\n",
      "\u001b[34m[2022-11-16:13:32:09:INFO] [5]#011train-map:0.96022#011validation-map:0.92810\u001b[0m\n",
      "\u001b[34m[2022-11-16:13:32:22:INFO] [6]#011train-map:0.96570#011validation-map:0.93359\u001b[0m\n",
      "\u001b[34m[2022-11-16:13:32:33:INFO] [7]#011train-map:0.96793#011validation-map:0.93423\u001b[0m\n",
      "\u001b[34m[2022-11-16:13:32:46:INFO] [8]#011train-map:0.97123#011validation-map:0.93850\u001b[0m\n",
      "\u001b[34m[2022-11-16:13:33:00:INFO] [9]#011train-map:0.97394#011validation-map:0.93895\u001b[0m\n",
      "\u001b[34m[2022-11-16:13:33:11:INFO] [10]#011train-map:0.97655#011validation-map:0.94071\u001b[0m\n",
      "\u001b[34m[2022-11-16:13:33:22:INFO] [11]#011train-map:0.97805#011validation-map:0.94157\u001b[0m\n",
      "\u001b[34m[2022-11-16:13:33:31:INFO] [12]#011train-map:0.97991#011validation-map:0.94606\u001b[0m\n",
      "\u001b[34m[2022-11-16:13:33:44:INFO] [13]#011train-map:0.98153#011validation-map:0.94981\u001b[0m\n",
      "\u001b[34m[2022-11-16:13:33:55:INFO] [14]#011train-map:0.98290#011validation-map:0.95179\u001b[0m\n",
      "\u001b[34m[2022-11-16:13:34:04:INFO] [15]#011train-map:0.98409#011validation-map:0.95197\u001b[0m\n",
      "\u001b[34m[2022-11-16:13:34:15:INFO] [16]#011train-map:0.98493#011validation-map:0.95182\u001b[0m\n",
      "\u001b[34m[2022-11-16:13:34:25:INFO] [17]#011train-map:0.98642#011validation-map:0.95293\u001b[0m\n",
      "\u001b[34m[2022-11-16:13:34:36:INFO] [18]#011train-map:0.98712#011validation-map:0.95336\u001b[0m\n",
      "\u001b[34m[2022-11-16:13:34:46:INFO] [19]#011train-map:0.98766#011validation-map:0.95311\u001b[0m\n",
      "\u001b[34m[2022-11-16:13:34:53:INFO] [20]#011train-map:0.98813#011validation-map:0.95256\u001b[0m\n",
      "\u001b[34m[2022-11-16:13:35:02:INFO] [21]#011train-map:0.98900#011validation-map:0.95234\u001b[0m\n",
      "\u001b[34m[2022-11-16:13:35:16:INFO] [22]#011train-map:0.98993#011validation-map:0.95421\u001b[0m\n",
      "\u001b[34m[2022-11-16:13:35:26:INFO] [23]#011train-map:0.99054#011validation-map:0.95483\u001b[0m\n",
      "\u001b[34m[2022-11-16:13:35:36:INFO] [24]#011train-map:0.99118#011validation-map:0.95624\u001b[0m\n",
      "\u001b[34m[2022-11-16:13:35:46:INFO] [25]#011train-map:0.99189#011validation-map:0.95555\u001b[0m\n",
      "\u001b[34m[2022-11-16:13:35:56:INFO] [26]#011train-map:0.99226#011validation-map:0.95566\u001b[0m\n",
      "\u001b[34m[2022-11-16:13:36:04:INFO] [27]#011train-map:0.99257#011validation-map:0.95596\u001b[0m\n",
      "\u001b[34m[2022-11-16:13:36:13:INFO] [28]#011train-map:0.99303#011validation-map:0.95655\u001b[0m\n",
      "\u001b[34m[2022-11-16:13:36:24:INFO] [29]#011train-map:0.99340#011validation-map:0.95704\u001b[0m\n",
      "\u001b[34m[2022-11-16:13:36:32:INFO] [30]#011train-map:0.99358#011validation-map:0.95804\u001b[0m\n",
      "\u001b[34m[2022-11-16:13:36:40:INFO] [31]#011train-map:0.99392#011validation-map:0.95859\u001b[0m\n",
      "\u001b[34m[2022-11-16:13:36:51:INFO] [32]#011train-map:0.99425#011validation-map:0.95930\u001b[0m\n",
      "\u001b[34m[2022-11-16:13:37:00:INFO] [33]#011train-map:0.99452#011validation-map:0.95927\u001b[0m\n",
      "\u001b[34m[2022-11-16:13:37:09:INFO] [34]#011train-map:0.99481#011validation-map:0.95897\u001b[0m\n",
      "\u001b[34m[2022-11-16:13:37:17:INFO] [35]#011train-map:0.99501#011validation-map:0.95943\u001b[0m\n",
      "\u001b[34m[2022-11-16:13:37:27:INFO] [36]#011train-map:0.99534#011validation-map:0.95984\u001b[0m\n",
      "\u001b[34m[2022-11-16:13:37:39:INFO] [37]#011train-map:0.99564#011validation-map:0.96006\u001b[0m\n",
      "\u001b[34m[2022-11-16:13:37:50:INFO] [38]#011train-map:0.99590#011validation-map:0.96046\u001b[0m\n",
      "\u001b[34m[2022-11-16:13:38:00:INFO] [39]#011train-map:0.99611#011validation-map:0.95871\u001b[0m\n",
      "\u001b[34m[2022-11-16:13:38:09:INFO] [40]#011train-map:0.99632#011validation-map:0.95892\u001b[0m\n",
      "\u001b[34m[2022-11-16:13:38:18:INFO] [41]#011train-map:0.99647#011validation-map:0.95940\u001b[0m\n",
      "\u001b[34m[2022-11-16:13:38:18:INFO] @tracker All nodes finishes job\u001b[0m\n",
      "\u001b[34m[2022-11-16:13:38:18:INFO] @tracker 453.33215379714966 secs between node start and job finish\u001b[0m\n",
      "\n",
      "2022-11-16 13:38:40 Uploading - Uploading generated training model\n",
      "2022-11-16 13:38:40 Completed - Training job completed\n",
      "Training seconds: 2348\n",
      "Billable seconds: 2348\n",
      "ready for hosting!\n"
     ]
    }
   ],
   "source": [
    "xgb_model_1, data_channels_1 = setup_model(base_image='xgboost', model_name='model_1_2', instance_count=4, \n",
    "                                           instance_type='ml.m4.xlarge')\n",
    "xgb_model_1.fit(inputs=data_channels_1)\n",
    "\n",
    "print('ready for hosting!')"
   ]
  },
  {
   "cell_type": "code",
   "execution_count": 9,
   "id": "dc93cd50",
   "metadata": {},
   "outputs": [
    {
     "name": "stdout",
     "output_type": "stream",
     "text": [
      "-------!"
     ]
    }
   ],
   "source": [
    "xgb_predictor_1 = xgb_model_1.deploy(initial_instance_count=1,\n",
    "                                     serializer=sagemaker.serializers.LibSVMSerializer(),\n",
    "                                     instance_type='ml.m4.xlarge')"
   ]
  },
  {
   "cell_type": "markdown",
   "id": "0f357abb",
   "metadata": {},
   "source": [
    "### Métricas do modelo"
   ]
  },
  {
   "cell_type": "code",
   "execution_count": 10,
   "id": "06af5cfb",
   "metadata": {},
   "outputs": [],
   "source": [
    "y_pred_1 = make_prediction(xgb_predictor_1, model_name='model_1_2')\n",
    "\n",
    "# Alternativa para carregar resultados salvos em outra execução\n",
    "# from python_scripts.save_load import BUCKET_MODEL\n",
    "# y_pred_alt = pd.read_csv(f's3://{BUCKET_MODEL}/test/pred_1_2.csv')"
   ]
  },
  {
   "cell_type": "code",
   "execution_count": 11,
   "id": "4b2ae6dc",
   "metadata": {},
   "outputs": [
    {
     "name": "stdout",
     "output_type": "stream",
     "text": [
      "              precision    recall  f1-score   support\n",
      "\n",
      "           0       0.93      0.85      0.89       595\n",
      "           1       0.86      0.93      0.90       595\n",
      "\n",
      "    accuracy                           0.89      1190\n",
      "   macro avg       0.90      0.89      0.89      1190\n",
      "weighted avg       0.90      0.89      0.89      1190\n",
      "\n"
     ]
    }
   ],
   "source": [
    "print(classification_report(y_test_1, y_pred_1))"
   ]
  },
  {
   "cell_type": "code",
   "execution_count": 12,
   "id": "3bf4a827",
   "metadata": {},
   "outputs": [
    {
     "data": {
      "image/png": "[encoded data removed]",
      "text/plain": [
       "<Figure size 432x288 with 1 Axes>"
      ]
     },
     "metadata": {
      "needs_background": "light"
     },
     "output_type": "display_data"
    }
   ],
   "source": [
    "plot_confusion_matrix(y_test_1, y_pred_1)"
   ]
  },
  {
   "cell_type": "code",
   "execution_count": 13,
   "id": "ae138e2b",
   "metadata": {},
   "outputs": [
    {
     "data": {
      "text/plain": [
       "0.864696734059098"
      ]
     },
     "execution_count": 13,
     "metadata": {},
     "output_type": "execute_result"
    }
   ],
   "source": [
    "precision_score(y_test_1, y_pred_1)"
   ]
  },
  {
   "cell_type": "markdown",
   "id": "a58700ae",
   "metadata": {},
   "source": [
    "Verifica-se aqui um excelente desempenho mesmo com os dados separados para teste, como foi visto no notebook `model_fakebr.ipynb`para o dataset Fake.br-Corpus. Em seguida, será feita uma segunda validação utilizando este dataset."
   ]
  },
  {
   "cell_type": "markdown",
   "id": "cf5f8f6c",
   "metadata": {},
   "source": [
    "### Salvar predição"
   ]
  },
  {
   "cell_type": "code",
   "execution_count": 14,
   "id": "20ce92d4",
   "metadata": {},
   "outputs": [],
   "source": [
    "df_pred_alt = pd.DataFrame({'pred_1_2': y_pred_1})\n",
    "df_pred_alt.to_csv(f's3://{BUCKET_MODEL}/test/pred_1_2.csv', encoding='utf-8', index=False)"
   ]
  },
  {
   "cell_type": "markdown",
   "id": "65a08a4e",
   "metadata": {},
   "source": [
    "## Teste adicional - Dataset Fake.br-Corpus\n",
    "Serão amostradas 800 notícias do Dataset Fake.br-Corpus para uma segunda validação do presente modelo."
   ]
  },
  {
   "cell_type": "markdown",
   "id": "2950bb3e",
   "metadata": {},
   "source": [
    "### Carregar dataset e amostrar dados"
   ]
  },
  {
   "cell_type": "code",
   "execution_count": 15,
   "id": "3c1d9966",
   "metadata": {},
   "outputs": [
    {
     "data": {
      "text/html": [
       "<div>\n",
       "<style scoped>\n",
       "    .dataframe tbody tr th:only-of-type {\n",
       "        vertical-align: middle;\n",
       "    }\n",
       "\n",
       "    .dataframe tbody tr th {\n",
       "        vertical-align: top;\n",
       "    }\n",
       "\n",
       "    .dataframe thead th {\n",
       "        text-align: right;\n",
       "    }\n",
       "</style>\n",
       "<table border=\"1\" class=\"dataframe\">\n",
       "  <thead>\n",
       "    <tr style=\"text-align: right;\">\n",
       "      <th></th>\n",
       "      <th>fake</th>\n",
       "      <th>text</th>\n",
       "      <th>avg_sent_len</th>\n",
       "      <th>avg_word_len</th>\n",
       "      <th>words_str</th>\n",
       "      <th>lemmas_str</th>\n",
       "    </tr>\n",
       "  </thead>\n",
       "  <tbody>\n",
       "    <tr>\n",
       "      <th>0</th>\n",
       "      <td>0</td>\n",
       "      <td>A divisão do STF ao meio entre partidários e ...</td>\n",
       "      <td>10.504673</td>\n",
       "      <td>6.785107</td>\n",
       "      <td>divisão STF meio partidários independentes fic...</td>\n",
       "      <td>divisão STF meio partidário independente ficar...</td>\n",
       "    </tr>\n",
       "    <tr>\n",
       "      <th>1</th>\n",
       "      <td>1</td>\n",
       "      <td>General manda recado para STF: \"Abaixaram as c...</td>\n",
       "      <td>10.866667</td>\n",
       "      <td>6.502610</td>\n",
       "      <td>General manda recado STF Abaixaram calças Cong...</td>\n",
       "      <td>general mandar recado STF abaixar calça congre...</td>\n",
       "    </tr>\n",
       "    <tr>\n",
       "      <th>2</th>\n",
       "      <td>1</td>\n",
       "      <td>O Nordeste acordou! Lula e o PT são enxotados:...</td>\n",
       "      <td>7.333333</td>\n",
       "      <td>6.565873</td>\n",
       "      <td>Nordeste acordou Lula PT enxotados Chega bande...</td>\n",
       "      <td>nordeste acordar Lula PT enxotar chegar bandei...</td>\n",
       "    </tr>\n",
       "    <tr>\n",
       "      <th>3</th>\n",
       "      <td>0</td>\n",
       "      <td>Dois relatórios da Polícia Federal, com análi...</td>\n",
       "      <td>16.878788</td>\n",
       "      <td>7.286668</td>\n",
       "      <td>Dois relatórios Polícia Federal análises mater...</td>\n",
       "      <td>dois relatório Polícia Federal análise materia...</td>\n",
       "    </tr>\n",
       "    <tr>\n",
       "      <th>4</th>\n",
       "      <td>1</td>\n",
       "      <td>Coreia do Norte declara status de QUASE-GUERRA...</td>\n",
       "      <td>11.600000</td>\n",
       "      <td>6.531320</td>\n",
       "      <td>Coreia Norte declara status QUASE-GUERRA mobil...</td>\n",
       "      <td>Coreia Norte declarar status QUASE-GUERRA mobi...</td>\n",
       "    </tr>\n",
       "  </tbody>\n",
       "</table>\n",
       "</div>"
      ],
      "text/plain": [
       "   fake                                               text  avg_sent_len  \\\n",
       "0     0   A divisão do STF ao meio entre partidários e ...     10.504673   \n",
       "1     1  General manda recado para STF: \"Abaixaram as c...     10.866667   \n",
       "2     1  O Nordeste acordou! Lula e o PT são enxotados:...      7.333333   \n",
       "3     0   Dois relatórios da Polícia Federal, com análi...     16.878788   \n",
       "4     1  Coreia do Norte declara status de QUASE-GUERRA...     11.600000   \n",
       "\n",
       "   avg_word_len                                          words_str  \\\n",
       "0      6.785107  divisão STF meio partidários independentes fic...   \n",
       "1      6.502610  General manda recado STF Abaixaram calças Cong...   \n",
       "2      6.565873  Nordeste acordou Lula PT enxotados Chega bande...   \n",
       "3      7.286668  Dois relatórios Polícia Federal análises mater...   \n",
       "4      6.531320  Coreia Norte declara status QUASE-GUERRA mobil...   \n",
       "\n",
       "                                          lemmas_str  \n",
       "0  divisão STF meio partidário independente ficar...  \n",
       "1  general mandar recado STF abaixar calça congre...  \n",
       "2  nordeste acordar Lula PT enxotar chegar bandei...  \n",
       "3  dois relatório Polícia Federal análise materia...  \n",
       "4  Coreia Norte declarar status QUASE-GUERRA mobi...  "
      ]
     },
     "execution_count": 15,
     "metadata": {},
     "output_type": "execute_result"
    }
   ],
   "source": [
    "alternative_df = load_df_from_bucket('dados_processados.csv', tipo='processado')\n",
    "alternative_df.head()"
   ]
  },
  {
   "cell_type": "code",
   "execution_count": 16,
   "id": "2d8ee67d",
   "metadata": {},
   "outputs": [
    {
     "data": {
      "text/html": [
       "<div>\n",
       "<style scoped>\n",
       "    .dataframe tbody tr th:only-of-type {\n",
       "        vertical-align: middle;\n",
       "    }\n",
       "\n",
       "    .dataframe tbody tr th {\n",
       "        vertical-align: top;\n",
       "    }\n",
       "\n",
       "    .dataframe thead th {\n",
       "        text-align: right;\n",
       "    }\n",
       "</style>\n",
       "<table border=\"1\" class=\"dataframe\">\n",
       "  <thead>\n",
       "    <tr style=\"text-align: right;\">\n",
       "      <th></th>\n",
       "      <th>fake</th>\n",
       "      <th>lemmas_str</th>\n",
       "    </tr>\n",
       "  </thead>\n",
       "  <tbody>\n",
       "    <tr>\n",
       "      <th>0</th>\n",
       "      <td>0</td>\n",
       "      <td>divisão STF meio partidário independente ficar...</td>\n",
       "    </tr>\n",
       "    <tr>\n",
       "      <th>1</th>\n",
       "      <td>1</td>\n",
       "      <td>general mandar recado STF abaixar calça congre...</td>\n",
       "    </tr>\n",
       "    <tr>\n",
       "      <th>2</th>\n",
       "      <td>1</td>\n",
       "      <td>nordeste acordar Lula PT enxotar chegar bandei...</td>\n",
       "    </tr>\n",
       "    <tr>\n",
       "      <th>3</th>\n",
       "      <td>0</td>\n",
       "      <td>dois relatório Polícia Federal análise materia...</td>\n",
       "    </tr>\n",
       "    <tr>\n",
       "      <th>4</th>\n",
       "      <td>1</td>\n",
       "      <td>Coreia Norte declarar status QUASE-GUERRA mobi...</td>\n",
       "    </tr>\n",
       "  </tbody>\n",
       "</table>\n",
       "</div>"
      ],
      "text/plain": [
       "   fake                                         lemmas_str\n",
       "0     0  divisão STF meio partidário independente ficar...\n",
       "1     1  general mandar recado STF abaixar calça congre...\n",
       "2     1  nordeste acordar Lula PT enxotar chegar bandei...\n",
       "3     0  dois relatório Polícia Federal análise materia...\n",
       "4     1  Coreia Norte declarar status QUASE-GUERRA mobi..."
      ]
     },
     "execution_count": 16,
     "metadata": {},
     "output_type": "execute_result"
    }
   ],
   "source": [
    "alternative_df = alternative_df[['fake', 'lemmas_str']]\n",
    "alternative_df.head()"
   ]
  },
  {
   "cell_type": "code",
   "execution_count": 17,
   "id": "e59dc6fc",
   "metadata": {},
   "outputs": [],
   "source": [
    "sample_df = alternative_df.sample(n=800, random_state=42)"
   ]
  },
  {
   "cell_type": "markdown",
   "id": "c5110623",
   "metadata": {},
   "source": [
    "#### Predição\n",
    "\n",
    "Aplicar TF-IDF para vetorizar, salvar dados no S3 e efetuar predição"
   ]
  },
  {
   "cell_type": "code",
   "execution_count": 18,
   "id": "f96100a8",
   "metadata": {},
   "outputs": [],
   "source": [
    "x_test_alt, y_test_alt = create_x_y_1(sample_df, tfidf)"
   ]
  },
  {
   "cell_type": "code",
   "execution_count": 19,
   "id": "3cf93a20",
   "metadata": {},
   "outputs": [
    {
     "name": "stderr",
     "output_type": "stream",
     "text": [
      "/home/ec2-user/anaconda3/envs/amazonei_tensorflow2_p36/lib/python3.6/site-packages/boto3/compat.py:88: PythonDeprecationWarning: Boto3 will no longer support Python 3.6 starting May 30, 2022. To continue receiving service updates, bug fixes, and security updates please upgrade to Python 3.7 or later. More information can be found here: https://aws.amazon.com/blogs/developer/python-support-policy-updates-for-aws-sdks-and-tools/\n",
      "  warnings.warn(warning, PythonDeprecationWarning)\n"
     ]
    }
   ],
   "source": [
    "save_to_s3_bucket_as_libsvm(x_test_alt, y_test_alt, \n",
    "                            prefix='test', filename='model_2_1_alt.libsvm', tipo='modelo')"
   ]
  },
  {
   "cell_type": "code",
   "execution_count": 20,
   "id": "b994a667",
   "metadata": {},
   "outputs": [],
   "source": [
    "y_pred_alt = make_prediction(xgb_predictor_1, model_name='model_2_1_alt')\n",
    "\n",
    "# Alternativa para carregar resultados salvos em outra execução\n",
    "# from python_scripts.save_load import BUCKET_MODEL\n",
    "# y_pred_alt = pd.read_csv(f's3://{BUCKET_MODEL}/test/pred_2_alt.csv')"
   ]
  },
  {
   "cell_type": "markdown",
   "id": "b499fac6",
   "metadata": {},
   "source": [
    "## Métricas"
   ]
  },
  {
   "cell_type": "code",
   "execution_count": 21,
   "id": "6d29f3d1",
   "metadata": {},
   "outputs": [
    {
     "name": "stdout",
     "output_type": "stream",
     "text": [
      "              precision    recall  f1-score   support\n",
      "\n",
      "           0       0.66      0.92      0.77       373\n",
      "           1       0.89      0.59      0.71       427\n",
      "\n",
      "    accuracy                           0.74       800\n",
      "   macro avg       0.78      0.75      0.74       800\n",
      "weighted avg       0.78      0.74      0.74       800\n",
      "\n"
     ]
    }
   ],
   "source": [
    "print(classification_report(y_test_alt, y_pred_alt))"
   ]
  },
  {
   "cell_type": "code",
   "execution_count": 22,
   "id": "a65e542f",
   "metadata": {},
   "outputs": [
    {
     "data": {
      "image/png": "[encoded data removed]",
      "text/plain": [
       "<Figure size 432x288 with 1 Axes>"
      ]
     },
     "metadata": {
      "needs_background": "light"
     },
     "output_type": "display_data"
    }
   ],
   "source": [
    "plot_confusion_matrix(y_test_alt, y_pred_alt)"
   ]
  },
  {
   "cell_type": "code",
   "execution_count": 24,
   "id": "4daefdd0",
   "metadata": {},
   "outputs": [
    {
     "data": {
      "text/plain": [
       "0.8928571428571429"
      ]
     },
     "execution_count": 24,
     "metadata": {},
     "output_type": "execute_result"
    }
   ],
   "source": [
    "precision_score(y_test_alt, y_pred_alt)"
   ]
  },
  {
   "cell_type": "markdown",
   "id": "2a84de3c",
   "metadata": {},
   "source": [
    "Ao se avaliar o modelo com o dataset Fake.br-Corpus, verifica-se uma precisão ainda maior do que a obtida com o set de teste do dataset FakeRecogna, utilizado no treinamento do modelo. Todavia, é necessário atentar-se ao aumento considerável de falsos negativos neste teste, que leva a valores menores de recall (0.59 neste teste, contra 0.93 no conjunto de testes do FakeRecogna) e F1-score (0.71 vs 0.90). O modelo aqui obtido prefere classificar as notícias como verdadeiras quando são muito diferentes do dataset utilizado no treinamento.\n",
    "\n",
    "Um modelo combinado, treinado baseado nos dois datasets, é apresentado no notebook `model_combinado.ipynb`."
   ]
  },
  {
   "cell_type": "markdown",
   "id": "e0bf5d6f",
   "metadata": {},
   "source": [
    "#### Salvar predição"
   ]
  },
  {
   "cell_type": "code",
   "execution_count": 25,
   "id": "0047bbbe",
   "metadata": {},
   "outputs": [],
   "source": [
    "df_pred_alt = pd.DataFrame({'pred_2_alt': y_pred_alt})\n",
    "df_pred_alt.to_csv(f's3://{BUCKET_MODEL}/test/pred_2_alt.csv', encoding='utf-8', index=False)"
   ]
  },
  {
   "cell_type": "markdown",
   "id": "a09e87e9",
   "metadata": {},
   "source": [
    "### Encerrar modelo\n",
    "Após pegar métricas e dados de interesse, encerrar modelo para evitar cobranças."
   ]
  },
  {
   "cell_type": "code",
   "execution_count": 26,
   "id": "68bc4c19",
   "metadata": {},
   "outputs": [],
   "source": [
    "xgb_predictor_1.delete_endpoint(delete_endpoint_config=True) "
   ]
  }
 ],
 "metadata": {
  "kernelspec": {
   "display_name": "conda_amazonei_tensorflow2_p36",
   "language": "python",
   "name": "conda_amazonei_tensorflow2_p36"
  },
  "language_info": {
   "codemirror_mode": {
    "name": "ipython",
    "version": 3
   },
   "file_extension": ".py",
   "mimetype": "text/x-python",
   "name": "python",
   "nbconvert_exporter": "python",
   "pygments_lexer": "ipython3",
   "version": "3.6.13"
  }
 },
 "nbformat": 4,
 "nbformat_minor": 5
}
