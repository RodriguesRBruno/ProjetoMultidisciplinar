{
 "cells": [
  {
   "cell_type": "markdown",
   "id": "6f5689ec",
   "metadata": {},
   "source": [
    "# Treinamento e validação de Modelos - Dataset Combinado\n",
    "Treinamento de um modelo usando como base um dataset combinado, constituído dos dois datasets utilizados ao longo do projeto: \n",
    "- Fake.br-Corpus: https://github.com/roneysco/Fake.br-Corpus\n",
    "- FakeRecogna: https://github.com/Gabriel-Lino-Garcia/FakeRecogna \n",
    "\n",
    "Espera-se que um modelo treinado a partir de ambos datasets possua um desempenho melhor em uma maior variedade de notícias."
   ]
  },
  {
   "cell_type": "code",
   "execution_count": 1,
   "id": "578aa0a1",
   "metadata": {},
   "outputs": [
    {
     "name": "stdout",
     "output_type": "stream",
     "text": [
      "Looking in indexes: https://pypi.org/simple, https://pip.repos.neuron.amazonaws.com\n",
      "Collecting wordcloud\n",
      "  Downloading wordcloud-1.8.2.2-cp36-cp36m-manylinux_2_17_x86_64.manylinux2014_x86_64.whl (435 kB)\n",
      "     |████████████████████████████████| 435 kB 30.7 MB/s            \n",
      "\u001b[?25hRequirement already satisfied: pillow in /home/ec2-user/anaconda3/envs/amazonei_tensorflow2_p36/lib/python3.6/site-packages (from wordcloud) (8.4.0)\n",
      "Requirement already satisfied: numpy>=1.6.1 in /home/ec2-user/anaconda3/envs/amazonei_tensorflow2_p36/lib/python3.6/site-packages (from wordcloud) (1.19.5)\n",
      "Requirement already satisfied: matplotlib in /home/ec2-user/anaconda3/envs/amazonei_tensorflow2_p36/lib/python3.6/site-packages (from wordcloud) (3.3.4)\n",
      "Requirement already satisfied: pyparsing!=2.0.4,!=2.1.2,!=2.1.6,>=2.0.3 in /home/ec2-user/anaconda3/envs/amazonei_tensorflow2_p36/lib/python3.6/site-packages (from matplotlib->wordcloud) (2.4.7)\n",
      "Requirement already satisfied: python-dateutil>=2.1 in /home/ec2-user/anaconda3/envs/amazonei_tensorflow2_p36/lib/python3.6/site-packages (from matplotlib->wordcloud) (2.8.1)\n",
      "Requirement already satisfied: kiwisolver>=1.0.1 in /home/ec2-user/anaconda3/envs/amazonei_tensorflow2_p36/lib/python3.6/site-packages (from matplotlib->wordcloud) (1.3.1)\n",
      "Requirement already satisfied: cycler>=0.10 in /home/ec2-user/anaconda3/envs/amazonei_tensorflow2_p36/lib/python3.6/site-packages (from matplotlib->wordcloud) (0.10.0)\n",
      "Requirement already satisfied: six in /home/ec2-user/anaconda3/envs/amazonei_tensorflow2_p36/lib/python3.6/site-packages (from cycler>=0.10->matplotlib->wordcloud) (1.15.0)\n",
      "Installing collected packages: wordcloud\n",
      "Successfully installed wordcloud-1.8.2.2\n",
      "Note: you may need to restart the kernel to use updated packages.\n"
     ]
    }
   ],
   "source": [
    "# Se necessário\n",
    "%pip install wordcloud"
   ]
  },
  {
   "cell_type": "code",
   "execution_count": 2,
   "id": "15764eb3",
   "metadata": {},
   "outputs": [],
   "source": [
    "import os\n",
    "import sagemaker\n",
    "import pandas as pd\n",
    "from sklearn.feature_extraction.text import TfidfVectorizer\n",
    "from sklearn.metrics import classification_report, precision_score\n",
    "from python_scripts.save_load import load_df_from_bucket, save_df_to_s3_bucket, save_to_s3_bucket_as_libsvm, BUCKET_MODEL\n",
    "from python_scripts.modelling import create_train_validation_test_sets, setup_model, make_prediction\n",
    "from python_scripts.plots import plot_confusion_matrix"
   ]
  },
  {
   "cell_type": "markdown",
   "id": "8387e2c8",
   "metadata": {},
   "source": [
    "## Carregamento de dados\n",
    "O dataset combinado já foi criado e salvo no notebook `preprocessing.ipynb`. Aqui, ele é apenas carregado novamente a partir do S3."
   ]
  },
  {
   "cell_type": "code",
   "execution_count": 3,
   "id": "1223cb5c",
   "metadata": {},
   "outputs": [
    {
     "data": {
      "text/html": [
       "<div>\n",
       "<style scoped>\n",
       "    .dataframe tbody tr th:only-of-type {\n",
       "        vertical-align: middle;\n",
       "    }\n",
       "\n",
       "    .dataframe tbody tr th {\n",
       "        vertical-align: top;\n",
       "    }\n",
       "\n",
       "    .dataframe thead th {\n",
       "        text-align: right;\n",
       "    }\n",
       "</style>\n",
       "<table border=\"1\" class=\"dataframe\">\n",
       "  <thead>\n",
       "    <tr style=\"text-align: right;\">\n",
       "      <th></th>\n",
       "      <th>fake</th>\n",
       "      <th>lemmas_str</th>\n",
       "    </tr>\n",
       "  </thead>\n",
       "  <tbody>\n",
       "    <tr>\n",
       "      <th>0</th>\n",
       "      <td>0</td>\n",
       "      <td>divisão STF meio partidário independente ficar...</td>\n",
       "    </tr>\n",
       "    <tr>\n",
       "      <th>1</th>\n",
       "      <td>1</td>\n",
       "      <td>general mandar recado STF abaixar calça congre...</td>\n",
       "    </tr>\n",
       "    <tr>\n",
       "      <th>2</th>\n",
       "      <td>1</td>\n",
       "      <td>nordeste acordar Lula PT enxotar chegar bandei...</td>\n",
       "    </tr>\n",
       "    <tr>\n",
       "      <th>3</th>\n",
       "      <td>0</td>\n",
       "      <td>dois relatório Polícia Federal análise materia...</td>\n",
       "    </tr>\n",
       "    <tr>\n",
       "      <th>4</th>\n",
       "      <td>1</td>\n",
       "      <td>Coreia Norte declarar status QUASE-GUERRA mobi...</td>\n",
       "    </tr>\n",
       "  </tbody>\n",
       "</table>\n",
       "</div>"
      ],
      "text/plain": [
       "   fake                                         lemmas_str\n",
       "0     0  divisão STF meio partidário independente ficar...\n",
       "1     1  general mandar recado STF abaixar calça congre...\n",
       "2     1  nordeste acordar Lula PT enxotar chegar bandei...\n",
       "3     0  dois relatório Polícia Federal análise materia...\n",
       "4     1  Coreia Norte declarar status QUASE-GUERRA mobi..."
      ]
     },
     "execution_count": 3,
     "metadata": {},
     "output_type": "execute_result"
    }
   ],
   "source": [
    "model_df = load_df_from_bucket('dados_processados_combinados.csv', tipo='processado')\n",
    "model_df.head()"
   ]
  },
  {
   "cell_type": "markdown",
   "id": "40058ed2",
   "metadata": {},
   "source": [
    "## Modelo 1: TF-IDF baseado no texto da notícia\n",
    "Vetorização TF-IDF é aplicada somente à coluna de texto da notícia. Demais colunas de dados não são consideradas."
   ]
  },
  {
   "cell_type": "code",
   "execution_count": 33,
   "id": "42af87df",
   "metadata": {},
   "outputs": [],
   "source": [
    "# Tamanhos de teste e validação garantem que o arquivo de teste seja < 5 MB, facilita implementação\n",
    "train_1, test_1, validate_1 = create_train_validation_test_sets(model_df, \n",
    "                                                                stratify_col='fake',\n",
    "                                                                test_size=0.1, random_state=42,\n",
    "                                                                validation_size=0.55)"
   ]
  },
  {
   "cell_type": "markdown",
   "id": "bb737867",
   "metadata": {},
   "source": [
    "### Processamento adicional\n",
    "\n",
    "Um vetorizador TFIDF é utilizado para converter os dados textuais em colunas do DataFrame."
   ]
  },
  {
   "cell_type": "code",
   "execution_count": 34,
   "id": "73b09dff",
   "metadata": {},
   "outputs": [
    {
     "data": {
      "text/plain": [
       "TfidfVectorizer(lowercase=False, ngram_range=(1, 2))"
      ]
     },
     "execution_count": 34,
     "metadata": {},
     "output_type": "execute_result"
    }
   ],
   "source": [
    "# Criar vetorizador TFIDF e ajustar aos dados de treinamento\n",
    "tfidf = TfidfVectorizer(lowercase=False, ngram_range = (1,2))\n",
    "tfidf.fit(train_1['lemmas_str'])"
   ]
  },
  {
   "cell_type": "code",
   "execution_count": 35,
   "id": "bc597aac",
   "metadata": {},
   "outputs": [],
   "source": [
    "def create_x_y_1(base_df, tfidf, target_col='fake', lemma_col = 'lemmas_str'):\n",
    "    tfidf_res = tfidf.transform(base_df[lemma_col])\n",
    "    return tfidf_res, base_df[target_col]\n",
    "\n",
    "x_train_1, y_train_1 = create_x_y_1(train_1, tfidf)\n",
    "x_validate_1, y_validate_1 = create_x_y_1(validate_1, tfidf)\n",
    "x_test_1, y_test_1 = create_x_y_1(test_1, tfidf)"
   ]
  },
  {
   "cell_type": "markdown",
   "id": "07033a02",
   "metadata": {},
   "source": [
    "### Upload de dados para o S3"
   ]
  },
  {
   "cell_type": "code",
   "execution_count": 7,
   "id": "c04e9a72",
   "metadata": {},
   "outputs": [
    {
     "name": "stderr",
     "output_type": "stream",
     "text": [
      "/home/ec2-user/anaconda3/envs/amazonei_tensorflow2_p36/lib/python3.6/site-packages/boto3/compat.py:88: PythonDeprecationWarning: Boto3 will no longer support Python 3.6 starting May 30, 2022. To continue receiving service updates, bug fixes, and security updates please upgrade to Python 3.7 or later. More information can be found here: https://aws.amazon.com/blogs/developer/python-support-policy-updates-for-aws-sdks-and-tools/\n",
      "  warnings.warn(warning, PythonDeprecationWarning)\n",
      "/home/ec2-user/anaconda3/envs/amazonei_tensorflow2_p36/lib/python3.6/site-packages/boto3/compat.py:88: PythonDeprecationWarning: Boto3 will no longer support Python 3.6 starting May 30, 2022. To continue receiving service updates, bug fixes, and security updates please upgrade to Python 3.7 or later. More information can be found here: https://aws.amazon.com/blogs/developer/python-support-policy-updates-for-aws-sdks-and-tools/\n",
      "  warnings.warn(warning, PythonDeprecationWarning)\n",
      "/home/ec2-user/anaconda3/envs/amazonei_tensorflow2_p36/lib/python3.6/site-packages/boto3/compat.py:88: PythonDeprecationWarning: Boto3 will no longer support Python 3.6 starting May 30, 2022. To continue receiving service updates, bug fixes, and security updates please upgrade to Python 3.7 or later. More information can be found here: https://aws.amazon.com/blogs/developer/python-support-policy-updates-for-aws-sdks-and-tools/\n",
      "  warnings.warn(warning, PythonDeprecationWarning)\n"
     ]
    }
   ],
   "source": [
    "file_name_tuples = [(x_train_1, y_train_1, 'train'), \n",
    "                   (x_test_1, y_test_1, 'test'), \n",
    "                   (x_validate_1, y_validate_1, 'validate')]\n",
    "\n",
    "for x, y, prefix in file_name_tuples:\n",
    "    save_to_s3_bucket_as_libsvm(x, y, prefix=prefix, filename='model_1_combo.libsvm', tipo='modelo')"
   ]
  },
  {
   "cell_type": "markdown",
   "id": "2f10a2eb",
   "metadata": {},
   "source": [
    "### Treinar modelo"
   ]
  },
  {
   "cell_type": "code",
   "execution_count": 8,
   "id": "a059e546",
   "metadata": {},
   "outputs": [
    {
     "name": "stdout",
     "output_type": "stream",
     "text": [
      "2022-11-15 22:21:57 Starting - Starting the training job...ProfilerReport-1668550916: InProgress\n",
      "...\n",
      "2022-11-15 22:22:48 Starting - Preparing the instances for training............\n",
      "2022-11-15 22:24:48 Downloading - Downloading input data...\n",
      "2022-11-15 22:25:25 Training - Downloading the training image......\n",
      "2022-11-15 22:26:16 Training - Training image download completed. Training in progress.\u001b[35m[2022-11-15 22:26:20.549 ip-10-0-66-226.ec2.internal:8 INFO utils.py:27] RULE_JOB_STOP_SIGNAL_FILENAME: None\u001b[0m\n",
      "\u001b[35m[2022-11-15:22:26:20:INFO] Imported framework sagemaker_xgboost_container.training\u001b[0m\n",
      "\u001b[35m[2022-11-15:22:26:20:INFO] Failed to parse hyperparameter eval_metric value map to Json.\u001b[0m\n",
      "\u001b[35mReturning the value itself\u001b[0m\n",
      "\u001b[35m[2022-11-15:22:26:20:INFO] Failed to parse hyperparameter objective value binary:logistic to Json.\u001b[0m\n",
      "\u001b[35mReturning the value itself\u001b[0m\n",
      "\u001b[35m[2022-11-15:22:26:20:INFO] No GPUs detected (normal if no gpus installed)\u001b[0m\n",
      "\u001b[35m[2022-11-15:22:26:20:INFO] Running XGBoost Sagemaker in algorithm mode\u001b[0m\n",
      "\u001b[35m[2022-11-15:22:26:20:INFO] files path: /opt/ml/input/data/train\u001b[0m\n",
      "\u001b[35m[2022-11-15:22:26:21:INFO] files path: /opt/ml/input/data/validation\u001b[0m\n",
      "\u001b[35m[2022-11-15:22:26:21:INFO] Distributed node training with 4 hosts: ['algo-1', 'algo-2', 'algo-3', 'algo-4']\u001b[0m\n",
      "\u001b[35m[2022-11-15:22:26:21:INFO] Failed to connect to RabitTracker on attempt 0\u001b[0m\n",
      "\u001b[35m[2022-11-15:22:26:21:INFO] Sleeping for 3 sec before retrying\u001b[0m\n",
      "\u001b[34m[2022-11-15 22:26:21.621 ip-10-0-106-3.ec2.internal:7 INFO utils.py:27] RULE_JOB_STOP_SIGNAL_FILENAME: None\u001b[0m\n",
      "\u001b[34m[2022-11-15:22:26:21:INFO] Imported framework sagemaker_xgboost_container.training\u001b[0m\n",
      "\u001b[34m[2022-11-15:22:26:21:INFO] Failed to parse hyperparameter eval_metric value map to Json.\u001b[0m\n",
      "\u001b[34mReturning the value itself\u001b[0m\n",
      "\u001b[34m[2022-11-15:22:26:21:INFO] Failed to parse hyperparameter objective value binary:logistic to Json.\u001b[0m\n",
      "\u001b[34mReturning the value itself\u001b[0m\n",
      "\u001b[34m[2022-11-15:22:26:21:INFO] No GPUs detected (normal if no gpus installed)\u001b[0m\n",
      "\u001b[34m[2022-11-15:22:26:21:INFO] Running XGBoost Sagemaker in algorithm mode\u001b[0m\n",
      "\u001b[34m[2022-11-15:22:26:21:INFO] files path: /opt/ml/input/data/train\u001b[0m\n",
      "\u001b[34m[2022-11-15:22:26:22:INFO] files path: /opt/ml/input/data/validation\u001b[0m\n",
      "\u001b[34m[2022-11-15:22:26:22:INFO] Distributed node training with 4 hosts: ['algo-1', 'algo-2', 'algo-3', 'algo-4']\u001b[0m\n",
      "\u001b[34m[2022-11-15:22:26:22:INFO] start listen on algo-1:9099\u001b[0m\n",
      "\u001b[34m[2022-11-15:22:26:22:INFO] Rabit slave environment: {'DMLC_TRACKER_URI': 'algo-1', 'DMLC_TRACKER_PORT': 9099}\u001b[0m\n",
      "\u001b[34m[2022-11-15:22:26:22:INFO] No data received from connection ('10.0.106.3', 59498). Closing.\u001b[0m\n",
      "\u001b[34m[2022-11-15:22:26:22:INFO] Connected to RabitTracker.\u001b[0m\n",
      "\u001b[34m[2022-11-15:22:26:24:INFO] No data received from connection ('10.0.66.226', 40818). Closing.\u001b[0m\n",
      "\u001b[34m[2022-11-15:22:26:24:INFO] No data received from connection ('10.0.81.183', 38628). Closing.\u001b[0m\n",
      "\u001b[34m[2022-11-15:22:26:24:INFO] No data received from connection ('10.0.87.15', 49494). Closing.\u001b[0m\n",
      "\u001b[34m[22:26:24] task NULL got new rank 0\u001b[0m\n",
      "\u001b[34m[2022-11-15:22:26:24:INFO] Recieve start signal from 10.0.106.3; assign rank 0\u001b[0m\n",
      "\u001b[34m[2022-11-15:22:26:24:INFO] Recieve start signal from 10.0.66.226; assign rank 1\u001b[0m\n",
      "\u001b[34m[2022-11-15:22:26:24:INFO] Recieve start signal from 10.0.81.183; assign rank 2\u001b[0m\n",
      "\u001b[34m[2022-11-15:22:26:24:INFO] Recieve start signal from 10.0.87.15; assign rank 3\u001b[0m\n",
      "\u001b[34m[2022-11-15:22:26:24:INFO] @tracker All of 4 nodes getting started\u001b[0m\n",
      "\u001b[34m[2022-11-15:22:26:24:INFO] @tracker All nodes finishes job\u001b[0m\n",
      "\u001b[34m[2022-11-15:22:26:24:INFO] @tracker 0.04507899284362793 secs between node start and job finish\u001b[0m\n",
      "\u001b[34m[2022-11-15:22:26:24:INFO] start listen on algo-1:9100\u001b[0m\n",
      "\u001b[34m[2022-11-15:22:26:24:INFO] Rabit slave environment: {'DMLC_TRACKER_URI': 'algo-1', 'DMLC_TRACKER_PORT': 9100}\u001b[0m\n",
      "\u001b[34m[2022-11-15:22:26:24:INFO] No data received from connection ('10.0.106.3', 44082). Closing.\u001b[0m\n",
      "\u001b[34m[2022-11-15:22:26:24:INFO] Connected to RabitTracker.\u001b[0m\n",
      "\u001b[35m[2022-11-15:22:26:24:INFO] Connected to RabitTracker.\u001b[0m\n",
      "\u001b[35m[22:26:24] task NULL got new rank 1\u001b[0m\n",
      "\u001b[35m[2022-11-15:22:26:24:INFO] Failed to connect to RabitTracker on attempt 0\u001b[0m\n",
      "\u001b[35m[2022-11-15:22:26:24:INFO] Sleeping for 3 sec before retrying\u001b[0m\n",
      "\u001b[36m[2022-11-15 22:26:20.972 ip-10-0-87-15.ec2.internal:8 INFO utils.py:27] RULE_JOB_STOP_SIGNAL_FILENAME: None\u001b[0m\n",
      "\u001b[36m[2022-11-15:22:26:21:INFO] Imported framework sagemaker_xgboost_container.training\u001b[0m\n",
      "\u001b[36m[2022-11-15:22:26:21:INFO] Failed to parse hyperparameter eval_metric value map to Json.\u001b[0m\n",
      "\u001b[36mReturning the value itself\u001b[0m\n",
      "\u001b[36m[2022-11-15:22:26:21:INFO] Failed to parse hyperparameter objective value binary:logistic to Json.\u001b[0m\n",
      "\u001b[36mReturning the value itself\u001b[0m\n",
      "\u001b[36m[2022-11-15:22:26:21:INFO] No GPUs detected (normal if no gpus installed)\u001b[0m\n",
      "\u001b[36m[2022-11-15:22:26:21:INFO] Running XGBoost Sagemaker in algorithm mode\u001b[0m\n",
      "\u001b[36m[2022-11-15:22:26:21:INFO] files path: /opt/ml/input/data/train\u001b[0m\n",
      "\u001b[36m[2022-11-15:22:26:21:INFO] files path: /opt/ml/input/data/validation\u001b[0m\n",
      "\u001b[36m[2022-11-15:22:26:21:INFO] Distributed node training with 4 hosts: ['algo-1', 'algo-2', 'algo-3', 'algo-4']\u001b[0m\n",
      "\u001b[36m[2022-11-15:22:26:21:INFO] Failed to connect to RabitTracker on attempt 0\u001b[0m\n",
      "\u001b[36m[2022-11-15:22:26:21:INFO] Sleeping for 3 sec before retrying\u001b[0m\n",
      "\u001b[32m[2022-11-15 22:26:20.737 ip-10-0-81-183.ec2.internal:8 INFO utils.py:27] RULE_JOB_STOP_SIGNAL_FILENAME: None\u001b[0m\n",
      "\u001b[32m[2022-11-15:22:26:20:INFO] Imported framework sagemaker_xgboost_container.training\u001b[0m\n",
      "\u001b[32m[2022-11-15:22:26:20:INFO] Failed to parse hyperparameter eval_metric value map to Json.\u001b[0m\n",
      "\u001b[32mReturning the value itself\u001b[0m\n",
      "\u001b[32m[2022-11-15:22:26:20:INFO] Failed to parse hyperparameter objective value binary:logistic to Json.\u001b[0m\n",
      "\u001b[32mReturning the value itself\u001b[0m\n",
      "\u001b[32m[2022-11-15:22:26:20:INFO] No GPUs detected (normal if no gpus installed)\u001b[0m\n",
      "\u001b[32m[2022-11-15:22:26:20:INFO] Running XGBoost Sagemaker in algorithm mode\u001b[0m\n",
      "\u001b[32m[2022-11-15:22:26:20:INFO] files path: /opt/ml/input/data/train\u001b[0m\n",
      "\u001b[32m[2022-11-15:22:26:21:INFO] files path: /opt/ml/input/data/validation\u001b[0m\n",
      "\u001b[32m[2022-11-15:22:26:21:INFO] Distributed node training with 4 hosts: ['algo-1', 'algo-2', 'algo-3', 'algo-4']\u001b[0m\n",
      "\u001b[32m[2022-11-15:22:26:21:INFO] Failed to connect to RabitTracker on attempt 0\u001b[0m\n",
      "\u001b[32m[2022-11-15:22:26:21:INFO] Sleeping for 3 sec before retrying\u001b[0m\n",
      "\u001b[32m[2022-11-15:22:26:24:INFO] Connected to RabitTracker.\u001b[0m\n",
      "\u001b[36m[2022-11-15:22:26:24:INFO] Connected to RabitTracker.\u001b[0m\n",
      "\u001b[36m[22:26:24] task NULL got new rank 3\u001b[0m\n",
      "\u001b[36m[2022-11-15:22:26:24:INFO] Failed to connect to RabitTracker on attempt 0\u001b[0m\n",
      "\u001b[36m[2022-11-15:22:26:24:INFO] Sleeping for 3 sec before retrying\u001b[0m\n",
      "\u001b[32m[22:26:24] task NULL got new rank 2\u001b[0m\n",
      "\u001b[32m[2022-11-15:22:26:24:INFO] Failed to connect to RabitTracker on attempt 0\u001b[0m\n",
      "\u001b[32m[2022-11-15:22:26:24:INFO] Sleeping for 3 sec before retrying\u001b[0m\n",
      "\u001b[34m[2022-11-15:22:26:27:INFO] No data received from connection ('10.0.81.183', 50342). Closing.\u001b[0m\n",
      "\u001b[34m[2022-11-15:22:26:27:INFO] No data received from connection ('10.0.87.15', 40514). Closing.\u001b[0m\n",
      "\u001b[35m[2022-11-15:22:26:27:INFO] Connected to RabitTracker.\u001b[0m\n",
      "\u001b[36m[2022-11-15:22:26:27:INFO] Connected to RabitTracker.\u001b[0m\n",
      "\u001b[36m[22:26:28] task NULL got new rank 3\u001b[0m\n",
      "\u001b[36m[2022-11-15:22:26:28:INFO] Train matrix has 17191 rows and 1711421 columns\u001b[0m\n",
      "\u001b[36m[2022-11-15:22:26:28:INFO] Validation matrix has 1052 rows\u001b[0m\n",
      "\u001b[36m[2022-11-15 22:26:28.316 ip-10-0-87-15.ec2.internal:8 INFO json_config.py:91] Creating hook from json_config at /opt/ml/input/config/debughookconfig.json.\u001b[0m\n",
      "\u001b[32m[2022-11-15:22:26:27:INFO] Connected to RabitTracker.\u001b[0m\n",
      "\u001b[32m[22:26:28] task NULL got new rank 2\u001b[0m\n",
      "\u001b[32m[2022-11-15:22:26:28:INFO] Train matrix has 17191 rows and 1711421 columns\u001b[0m\n",
      "\u001b[32m[2022-11-15:22:26:28:INFO] Validation matrix has 1052 rows\u001b[0m\n",
      "\u001b[32m[2022-11-15 22:26:28.309 ip-10-0-81-183.ec2.internal:8 INFO json_config.py:91] Creating hook from json_config at /opt/ml/input/config/debughookconfig.json.\u001b[0m\n",
      "\u001b[34m[2022-11-15:22:26:27:INFO] No data received from connection ('10.0.66.226', 54824). Closing.\u001b[0m\n",
      "\u001b[34m[22:26:28] task NULL got new rank 0\u001b[0m\n",
      "\u001b[34m[2022-11-15:22:26:28:INFO] Recieve start signal from 10.0.106.3; assign rank 0\u001b[0m\n",
      "\u001b[34m[2022-11-15:22:26:28:INFO] Recieve start signal from 10.0.66.226; assign rank 1\u001b[0m\n",
      "\u001b[34m[2022-11-15:22:26:28:INFO] Recieve start signal from 10.0.81.183; assign rank 2\u001b[0m\n",
      "\u001b[34m[2022-11-15:22:26:28:INFO] Recieve start signal from 10.0.87.15; assign rank 3\u001b[0m\n",
      "\u001b[34m[2022-11-15:22:26:28:INFO] @tracker All of 4 nodes getting started\u001b[0m\n",
      "\u001b[34m[2022-11-15:22:26:28:INFO] Train matrix has 17191 rows and 1711421 columns\u001b[0m\n",
      "\u001b[34m[2022-11-15:22:26:28:INFO] Validation matrix has 1052 rows\u001b[0m\n",
      "\u001b[34m[2022-11-15 22:26:28.309 ip-10-0-106-3.ec2.internal:7 INFO json_config.py:91] Creating hook from json_config at /opt/ml/input/config/debughookconfig.json.\u001b[0m\n",
      "\u001b[35m[22:26:28] task NULL got new rank 1\u001b[0m\n",
      "\u001b[35m[2022-11-15:22:26:28:INFO] Train matrix has 17191 rows and 1711421 columns\u001b[0m\n",
      "\u001b[35m[2022-11-15:22:26:28:INFO] Validation matrix has 1052 rows\u001b[0m\n",
      "\u001b[35m[2022-11-15 22:26:28.229 ip-10-0-66-226.ec2.internal:8 INFO json_config.py:91] Creating hook from json_config at /opt/ml/input/config/debughookconfig.json.\u001b[0m\n",
      "\u001b[34m[2022-11-15:22:27:56:INFO] [0]#011train-map:0.83005#011validation-map:0.76844\u001b[0m\n",
      "\u001b[34m[2022-11-15:22:29:02:INFO] [1]#011train-map:0.87530#011validation-map:0.82900\u001b[0m\n",
      "\u001b[34m[2022-11-15:22:30:11:INFO] [2]#011train-map:0.90534#011validation-map:0.84510\u001b[0m\n",
      "\u001b[34m[2022-11-15:22:31:06:INFO] [3]#011train-map:0.92859#011validation-map:0.89857\u001b[0m\n",
      "\u001b[34m[2022-11-15:22:32:07:INFO] [4]#011train-map:0.93921#011validation-map:0.91121\u001b[0m\n",
      "\u001b[34m[2022-11-15:22:33:04:INFO] [5]#011train-map:0.94704#011validation-map:0.91756\u001b[0m\n",
      "\u001b[34m[2022-11-15:22:34:00:INFO] [6]#011train-map:0.95332#011validation-map:0.92186\u001b[0m\n",
      "\u001b[34m[2022-11-15:22:34:47:INFO] [7]#011train-map:0.96152#011validation-map:0.93965\u001b[0m\n",
      "\u001b[34m[2022-11-15:22:35:50:INFO] [8]#011train-map:0.96331#011validation-map:0.94294\u001b[0m\n",
      "\u001b[34m[2022-11-15:22:36:37:INFO] [9]#011train-map:0.96601#011validation-map:0.94588\u001b[0m\n",
      "\u001b[34m[2022-11-15:22:37:31:INFO] [10]#011train-map:0.96879#011validation-map:0.95051\u001b[0m\n",
      "\u001b[34m[2022-11-15:22:38:32:INFO] [11]#011train-map:0.97114#011validation-map:0.95132\u001b[0m\n",
      "\u001b[34m[2022-11-15:22:39:18:INFO] [12]#011train-map:0.97295#011validation-map:0.95226\u001b[0m\n",
      "\u001b[34m[2022-11-15:22:39:51:INFO] [13]#011train-map:0.97408#011validation-map:0.95324\u001b[0m\n",
      "\u001b[34m[2022-11-15:22:40:46:INFO] [14]#011train-map:0.97601#011validation-map:0.95589\u001b[0m\n",
      "\u001b[34m[2022-11-15:22:41:46:INFO] [15]#011train-map:0.97936#011validation-map:0.96174\u001b[0m\n",
      "\u001b[34m[2022-11-15:22:42:37:INFO] [16]#011train-map:0.98122#011validation-map:0.96294\u001b[0m\n",
      "\u001b[34m[2022-11-15:22:43:22:INFO] [17]#011train-map:0.98197#011validation-map:0.96381\u001b[0m\n",
      "\u001b[34m[2022-11-15:22:44:06:INFO] [18]#011train-map:0.98279#011validation-map:0.96529\u001b[0m\n",
      "\u001b[34m[2022-11-15:22:44:53:INFO] [19]#011train-map:0.98398#011validation-map:0.96685\u001b[0m\n",
      "\u001b[34m[2022-11-15:22:45:31:INFO] [20]#011train-map:0.98489#011validation-map:0.96832\u001b[0m\n",
      "\u001b[34m[2022-11-15:22:46:21:INFO] [21]#011train-map:0.98573#011validation-map:0.96851\u001b[0m\n",
      "\u001b[34m[2022-11-15:22:47:07:INFO] [22]#011train-map:0.98624#011validation-map:0.96899\u001b[0m\n",
      "\u001b[34m[2022-11-15:22:48:05:INFO] [23]#011train-map:0.98713#011validation-map:0.96988\u001b[0m\n",
      "\u001b[34m[2022-11-15:22:48:48:INFO] [24]#011train-map:0.98797#011validation-map:0.96855\u001b[0m\n",
      "\u001b[34m[2022-11-15:22:49:29:INFO] [25]#011train-map:0.98849#011validation-map:0.96836\u001b[0m\n",
      "\u001b[34m[2022-11-15:22:50:15:INFO] [26]#011train-map:0.98935#011validation-map:0.96902\u001b[0m\n",
      "\u001b[34m[2022-11-15:22:50:55:INFO] [27]#011train-map:0.98965#011validation-map:0.96881\u001b[0m\n",
      "\u001b[34m[2022-11-15:22:51:38:INFO] [28]#011train-map:0.99011#011validation-map:0.97066\u001b[0m\n",
      "\u001b[34m[2022-11-15:22:52:26:INFO] [29]#011train-map:0.99062#011validation-map:0.97141\u001b[0m\n",
      "\u001b[34m[2022-11-15:22:53:13:INFO] [30]#011train-map:0.99102#011validation-map:0.97216\u001b[0m\n",
      "\u001b[34m[2022-11-15:22:54:02:INFO] [31]#011train-map:0.99134#011validation-map:0.97268\u001b[0m\n",
      "\u001b[34m[2022-11-15:22:54:35:INFO] [32]#011train-map:0.99169#011validation-map:0.97367\u001b[0m\n",
      "\u001b[34m[2022-11-15:22:55:24:INFO] [33]#011train-map:0.99221#011validation-map:0.97472\u001b[0m\n",
      "\u001b[34m[2022-11-15:22:55:59:INFO] [34]#011train-map:0.99252#011validation-map:0.97477\u001b[0m\n",
      "\u001b[34m[2022-11-15:22:56:41:INFO] [35]#011train-map:0.99276#011validation-map:0.97535\u001b[0m\n",
      "\u001b[34m[2022-11-15:22:57:34:INFO] [36]#011train-map:0.99306#011validation-map:0.97542\u001b[0m\n",
      "\u001b[34m[2022-11-15:22:58:20:INFO] [37]#011train-map:0.99344#011validation-map:0.97598\u001b[0m\n",
      "\u001b[34m[2022-11-15:22:58:53:INFO] [38]#011train-map:0.99374#011validation-map:0.97606\u001b[0m\n",
      "\u001b[34m[2022-11-15:22:59:26:INFO] [39]#011train-map:0.99404#011validation-map:0.97484\u001b[0m\n",
      "\u001b[34m[2022-11-15:23:00:06:INFO] [40]#011train-map:0.99426#011validation-map:0.97559\u001b[0m\n",
      "\u001b[34m[2022-11-15:23:00:46:INFO] [41]#011train-map:0.99451#011validation-map:0.97649\u001b[0m\n",
      "\u001b[34m[2022-11-15:23:00:46:INFO] @tracker All nodes finishes job\u001b[0m\n",
      "\u001b[34m[2022-11-15:23:00:46:INFO] @tracker 2058.474483728409 secs between node start and job finish\u001b[0m\n",
      "\n",
      "2022-11-15 23:01:18 Uploading - Uploading generated training model\n",
      "2022-11-15 23:01:18 Completed - Training job completed\n",
      "ProfilerReport-1668550916: NoIssuesFound\n",
      "Training seconds: 8804\n",
      "Billable seconds: 8804\n",
      "ready for hosting!\n"
     ]
    }
   ],
   "source": [
    "xgb_model_1, data_channels_1 = setup_model(base_image='xgboost', model_name='model_1_combo', instance_count=4, \n",
    "                                           instance_type='ml.m4.xlarge')\n",
    "xgb_model_1.fit(inputs=data_channels_1)\n",
    "\n",
    "print('ready for hosting!')"
   ]
  },
  {
   "cell_type": "code",
   "execution_count": 9,
   "id": "74aa910c",
   "metadata": {},
   "outputs": [
    {
     "name": "stdout",
     "output_type": "stream",
     "text": [
      "----------!"
     ]
    }
   ],
   "source": [
    "xgb_predictor_1 = xgb_model_1.deploy(initial_instance_count=1,\n",
    "                                     serializer=sagemaker.serializers.LibSVMSerializer(),\n",
    "                                     instance_type='ml.m4.xlarge')"
   ]
  },
  {
   "cell_type": "markdown",
   "id": "bd008105",
   "metadata": {},
   "source": [
    "### Métricas do modelo"
   ]
  },
  {
   "cell_type": "code",
   "execution_count": 39,
   "id": "90f19d54",
   "metadata": {},
   "outputs": [],
   "source": [
    "y_pred_1 = make_prediction(xgb_predictor_1, model_name='model_1_combo')\n",
    "\n",
    "# Alternativa para carregar resultados salvos em outra execução\n",
    "# from python_scripts.save_load import BUCKET_MODEL\n",
    "# y_pred_1 = pd.read_csv(f's3://{BUCKET_MODEL}/test/pred_1_combo.csv')"
   ]
  },
  {
   "cell_type": "code",
   "execution_count": 11,
   "id": "a0c1feff",
   "metadata": {},
   "outputs": [
    {
     "name": "stdout",
     "output_type": "stream",
     "text": [
      "              precision    recall  f1-score   support\n",
      "\n",
      "           0       0.94      0.87      0.90       430\n",
      "           1       0.88      0.94      0.91       429\n",
      "\n",
      "    accuracy                           0.91       859\n",
      "   macro avg       0.91      0.91      0.91       859\n",
      "weighted avg       0.91      0.91      0.91       859\n",
      "\n"
     ]
    }
   ],
   "source": [
    "print(classification_report(y_test_1, y_pred_1))"
   ]
  },
  {
   "cell_type": "code",
   "execution_count": 41,
   "id": "184ac7aa",
   "metadata": {},
   "outputs": [
    {
     "data": {
      "image/png": "[encoded data removed]",
      "text/plain": [
       "<Figure size 432x288 with 1 Axes>"
      ]
     },
     "metadata": {
      "needs_background": "light"
     },
     "output_type": "display_data"
    }
   ],
   "source": [
    "plot_confusion_matrix(y_test_1, y_pred_1)"
   ]
  },
  {
   "cell_type": "code",
   "execution_count": 42,
   "id": "ffd01475",
   "metadata": {},
   "outputs": [
    {
     "data": {
      "text/plain": [
       "0.8766233766233766"
      ]
     },
     "execution_count": 42,
     "metadata": {},
     "output_type": "execute_result"
    }
   ],
   "source": [
    "precision_score(y_test_1, y_pred_1)"
   ]
  },
  {
   "cell_type": "markdown",
   "id": "3b98235e",
   "metadata": {},
   "source": [
    "Verifica-se um excelente desempenho do modelo baseado no dataset combinado, com 87.7% de precisão. Todavia, como foi visto no notebook `model_fakebr.ipynb`, é necessário ter cautela ao extrapolar os resultados para verificação de notícias fora dos datasets estudados. Idealmente, o modelo seria aprimorado ao longo do tempo com cada vez mais textos de notícias, a fim de garantir sua precisão na detecção de notícias falsas.\n",
    "\n",
    "Mais adiante neste mesmo notebook, um job de otimização de hiperparâmetros será executado para verificar a possibilidade de aprimorar aindam ais este modelo."
   ]
  },
  {
   "cell_type": "markdown",
   "id": "06ce5dfb",
   "metadata": {},
   "source": [
    "### Salvar predição"
   ]
  },
  {
   "cell_type": "code",
   "execution_count": 12,
   "id": "9ff49654",
   "metadata": {},
   "outputs": [],
   "source": [
    "df_pred_alt = pd.DataFrame({'pred_1_combo': y_pred_1})\n",
    "df_pred_alt.to_csv(f's3://{BUCKET_MODEL}/test/pred_1_combo.csv', encoding='utf-8', index=False)"
   ]
  },
  {
   "cell_type": "markdown",
   "id": "2b70e2f4",
   "metadata": {},
   "source": [
    "### Encerrar modelo"
   ]
  },
  {
   "cell_type": "code",
   "execution_count": 13,
   "id": "4a3f358e",
   "metadata": {},
   "outputs": [],
   "source": [
    "xgb_predictor_1.delete_endpoint(delete_endpoint_config=True) "
   ]
  },
  {
   "cell_type": "markdown",
   "id": "2888f707",
   "metadata": {},
   "source": [
    "## Modelo 2: Otimização de Hiperparâmetros\n",
    "Este modelo é treinado analogamente ao primeiro modelo, porém aplicando otimização de hiperparâmetros para tentar otimizar o modelo."
   ]
  },
  {
   "cell_type": "code",
   "execution_count": 4,
   "id": "7f38c98b",
   "metadata": {},
   "outputs": [],
   "source": [
    "# Tamanhos de teste e validação garantem que o arquivo de teste seja < 5 MB, facilita implementação\n",
    "train_2, test_2, validate_2 = create_train_validation_test_sets(model_df, \n",
    "                                                                stratify_col='fake',\n",
    "                                                                test_size=0.1, random_state=42,\n",
    "                                                                validation_size=0.55)"
   ]
  },
  {
   "cell_type": "markdown",
   "id": "0de940b3",
   "metadata": {},
   "source": [
    "### Processamento adicional\n",
    "\n",
    "Mesmo processamento feito para o modelo 1."
   ]
  },
  {
   "cell_type": "code",
   "execution_count": 5,
   "id": "cc715fc3",
   "metadata": {},
   "outputs": [
    {
     "data": {
      "text/plain": [
       "TfidfVectorizer(lowercase=False, ngram_range=(1, 2))"
      ]
     },
     "execution_count": 5,
     "metadata": {},
     "output_type": "execute_result"
    }
   ],
   "source": [
    "# Criar vetorizador TFIDF e ajustar aos dados de treinamento\n",
    "tfidf = TfidfVectorizer(lowercase=False, ngram_range = (1,2))\n",
    "tfidf.fit(train_2['lemmas_str'])"
   ]
  },
  {
   "cell_type": "code",
   "execution_count": 6,
   "id": "e0786d21",
   "metadata": {},
   "outputs": [],
   "source": [
    "def create_x_y_2(base_df, tfidf, target_col='fake', lemma_col = 'lemmas_str'):\n",
    "    tfidf_res = tfidf.transform(base_df[lemma_col])\n",
    "    return tfidf_res, base_df[target_col]\n",
    "\n",
    "x_train_2, y_train_2 = create_x_y_2(train_2, tfidf)\n",
    "x_validate_2, y_validate_2 = create_x_y_2(validate_2, tfidf)\n",
    "x_test_2, y_test_2 = create_x_y_2(test_2, tfidf)"
   ]
  },
  {
   "cell_type": "markdown",
   "id": "85f68acb",
   "metadata": {},
   "source": [
    "### Upload para o S3"
   ]
  },
  {
   "cell_type": "code",
   "execution_count": 7,
   "id": "f361d2d5",
   "metadata": {},
   "outputs": [
    {
     "name": "stderr",
     "output_type": "stream",
     "text": [
      "/home/ec2-user/anaconda3/envs/amazonei_tensorflow2_p36/lib/python3.6/site-packages/boto3/compat.py:88: PythonDeprecationWarning: Boto3 will no longer support Python 3.6 starting May 30, 2022. To continue receiving service updates, bug fixes, and security updates please upgrade to Python 3.7 or later. More information can be found here: https://aws.amazon.com/blogs/developer/python-support-policy-updates-for-aws-sdks-and-tools/\n",
      "  warnings.warn(warning, PythonDeprecationWarning)\n",
      "/home/ec2-user/anaconda3/envs/amazonei_tensorflow2_p36/lib/python3.6/site-packages/boto3/compat.py:88: PythonDeprecationWarning: Boto3 will no longer support Python 3.6 starting May 30, 2022. To continue receiving service updates, bug fixes, and security updates please upgrade to Python 3.7 or later. More information can be found here: https://aws.amazon.com/blogs/developer/python-support-policy-updates-for-aws-sdks-and-tools/\n",
      "  warnings.warn(warning, PythonDeprecationWarning)\n",
      "/home/ec2-user/anaconda3/envs/amazonei_tensorflow2_p36/lib/python3.6/site-packages/boto3/compat.py:88: PythonDeprecationWarning: Boto3 will no longer support Python 3.6 starting May 30, 2022. To continue receiving service updates, bug fixes, and security updates please upgrade to Python 3.7 or later. More information can be found here: https://aws.amazon.com/blogs/developer/python-support-policy-updates-for-aws-sdks-and-tools/\n",
      "  warnings.warn(warning, PythonDeprecationWarning)\n"
     ]
    }
   ],
   "source": [
    "file_name_tuples = [(x_train_2, y_train_2, 'train'), \n",
    "                   (x_test_2, y_test_2, 'test'), \n",
    "                   (x_validate_2, y_validate_2, 'validate')]\n",
    "\n",
    "for x, y, prefix in file_name_tuples:\n",
    "    save_to_s3_bucket_as_libsvm(x, y, prefix=prefix, filename='model_2_combo.libsvm', tipo='modelo')"
   ]
  },
  {
   "cell_type": "markdown",
   "id": "0ee20d7b",
   "metadata": {},
   "source": [
    "### Preparar modelo e job de otimização"
   ]
  },
  {
   "cell_type": "code",
   "execution_count": 10,
   "id": "ddfb5068",
   "metadata": {},
   "outputs": [],
   "source": [
    "from sagemaker.tuner import IntegerParameter, CategoricalParameter, ContinuousParameter, HyperparameterTuner\n",
    "xgb_model_2, data_channels_2 = setup_model(base_image='xgboost', model_name='model_1_combo', instance_count=4, \n",
    "                                           instance_type='ml.m4.xlarge')\n",
    "\n",
    "# Poucos hiperparâmetros para não estourar limite de 4h por sessão!\n",
    "hyperparameter_ranges = {'alpha': ContinuousParameter(0, 100),\n",
    "                         'eta': ContinuousParameter(0.1, 0.5),  \n",
    "                         'num_round': IntegerParameter(1,50),\n",
    "                         'max_depth': IntegerParameter(0,10),\n",
    "                         'subsample': ContinuousParameter(0.5 ,1.0)\n",
    "                         }\n",
    "\n",
    "objective_metric_name = 'validation:map'\n",
    "objective_type = 'Maximize'\n",
    "\n",
    "tuner = HyperparameterTuner(xgb_model_2,\n",
    "                            objective_metric_name,\n",
    "                            hyperparameter_ranges,\n",
    "                            max_jobs=20,\n",
    "                            max_parallel_jobs=5,\n",
    "                            objective_type=objective_type,\n",
    "                            early_stopping_type='Auto')"
   ]
  },
  {
   "cell_type": "markdown",
   "id": "04cc0ce1",
   "metadata": {},
   "source": [
    "### Treinamento com otimização"
   ]
  },
  {
   "cell_type": "code",
   "execution_count": 11,
   "id": "91b6b727",
   "metadata": {},
   "outputs": [
    {
     "name": "stderr",
     "output_type": "stream",
     "text": [
      "No finished training job found associated with this estimator. Please make sure this estimator is only used for building workflow config\n",
      "No finished training job found associated with this estimator. Please make sure this estimator is only used for building workflow config\n"
     ]
    },
    {
     "name": "stdout",
     "output_type": "stream",
     "text": [
      "................................................................................................................................................................................................................................................................................................................................................................................................................................................................................................................................................................................................................................................................................................................................................................................!\n",
      "!\n"
     ]
    }
   ],
   "source": [
    "tuner.fit(inputs=data_channels_2, include_cls_metadata=False)\n",
    "tuner.wait()"
   ]
  },
  {
   "cell_type": "code",
   "execution_count": 12,
   "id": "198d633f",
   "metadata": {},
   "outputs": [
    {
     "data": {
      "text/plain": [
       "'Completed'"
      ]
     },
     "execution_count": 12,
     "metadata": {},
     "output_type": "execute_result"
    }
   ],
   "source": [
    "import boto3\n",
    "boto3.client('sagemaker').describe_hyper_parameter_tuning_job(\n",
    "    HyperParameterTuningJobName=tuner.latest_tuning_job.job_name)['HyperParameterTuningJobStatus']"
   ]
  },
  {
   "cell_type": "markdown",
   "id": "8e514e8a",
   "metadata": {},
   "source": [
    "#### Verificar os 10 melhores modelos"
   ]
  },
  {
   "cell_type": "code",
   "execution_count": 13,
   "id": "802fd3ad",
   "metadata": {},
   "outputs": [
    {
     "data": {
      "text/html": [
       "<div>\n",
       "<style scoped>\n",
       "    .dataframe tbody tr th:only-of-type {\n",
       "        vertical-align: middle;\n",
       "    }\n",
       "\n",
       "    .dataframe tbody tr th {\n",
       "        vertical-align: top;\n",
       "    }\n",
       "\n",
       "    .dataframe thead th {\n",
       "        text-align: right;\n",
       "    }\n",
       "</style>\n",
       "<table border=\"1\" class=\"dataframe\">\n",
       "  <thead>\n",
       "    <tr style=\"text-align: right;\">\n",
       "      <th></th>\n",
       "      <th>alpha</th>\n",
       "      <th>eta</th>\n",
       "      <th>max_depth</th>\n",
       "      <th>num_round</th>\n",
       "      <th>subsample</th>\n",
       "      <th>TrainingJobName</th>\n",
       "      <th>TrainingJobStatus</th>\n",
       "      <th>FinalObjectiveValue</th>\n",
       "      <th>TrainingStartTime</th>\n",
       "      <th>TrainingEndTime</th>\n",
       "      <th>TrainingElapsedTimeSeconds</th>\n",
       "    </tr>\n",
       "  </thead>\n",
       "  <tbody>\n",
       "    <tr>\n",
       "      <th>19</th>\n",
       "      <td>24.366929</td>\n",
       "      <td>0.498098</td>\n",
       "      <td>8.0</td>\n",
       "      <td>47.0</td>\n",
       "      <td>0.828344</td>\n",
       "      <td>sagemaker-xgboost-221116-1432-001-f76a0652</td>\n",
       "      <td>Completed</td>\n",
       "      <td>0.97906</td>\n",
       "      <td>2022-11-16 14:34:44+00:00</td>\n",
       "      <td>2022-11-16 15:27:44+00:00</td>\n",
       "      <td>3180.0</td>\n",
       "    </tr>\n",
       "    <tr>\n",
       "      <th>5</th>\n",
       "      <td>18.429791</td>\n",
       "      <td>0.496115</td>\n",
       "      <td>6.0</td>\n",
       "      <td>45.0</td>\n",
       "      <td>0.933908</td>\n",
       "      <td>sagemaker-xgboost-221116-1432-015-d82f4793</td>\n",
       "      <td>Completed</td>\n",
       "      <td>0.97738</td>\n",
       "      <td>2022-11-16 14:47:40+00:00</td>\n",
       "      <td>2022-11-16 15:20:03+00:00</td>\n",
       "      <td>1943.0</td>\n",
       "    </tr>\n",
       "    <tr>\n",
       "      <th>9</th>\n",
       "      <td>0.000000</td>\n",
       "      <td>0.457902</td>\n",
       "      <td>7.0</td>\n",
       "      <td>42.0</td>\n",
       "      <td>0.623636</td>\n",
       "      <td>sagemaker-xgboost-221116-1432-011-db98ee47</td>\n",
       "      <td>Completed</td>\n",
       "      <td>0.97642</td>\n",
       "      <td>2022-11-16 14:43:02+00:00</td>\n",
       "      <td>2022-11-16 15:22:28+00:00</td>\n",
       "      <td>2366.0</td>\n",
       "    </tr>\n",
       "    <tr>\n",
       "      <th>0</th>\n",
       "      <td>54.509962</td>\n",
       "      <td>0.395291</td>\n",
       "      <td>6.0</td>\n",
       "      <td>25.0</td>\n",
       "      <td>0.841019</td>\n",
       "      <td>sagemaker-xgboost-221116-1432-020-5ab55913</td>\n",
       "      <td>Completed</td>\n",
       "      <td>0.96938</td>\n",
       "      <td>2022-11-16 15:15:20+00:00</td>\n",
       "      <td>2022-11-16 15:33:01+00:00</td>\n",
       "      <td>1061.0</td>\n",
       "    </tr>\n",
       "    <tr>\n",
       "      <th>6</th>\n",
       "      <td>44.972727</td>\n",
       "      <td>0.469102</td>\n",
       "      <td>6.0</td>\n",
       "      <td>33.0</td>\n",
       "      <td>0.500000</td>\n",
       "      <td>sagemaker-xgboost-221116-1432-014-f8fa9545</td>\n",
       "      <td>Completed</td>\n",
       "      <td>0.96811</td>\n",
       "      <td>2022-11-16 14:45:52+00:00</td>\n",
       "      <td>2022-11-16 15:05:19+00:00</td>\n",
       "      <td>1167.0</td>\n",
       "    </tr>\n",
       "    <tr>\n",
       "      <th>2</th>\n",
       "      <td>85.472478</td>\n",
       "      <td>0.427509</td>\n",
       "      <td>6.0</td>\n",
       "      <td>42.0</td>\n",
       "      <td>0.546797</td>\n",
       "      <td>sagemaker-xgboost-221116-1432-018-f7f505ff</td>\n",
       "      <td>Completed</td>\n",
       "      <td>0.96362</td>\n",
       "      <td>2022-11-16 15:08:53+00:00</td>\n",
       "      <td>2022-11-16 15:33:34+00:00</td>\n",
       "      <td>1481.0</td>\n",
       "    </tr>\n",
       "    <tr>\n",
       "      <th>4</th>\n",
       "      <td>77.459432</td>\n",
       "      <td>0.363413</td>\n",
       "      <td>6.0</td>\n",
       "      <td>26.0</td>\n",
       "      <td>1.000000</td>\n",
       "      <td>sagemaker-xgboost-221116-1432-016-0cebd355</td>\n",
       "      <td>Completed</td>\n",
       "      <td>0.96352</td>\n",
       "      <td>2022-11-16 14:49:14+00:00</td>\n",
       "      <td>2022-11-16 15:08:36+00:00</td>\n",
       "      <td>1162.0</td>\n",
       "    </tr>\n",
       "    <tr>\n",
       "      <th>17</th>\n",
       "      <td>72.018104</td>\n",
       "      <td>0.340833</td>\n",
       "      <td>6.0</td>\n",
       "      <td>14.0</td>\n",
       "      <td>0.969709</td>\n",
       "      <td>sagemaker-xgboost-221116-1432-003-589e8686</td>\n",
       "      <td>Completed</td>\n",
       "      <td>0.95252</td>\n",
       "      <td>2022-11-16 14:35:04+00:00</td>\n",
       "      <td>2022-11-16 14:48:53+00:00</td>\n",
       "      <td>829.0</td>\n",
       "    </tr>\n",
       "    <tr>\n",
       "      <th>3</th>\n",
       "      <td>39.770417</td>\n",
       "      <td>0.471348</td>\n",
       "      <td>5.0</td>\n",
       "      <td>5.0</td>\n",
       "      <td>0.696355</td>\n",
       "      <td>sagemaker-xgboost-221116-1432-017-6b00ab86</td>\n",
       "      <td>Completed</td>\n",
       "      <td>0.90743</td>\n",
       "      <td>2022-11-16 15:06:46+00:00</td>\n",
       "      <td>2022-11-16 15:10:30+00:00</td>\n",
       "      <td>224.0</td>\n",
       "    </tr>\n",
       "    <tr>\n",
       "      <th>1</th>\n",
       "      <td>58.644949</td>\n",
       "      <td>0.428529</td>\n",
       "      <td>6.0</td>\n",
       "      <td>3.0</td>\n",
       "      <td>0.528380</td>\n",
       "      <td>sagemaker-xgboost-221116-1432-019-c86e0753</td>\n",
       "      <td>Completed</td>\n",
       "      <td>0.86601</td>\n",
       "      <td>2022-11-16 15:10:59+00:00</td>\n",
       "      <td>2022-11-16 15:14:27+00:00</td>\n",
       "      <td>208.0</td>\n",
       "    </tr>\n",
       "  </tbody>\n",
       "</table>\n",
       "</div>"
      ],
      "text/plain": [
       "        alpha       eta  max_depth  num_round  subsample  \\\n",
       "19  24.366929  0.498098        8.0       47.0   0.828344   \n",
       "5   18.429791  0.496115        6.0       45.0   0.933908   \n",
       "9    0.000000  0.457902        7.0       42.0   0.623636   \n",
       "0   54.509962  0.395291        6.0       25.0   0.841019   \n",
       "6   44.972727  0.469102        6.0       33.0   0.500000   \n",
       "2   85.472478  0.427509        6.0       42.0   0.546797   \n",
       "4   77.459432  0.363413        6.0       26.0   1.000000   \n",
       "17  72.018104  0.340833        6.0       14.0   0.969709   \n",
       "3   39.770417  0.471348        5.0        5.0   0.696355   \n",
       "1   58.644949  0.428529        6.0        3.0   0.528380   \n",
       "\n",
       "                               TrainingJobName TrainingJobStatus  \\\n",
       "19  sagemaker-xgboost-221116-1432-001-f76a0652         Completed   \n",
       "5   sagemaker-xgboost-221116-1432-015-d82f4793         Completed   \n",
       "9   sagemaker-xgboost-221116-1432-011-db98ee47         Completed   \n",
       "0   sagemaker-xgboost-221116-1432-020-5ab55913         Completed   \n",
       "6   sagemaker-xgboost-221116-1432-014-f8fa9545         Completed   \n",
       "2   sagemaker-xgboost-221116-1432-018-f7f505ff         Completed   \n",
       "4   sagemaker-xgboost-221116-1432-016-0cebd355         Completed   \n",
       "17  sagemaker-xgboost-221116-1432-003-589e8686         Completed   \n",
       "3   sagemaker-xgboost-221116-1432-017-6b00ab86         Completed   \n",
       "1   sagemaker-xgboost-221116-1432-019-c86e0753         Completed   \n",
       "\n",
       "    FinalObjectiveValue         TrainingStartTime           TrainingEndTime  \\\n",
       "19              0.97906 2022-11-16 14:34:44+00:00 2022-11-16 15:27:44+00:00   \n",
       "5               0.97738 2022-11-16 14:47:40+00:00 2022-11-16 15:20:03+00:00   \n",
       "9               0.97642 2022-11-16 14:43:02+00:00 2022-11-16 15:22:28+00:00   \n",
       "0               0.96938 2022-11-16 15:15:20+00:00 2022-11-16 15:33:01+00:00   \n",
       "6               0.96811 2022-11-16 14:45:52+00:00 2022-11-16 15:05:19+00:00   \n",
       "2               0.96362 2022-11-16 15:08:53+00:00 2022-11-16 15:33:34+00:00   \n",
       "4               0.96352 2022-11-16 14:49:14+00:00 2022-11-16 15:08:36+00:00   \n",
       "17              0.95252 2022-11-16 14:35:04+00:00 2022-11-16 14:48:53+00:00   \n",
       "3               0.90743 2022-11-16 15:06:46+00:00 2022-11-16 15:10:30+00:00   \n",
       "1               0.86601 2022-11-16 15:10:59+00:00 2022-11-16 15:14:27+00:00   \n",
       "\n",
       "    TrainingElapsedTimeSeconds  \n",
       "19                      3180.0  \n",
       "5                       1943.0  \n",
       "9                       2366.0  \n",
       "0                       1061.0  \n",
       "6                       1167.0  \n",
       "2                       1481.0  \n",
       "4                       1162.0  \n",
       "17                       829.0  \n",
       "3                        224.0  \n",
       "1                        208.0  "
      ]
     },
     "execution_count": 13,
     "metadata": {},
     "output_type": "execute_result"
    }
   ],
   "source": [
    "from pprint import pprint\n",
    "from sagemaker.analytics import HyperparameterTuningJobAnalytics\n",
    "\n",
    "tuner_analytics = HyperparameterTuningJobAnalytics(tuner.latest_tuning_job.name, sagemaker_session=sagemaker.Session())\n",
    "\n",
    "df_tuning_job_analytics = tuner_analytics.dataframe()\n",
    "\n",
    "# Sort the tuning job analytics by the final metrics value\n",
    "df_tuning_job_analytics.sort_values(\n",
    "    by=['FinalObjectiveValue'],\n",
    "    inplace=True,\n",
    "    ascending=False if tuner.objective_type == \"Maximize\" else True)\n",
    "\n",
    "# Show detailed analytics for the top 20 models\n",
    "df_tuning_job_analytics.head(10)"
   ]
  },
  {
   "cell_type": "markdown",
   "id": "359589c6",
   "metadata": {},
   "source": [
    "### Criar modelo com melhor training job e fazer predição"
   ]
  },
  {
   "cell_type": "code",
   "execution_count": 14,
   "id": "c8466c19",
   "metadata": {},
   "outputs": [],
   "source": [
    "attached_tuner = HyperparameterTuner.attach(tuner.latest_tuning_job.name, sagemaker_session=sagemaker.Session())\n",
    "best_training_job = attached_tuner.best_training_job()"
   ]
  },
  {
   "cell_type": "code",
   "execution_count": 15,
   "id": "091505a3",
   "metadata": {},
   "outputs": [
    {
     "name": "stdout",
     "output_type": "stream",
     "text": [
      "\n",
      "2022-11-16 15:27:47 Starting - Preparing the instances for training\n",
      "2022-11-16 15:27:47 Downloading - Downloading input data\n",
      "2022-11-16 15:27:47 Training - Training image download completed. Training in progress.\n",
      "2022-11-16 15:27:47 Uploading - Uploading generated training model\n",
      "2022-11-16 15:27:47 Completed - Resource retained for reuse\n"
     ]
    }
   ],
   "source": [
    "from sagemaker.estimator import Estimator\n",
    "algo_estimator = Estimator.attach(best_training_job)\n",
    "\n",
    "best_algo_model = algo_estimator.create_model()"
   ]
  },
  {
   "cell_type": "code",
   "execution_count": 16,
   "id": "5a520949",
   "metadata": {},
   "outputs": [
    {
     "name": "stdout",
     "output_type": "stream",
     "text": [
      "-------!"
     ]
    }
   ],
   "source": [
    "xgb_predictor_2 = best_algo_model.deploy(initial_instance_count=1,\n",
    "                                     serializer=sagemaker.serializers.LibSVMSerializer(),\n",
    "                                     instance_type='ml.m4.xlarge')"
   ]
  },
  {
   "cell_type": "code",
   "execution_count": 17,
   "id": "b36801eb",
   "metadata": {},
   "outputs": [],
   "source": [
    "y_pred_2 = make_prediction(xgb_predictor_2, model_name='model_2_combo')"
   ]
  },
  {
   "cell_type": "markdown",
   "id": "2bf02ed8",
   "metadata": {},
   "source": [
    "### Métricas do modelo"
   ]
  },
  {
   "cell_type": "code",
   "execution_count": 18,
   "id": "8ef2a86b",
   "metadata": {},
   "outputs": [
    {
     "name": "stdout",
     "output_type": "stream",
     "text": [
      "              precision    recall  f1-score   support\n",
      "\n",
      "           0       0.94      0.91      0.92       430\n",
      "           1       0.91      0.94      0.93       429\n",
      "\n",
      "    accuracy                           0.93       859\n",
      "   macro avg       0.93      0.93      0.93       859\n",
      "weighted avg       0.93      0.93      0.93       859\n",
      "\n"
     ]
    }
   ],
   "source": [
    "print(classification_report(y_test_2, y_pred_2))"
   ]
  },
  {
   "cell_type": "code",
   "execution_count": 19,
   "id": "e8622d78",
   "metadata": {},
   "outputs": [
    {
     "data": {
      "image/png": "[encoded data removed]",
      "text/plain": [
       "<Figure size 432x288 with 1 Axes>"
      ]
     },
     "metadata": {
      "needs_background": "light"
     },
     "output_type": "display_data"
    }
   ],
   "source": [
    "plot_confusion_matrix(y_test_2, y_pred_2)"
   ]
  },
  {
   "cell_type": "code",
   "execution_count": 20,
   "id": "c5d02301",
   "metadata": {},
   "outputs": [
    {
     "data": {
      "text/plain": [
       "0.9101123595505618"
      ]
     },
     "execution_count": 20,
     "metadata": {},
     "output_type": "execute_result"
    }
   ],
   "source": [
    "precision_score(y_test_2, y_pred_2)"
   ]
  },
  {
   "cell_type": "markdown",
   "id": "fd9add7d",
   "metadata": {},
   "source": [
    "O modelo otimizado apresentou uma melhora comparado ao modelo original; a nova precisão obtida é de 91.0%, comparada à precisão de 87.7% do primeiro modelo treinado neste notebook. O recall dos dois modelos é equivalente, enquanto que o F1-score apresentou ligeira melhora com a otimização de hiperparâmetros, sendo levado de 91% no primeiro modelo para 93% no segundo. Uma exploração de maior gama de possíveis hiperparâmetros eventualmente poderia resultar em uma melhora mais significativa do modelo."
   ]
  },
  {
   "cell_type": "markdown",
   "id": "67790240",
   "metadata": {},
   "source": [
    "### Encerrar modelo"
   ]
  },
  {
   "cell_type": "code",
   "execution_count": 21,
   "id": "b1243e49",
   "metadata": {},
   "outputs": [],
   "source": [
    "xgb_predictor_2.delete_endpoint(delete_endpoint_config=True)"
   ]
  }
 ],
 "metadata": {
  "kernelspec": {
   "display_name": "conda_amazonei_tensorflow2_p36",
   "language": "python",
   "name": "conda_amazonei_tensorflow2_p36"
  },
  "language_info": {
   "codemirror_mode": {
    "name": "ipython",
    "version": 3
   },
   "file_extension": ".py",
   "mimetype": "text/x-python",
   "name": "python",
   "nbconvert_exporter": "python",
   "pygments_lexer": "ipython3",
   "version": "3.6.13"
  }
 },
 "nbformat": 4,
 "nbformat_minor": 5
}
