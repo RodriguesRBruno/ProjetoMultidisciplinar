{
 "cells": [
  {
   "cell_type": "markdown",
   "id": "80c60789",
   "metadata": {},
   "source": [
    "# TODO notebook inteiro, por ora é só cópia do Notebook do FakeRecogna!! Combinar datasets e treinar"
   ]
  },
  {
   "cell_type": "markdown",
   "id": "f7cfc7c2",
   "metadata": {},
   "source": [
    "# Treinamento e validação de Modelos - Dataset FakeRecogna\n",
    "Treinamento de um modelo usando como base o segundo dataset estudado: https://github.com/Gabriel-Lino-Garcia/FakeRecogna \n",
    "\n",
    "Após verificar que o primeiro modelo obteve uma performace ruim ao ser testado com outro dataset, fez-se a hipótese de que isto pode ter ocorrido devido à baixa variabilidade de notícias no primeiro dataset utilizado. Optou-se então por tentar treinar um modelo TF-IDF no segundo dataset, que possui maior variedade de notícias, para validar se isto resultaria em um modelo mais geral.\n",
    "\n",
    "Este modelo, além de ser validado no próprio dataset que o gerou, também é validado com o primeiro dataset utilizado no projeto."
   ]
  },
  {
   "cell_type": "code",
   "execution_count": 2,
   "id": "c7cb053d",
   "metadata": {},
   "outputs": [
    {
     "name": "stdout",
     "output_type": "stream",
     "text": [
      "Looking in indexes: https://pypi.org/simple, https://pip.repos.neuron.amazonaws.com\n",
      "Collecting wordcloud\n",
      "  Downloading wordcloud-1.8.2.2-cp36-cp36m-manylinux_2_17_x86_64.manylinux2014_x86_64.whl (435 kB)\n",
      "     |████████████████████████████████| 435 kB 21.9 MB/s            \n",
      "\u001b[?25hRequirement already satisfied: pillow in /home/ec2-user/anaconda3/envs/amazonei_tensorflow2_p36/lib/python3.6/site-packages (from wordcloud) (8.4.0)\n",
      "Requirement already satisfied: matplotlib in /home/ec2-user/anaconda3/envs/amazonei_tensorflow2_p36/lib/python3.6/site-packages (from wordcloud) (3.3.4)\n",
      "Requirement already satisfied: numpy>=1.6.1 in /home/ec2-user/anaconda3/envs/amazonei_tensorflow2_p36/lib/python3.6/site-packages (from wordcloud) (1.19.5)\n",
      "Requirement already satisfied: cycler>=0.10 in /home/ec2-user/anaconda3/envs/amazonei_tensorflow2_p36/lib/python3.6/site-packages (from matplotlib->wordcloud) (0.10.0)\n",
      "Requirement already satisfied: pyparsing!=2.0.4,!=2.1.2,!=2.1.6,>=2.0.3 in /home/ec2-user/anaconda3/envs/amazonei_tensorflow2_p36/lib/python3.6/site-packages (from matplotlib->wordcloud) (2.4.7)\n",
      "Requirement already satisfied: python-dateutil>=2.1 in /home/ec2-user/anaconda3/envs/amazonei_tensorflow2_p36/lib/python3.6/site-packages (from matplotlib->wordcloud) (2.8.1)\n",
      "Requirement already satisfied: kiwisolver>=1.0.1 in /home/ec2-user/anaconda3/envs/amazonei_tensorflow2_p36/lib/python3.6/site-packages (from matplotlib->wordcloud) (1.3.1)\n",
      "Requirement already satisfied: six in /home/ec2-user/anaconda3/envs/amazonei_tensorflow2_p36/lib/python3.6/site-packages (from cycler>=0.10->matplotlib->wordcloud) (1.15.0)\n",
      "Installing collected packages: wordcloud\n",
      "Successfully installed wordcloud-1.8.2.2\n",
      "Note: you may need to restart the kernel to use updated packages.\n"
     ]
    }
   ],
   "source": [
    "# Se necessário\n",
    "%pip install wordcloud"
   ]
  },
  {
   "cell_type": "code",
   "execution_count": 2,
   "id": "10ee2184",
   "metadata": {},
   "outputs": [],
   "source": [
    "import os\n",
    "import sagemaker\n",
    "import pandas as pd\n",
    "from sklearn.feature_extraction.text import TfidfVectorizer\n",
    "from sklearn.preprocessing import RobustScaler\n",
    "from sklearn.metrics import classification_report\n",
    "from scipy.sparse import csr_matrix, hstack\n",
    "from python_scripts.save_load import load_df_from_bucket, save_df_to_s3_bucket, save_to_s3_bucket_as_libsvm, BUCKET_MODEL\n",
    "from python_scripts.modelling import create_train_validation_test_sets, setup_model, make_prediction"
   ]
  },
  {
   "cell_type": "markdown",
   "id": "48c82bc1",
   "metadata": {},
   "source": [
    "## Carregamento de dados e processamento inicial do dataset\n",
    "Como foi verificado no notebook anterior, sabe-se que há uma linha de nulos que deve ser eliminada do  dataset. Além disso, os labels de notícia falsa/verdadeira são corrigidos para o padrão utilizado no projeto (1 para Falsa, 0 para verdadeira)"
   ]
  },
  {
   "cell_type": "code",
   "execution_count": 3,
   "id": "18917a77",
   "metadata": {},
   "outputs": [
    {
     "data": {
      "text/html": [
       "<div>\n",
       "<style scoped>\n",
       "    .dataframe tbody tr th:only-of-type {\n",
       "        vertical-align: middle;\n",
       "    }\n",
       "\n",
       "    .dataframe tbody tr th {\n",
       "        vertical-align: top;\n",
       "    }\n",
       "\n",
       "    .dataframe thead th {\n",
       "        text-align: right;\n",
       "    }\n",
       "</style>\n",
       "<table border=\"1\" class=\"dataframe\">\n",
       "  <thead>\n",
       "    <tr style=\"text-align: right;\">\n",
       "      <th></th>\n",
       "      <th>Categoria</th>\n",
       "      <th>lemmas_str</th>\n",
       "      <th>fake</th>\n",
       "    </tr>\n",
       "  </thead>\n",
       "  <tbody>\n",
       "    <tr>\n",
       "      <th>0</th>\n",
       "      <td>entretenimento</td>\n",
       "      <td>apagão vaticano papar presar acusação tráfico ...</td>\n",
       "      <td>1</td>\n",
       "    </tr>\n",
       "    <tr>\n",
       "      <th>1</th>\n",
       "      <td>saúde</td>\n",
       "      <td>governar equador anunciar preparar cova coleti...</td>\n",
       "      <td>0</td>\n",
       "    </tr>\n",
       "    <tr>\n",
       "      <th>2</th>\n",
       "      <td>saúde</td>\n",
       "      <td>companhia air france operar voar direto pequim...</td>\n",
       "      <td>0</td>\n",
       "    </tr>\n",
       "    <tr>\n",
       "      <th>3</th>\n",
       "      <td>saúde</td>\n",
       "      <td>marfrig global foods retomar vender carnar bov...</td>\n",
       "      <td>0</td>\n",
       "    </tr>\n",
       "    <tr>\n",
       "      <th>4</th>\n",
       "      <td>entretenimento</td>\n",
       "      <td>assunto voltar compartilhar rede social julho ...</td>\n",
       "      <td>1</td>\n",
       "    </tr>\n",
       "  </tbody>\n",
       "</table>\n",
       "</div>"
      ],
      "text/plain": [
       "        Categoria                                         lemmas_str  fake\n",
       "0  entretenimento  apagão vaticano papar presar acusação tráfico ...     1\n",
       "1           saúde  governar equador anunciar preparar cova coleti...     0\n",
       "2           saúde  companhia air france operar voar direto pequim...     0\n",
       "3           saúde  marfrig global foods retomar vender carnar bov...     0\n",
       "4  entretenimento  assunto voltar compartilhar rede social julho ...     1"
      ]
     },
     "execution_count": 3,
     "metadata": {},
     "output_type": "execute_result"
    }
   ],
   "source": [
    "model_df = load_df_from_bucket('dados_processados_recogna.csv', tipo='processado')\n",
    "model_df.head()"
   ]
  },
  {
   "cell_type": "markdown",
   "id": "b8ae807a",
   "metadata": {},
   "source": [
    "## Modelo 1: TF-IDF baseado no texto da notícia\n",
    "Vetorização TF-IDF é aplicada somente à coluna de texto da notícia. Demais colunas de dados não são consideradas."
   ]
  },
  {
   "cell_type": "code",
   "execution_count": 4,
   "id": "2d31d752",
   "metadata": {},
   "outputs": [],
   "source": [
    "train_1, test_1, validate_1 = create_train_validation_test_sets(model_df, \n",
    "                                                                stratify_col='fake',\n",
    "                                                                test_size=0.2, random_state=42)"
   ]
  },
  {
   "cell_type": "markdown",
   "id": "f862c23e",
   "metadata": {},
   "source": [
    "### Processamento adicional\n",
    "\n",
    "Um vetorizador TFIDF é utilizado para converter os dados textuais em colunas do DataFrame."
   ]
  },
  {
   "cell_type": "code",
   "execution_count": 5,
   "id": "3b6ec181",
   "metadata": {},
   "outputs": [
    {
     "data": {
      "text/plain": [
       "TfidfVectorizer(lowercase=False, ngram_range=(1, 2))"
      ]
     },
     "execution_count": 5,
     "metadata": {},
     "output_type": "execute_result"
    }
   ],
   "source": [
    "# Criar vetorizador TFIDF e ajustar aos dados de treinamento\n",
    "tfidf = TfidfVectorizer(lowercase=False, ngram_range = (1,2))\n",
    "tfidf.fit(train_1['lemmas_str'])"
   ]
  },
  {
   "cell_type": "code",
   "execution_count": 6,
   "id": "d2e78998",
   "metadata": {},
   "outputs": [],
   "source": [
    "def create_x_y_1(base_df, tfidf, target_col='fake', lemma_col = 'lemmas_str'):\n",
    "    tfidf_res = tfidf.transform(base_df[lemma_col])\n",
    "    return tfidf_res, base_df[target_col]\n",
    "\n",
    "x_train_1, y_train_1 = create_x_y_1(train_1, tfidf)\n",
    "x_validate_1, y_validate_1 = create_x_y_1(validate_1, tfidf)\n",
    "x_test_1, y_test_1 = create_x_y_1(test_1, tfidf)"
   ]
  },
  {
   "cell_type": "markdown",
   "id": "a03eb432",
   "metadata": {},
   "source": [
    "### Upload de dados para o S3"
   ]
  },
  {
   "cell_type": "code",
   "execution_count": 7,
   "id": "9e68a542",
   "metadata": {},
   "outputs": [
    {
     "name": "stderr",
     "output_type": "stream",
     "text": [
      "/home/ec2-user/anaconda3/envs/amazonei_tensorflow2_p36/lib/python3.6/site-packages/boto3/compat.py:88: PythonDeprecationWarning: Boto3 will no longer support Python 3.6 starting May 30, 2022. To continue receiving service updates, bug fixes, and security updates please upgrade to Python 3.7 or later. More information can be found here: https://aws.amazon.com/blogs/developer/python-support-policy-updates-for-aws-sdks-and-tools/\n",
      "  warnings.warn(warning, PythonDeprecationWarning)\n",
      "/home/ec2-user/anaconda3/envs/amazonei_tensorflow2_p36/lib/python3.6/site-packages/boto3/compat.py:88: PythonDeprecationWarning: Boto3 will no longer support Python 3.6 starting May 30, 2022. To continue receiving service updates, bug fixes, and security updates please upgrade to Python 3.7 or later. More information can be found here: https://aws.amazon.com/blogs/developer/python-support-policy-updates-for-aws-sdks-and-tools/\n",
      "  warnings.warn(warning, PythonDeprecationWarning)\n",
      "/home/ec2-user/anaconda3/envs/amazonei_tensorflow2_p36/lib/python3.6/site-packages/boto3/compat.py:88: PythonDeprecationWarning: Boto3 will no longer support Python 3.6 starting May 30, 2022. To continue receiving service updates, bug fixes, and security updates please upgrade to Python 3.7 or later. More information can be found here: https://aws.amazon.com/blogs/developer/python-support-policy-updates-for-aws-sdks-and-tools/\n",
      "  warnings.warn(warning, PythonDeprecationWarning)\n"
     ]
    }
   ],
   "source": [
    "file_name_tuples = [(x_train_1, y_train_1, 'train'), \n",
    "                   (x_test_1, y_test_1, 'test'), \n",
    "                   (x_validate_1, y_validate_1, 'validate')]\n",
    "\n",
    "for x, y, prefix in file_name_tuples:\n",
    "    save_to_s3_bucket_as_libsvm(x, y, prefix=prefix, filename='model_1_2.libsvm', tipo='modelo')"
   ]
  },
  {
   "cell_type": "markdown",
   "id": "d692d66c",
   "metadata": {},
   "source": [
    "### Treinar modelo"
   ]
  },
  {
   "cell_type": "code",
   "execution_count": 9,
   "id": "bcc06d24",
   "metadata": {},
   "outputs": [
    {
     "name": "stdout",
     "output_type": "stream",
     "text": [
      "2022-11-14 20:32:07 Starting - Starting the training job...ProfilerReport-1668457927: InProgress\n",
      "...\n",
      "2022-11-14 20:32:43 Starting - Preparing the instances for training...............\n",
      "2022-11-14 20:35:22 Downloading - Downloading input data...\n",
      "2022-11-14 20:36:02 Training - Training image download completed. Training in progress.\u001b[34m[2022-11-14 20:35:59.983 ip-10-0-187-94.ec2.internal:8 INFO utils.py:27] RULE_JOB_STOP_SIGNAL_FILENAME: None\u001b[0m\n",
      "\u001b[34m[2022-11-14:20:36:00:INFO] Imported framework sagemaker_xgboost_container.training\u001b[0m\n",
      "\u001b[34m[2022-11-14:20:36:00:INFO] Failed to parse hyperparameter eval_metric value auc to Json.\u001b[0m\n",
      "\u001b[34mReturning the value itself\u001b[0m\n",
      "\u001b[34m[2022-11-14:20:36:00:INFO] Failed to parse hyperparameter objective value binary:logistic to Json.\u001b[0m\n",
      "\u001b[34mReturning the value itself\u001b[0m\n",
      "\u001b[34m[2022-11-14:20:36:00:INFO] No GPUs detected (normal if no gpus installed)\u001b[0m\n",
      "\u001b[34m[2022-11-14:20:36:00:INFO] Running XGBoost Sagemaker in algorithm mode\u001b[0m\n",
      "\u001b[34m[2022-11-14:20:36:00:INFO] files path: /opt/ml/input/data/train\u001b[0m\n",
      "\u001b[34m[2022-11-14:20:36:00:INFO] files path: /opt/ml/input/data/validation\u001b[0m\n",
      "\u001b[34m[2022-11-14:20:36:00:INFO] Distributed node training with 4 hosts: ['algo-1', 'algo-2', 'algo-3', 'algo-4']\u001b[0m\n",
      "\u001b[34m[2022-11-14:20:36:00:INFO] Failed to connect to RabitTracker on attempt 0\u001b[0m\n",
      "\u001b[34m[2022-11-14:20:36:00:INFO] Sleeping for 3 sec before retrying\u001b[0m\n",
      "\u001b[34m[2022-11-14:20:36:03:INFO] Connected to RabitTracker.\u001b[0m\n",
      "\u001b[34m[2022-11-14 20:36:00.291 ip-10-0-161-58.ec2.internal:7 INFO utils.py:27] RULE_JOB_STOP_SIGNAL_FILENAME: None\u001b[0m\n",
      "\u001b[34m[2022-11-14:20:36:00:INFO] Imported framework sagemaker_xgboost_container.training\u001b[0m\n",
      "\u001b[34m[2022-11-14:20:36:00:INFO] Failed to parse hyperparameter eval_metric value auc to Json.\u001b[0m\n",
      "\u001b[34mReturning the value itself\u001b[0m\n",
      "\u001b[34m[2022-11-14:20:36:00:INFO] Failed to parse hyperparameter objective value binary:logistic to Json.\u001b[0m\n",
      "\u001b[34mReturning the value itself\u001b[0m\n",
      "\u001b[34m[2022-11-14:20:36:00:INFO] No GPUs detected (normal if no gpus installed)\u001b[0m\n",
      "\u001b[34m[2022-11-14:20:36:00:INFO] Running XGBoost Sagemaker in algorithm mode\u001b[0m\n",
      "\u001b[34m[2022-11-14:20:36:00:INFO] files path: /opt/ml/input/data/train\u001b[0m\n",
      "\u001b[34m[2022-11-14:20:36:00:INFO] files path: /opt/ml/input/data/validation\u001b[0m\n",
      "\u001b[34m[2022-11-14:20:36:00:INFO] Distributed node training with 4 hosts: ['algo-1', 'algo-2', 'algo-3', 'algo-4']\u001b[0m\n",
      "\u001b[34m[2022-11-14:20:36:00:INFO] start listen on algo-1:9099\u001b[0m\n",
      "\u001b[34m[2022-11-14:20:36:00:INFO] Rabit slave environment: {'DMLC_TRACKER_URI': 'algo-1', 'DMLC_TRACKER_PORT': 9099}\u001b[0m\n",
      "\u001b[34m[2022-11-14:20:36:00:INFO] No data received from connection ('10.0.161.58', 46216). Closing.\u001b[0m\n",
      "\u001b[34m[2022-11-14:20:36:00:INFO] Connected to RabitTracker.\u001b[0m\n",
      "\u001b[34m[2022-11-14:20:36:03:INFO] No data received from connection ('10.0.187.94', 49260). Closing.\u001b[0m\n",
      "\u001b[34m[2022-11-14:20:36:06:INFO] No data received from connection ('10.0.185.208', 59724). Closing.\u001b[0m\n",
      "\u001b[35m[2022-11-14 20:36:06.772 ip-10-0-185-208.ec2.internal:7 INFO utils.py:27] RULE_JOB_STOP_SIGNAL_FILENAME: None\u001b[0m\n",
      "\u001b[35m[2022-11-14:20:36:06:INFO] Imported framework sagemaker_xgboost_container.training\u001b[0m\n",
      "\u001b[35m[2022-11-14:20:36:06:INFO] Failed to parse hyperparameter eval_metric value auc to Json.\u001b[0m\n",
      "\u001b[35mReturning the value itself\u001b[0m\n",
      "\u001b[35m[2022-11-14:20:36:06:INFO] Failed to parse hyperparameter objective value binary:logistic to Json.\u001b[0m\n",
      "\u001b[35mReturning the value itself\u001b[0m\n",
      "\u001b[35m[2022-11-14:20:36:06:INFO] No GPUs detected (normal if no gpus installed)\u001b[0m\n",
      "\u001b[35m[2022-11-14:20:36:06:INFO] Running XGBoost Sagemaker in algorithm mode\u001b[0m\n",
      "\u001b[35m[2022-11-14:20:36:06:INFO] files path: /opt/ml/input/data/train\u001b[0m\n",
      "\u001b[35m[2022-11-14:20:36:06:INFO] files path: /opt/ml/input/data/validation\u001b[0m\n",
      "\u001b[35m[2022-11-14:20:36:06:INFO] Distributed node training with 4 hosts: ['algo-1', 'algo-2', 'algo-3', 'algo-4']\u001b[0m\n",
      "\u001b[35m[2022-11-14:20:36:06:INFO] Connected to RabitTracker.\u001b[0m\n",
      "\u001b[35m[20:36:12] task NULL got new rank 2\u001b[0m\n",
      "\u001b[35m[2022-11-14:20:36:12:INFO] Failed to connect to RabitTracker on attempt 0\u001b[0m\n",
      "\u001b[35m[2022-11-14:20:36:12:INFO] Sleeping for 3 sec before retrying\u001b[0m\n",
      "\u001b[34m[2022-11-14:20:36:12:INFO] No data received from connection ('10.0.142.24', 55140). Closing.\u001b[0m\n",
      "\u001b[34m[2022-11-14:20:36:12:INFO] Recieve start signal from 10.0.142.24; assign rank 0\u001b[0m\n",
      "\u001b[34m[20:36:12] task NULL got new rank 1\u001b[0m\n",
      "\u001b[34m[2022-11-14:20:36:12:INFO] Recieve start signal from 10.0.161.58; assign rank 1\u001b[0m\n",
      "\u001b[34m[2022-11-14:20:36:12:INFO] Recieve start signal from 10.0.185.208; assign rank 2\u001b[0m\n",
      "\u001b[34m[2022-11-14:20:36:12:INFO] Recieve start signal from 10.0.187.94; assign rank 3\u001b[0m\n",
      "\u001b[34m[2022-11-14:20:36:12:INFO] @tracker All of 4 nodes getting started\u001b[0m\n",
      "\u001b[34m[2022-11-14:20:36:12:INFO] @tracker All nodes finishes job\u001b[0m\n",
      "\u001b[34m[2022-11-14:20:36:12:INFO] @tracker 0.04513955116271973 secs between node start and job finish\u001b[0m\n",
      "\u001b[34m[2022-11-14:20:36:12:INFO] start listen on algo-1:9100\u001b[0m\n",
      "\u001b[34m[2022-11-14:20:36:12:INFO] Rabit slave environment: {'DMLC_TRACKER_URI': 'algo-1', 'DMLC_TRACKER_PORT': 9100}\u001b[0m\n",
      "\u001b[34m[2022-11-14:20:36:12:INFO] Connected to RabitTracker.\u001b[0m\n",
      "\u001b[34m[2022-11-14:20:36:12:INFO] No data received from connection ('10.0.161.58', 38854). Closing.\u001b[0m\n",
      "\u001b[32m[20:36:12] task NULL got new rank 3\u001b[0m\n",
      "\u001b[32m[2022-11-14:20:36:12:INFO] Failed to connect to RabitTracker on attempt 0\u001b[0m\n",
      "\u001b[32m[2022-11-14:20:36:12:INFO] Sleeping for 3 sec before retrying\u001b[0m\n",
      "\u001b[35m[2022-11-14:20:36:15:INFO] Connected to RabitTracker.\u001b[0m\n",
      "\u001b[34m[2022-11-14:20:36:15:INFO] No data received from connection ('10.0.187.94', 55984). Closing.\u001b[0m\n",
      "\u001b[34m[2022-11-14:20:36:15:INFO] No data received from connection ('10.0.142.24', 46792). Closing.\u001b[0m\n",
      "\u001b[34m[2022-11-14:20:36:15:INFO] No data received from connection ('10.0.185.208', 50346). Closing.\u001b[0m\n",
      "\u001b[34m[2022-11-14:20:36:15:INFO] Recieve start signal from 10.0.142.24; assign rank 0\u001b[0m\n",
      "\u001b[34m[20:36:15] task NULL got new rank 1\u001b[0m\n",
      "\u001b[34m[2022-11-14:20:36:15:INFO] Recieve start signal from 10.0.161.58; assign rank 1\u001b[0m\n",
      "\u001b[34m[2022-11-14:20:36:15:INFO] Recieve start signal from 10.0.185.208; assign rank 2\u001b[0m\n",
      "\u001b[34m[2022-11-14:20:36:15:INFO] Train matrix has 9521 rows and 449038 columns\u001b[0m\n",
      "\u001b[34m[2022-11-14:20:36:15:INFO] Validation matrix has 1191 rows\u001b[0m\n",
      "\u001b[34m[2022-11-14 20:36:15.945 ip-10-0-161-58.ec2.internal:7 INFO json_config.py:91] Creating hook from json_config at /opt/ml/input/config/debughookconfig.json.\u001b[0m\n",
      "\u001b[34m[2022-11-14:20:36:16:INFO] Recieve start signal from 10.0.187.94; assign rank 3\u001b[0m\n",
      "\u001b[34m[2022-11-14:20:36:16:INFO] @tracker All of 4 nodes getting started\u001b[0m\n",
      "\u001b[32m[2022-11-14:20:36:15:INFO] Connected to RabitTracker.\u001b[0m\n",
      "\u001b[32m[20:36:15] task NULL got new rank 3\u001b[0m\n",
      "\u001b[32m[2022-11-14:20:36:16:INFO] Train matrix has 9521 rows and 449038 columns\u001b[0m\n",
      "\u001b[32m[2022-11-14:20:36:16:INFO] Validation matrix has 1191 rows\u001b[0m\n",
      "\u001b[32m[2022-11-14 20:36:16.034 ip-10-0-187-94.ec2.internal:8 INFO json_config.py:91] Creating hook from json_config at /opt/ml/input/config/debughookconfig.json.\u001b[0m\n",
      "\u001b[35m[20:36:15] task NULL got new rank 2\u001b[0m\n",
      "\u001b[35m[2022-11-14:20:36:16:INFO] Train matrix has 9521 rows and 449038 columns\u001b[0m\n",
      "\u001b[35m[2022-11-14:20:36:16:INFO] Validation matrix has 1191 rows\u001b[0m\n",
      "\u001b[35m[2022-11-14 20:36:16.033 ip-10-0-185-208.ec2.internal:7 INFO json_config.py:91] Creating hook from json_config at /opt/ml/input/config/debughookconfig.json.\u001b[0m\n",
      "\u001b[36m[2022-11-14 20:36:11.979 ip-10-0-142-24.ec2.internal:7 INFO utils.py:27] RULE_JOB_STOP_SIGNAL_FILENAME: None\u001b[0m\n",
      "\u001b[36m[2022-11-14:20:36:12:INFO] Imported framework sagemaker_xgboost_container.training\u001b[0m\n",
      "\u001b[36m[2022-11-14:20:36:12:INFO] Failed to parse hyperparameter eval_metric value auc to Json.\u001b[0m\n",
      "\u001b[36mReturning the value itself\u001b[0m\n",
      "\u001b[36m[2022-11-14:20:36:12:INFO] Failed to parse hyperparameter objective value binary:logistic to Json.\u001b[0m\n",
      "\u001b[36mReturning the value itself\u001b[0m\n",
      "\u001b[36m[2022-11-14:20:36:12:INFO] No GPUs detected (normal if no gpus installed)\u001b[0m\n",
      "\u001b[36m[2022-11-14:20:36:12:INFO] Running XGBoost Sagemaker in algorithm mode\u001b[0m\n",
      "\u001b[36m[2022-11-14:20:36:12:INFO] files path: /opt/ml/input/data/train\u001b[0m\n",
      "\u001b[36m[2022-11-14:20:36:12:INFO] files path: /opt/ml/input/data/validation\u001b[0m\n",
      "\u001b[36m[2022-11-14:20:36:12:INFO] Distributed node training with 4 hosts: ['algo-1', 'algo-2', 'algo-3', 'algo-4']\u001b[0m\n",
      "\u001b[36m[2022-11-14:20:36:12:INFO] Connected to RabitTracker.\u001b[0m\n",
      "\u001b[36m[20:36:12] task NULL got new rank 0\u001b[0m\n",
      "\u001b[36m[2022-11-14:20:36:12:INFO] Failed to connect to RabitTracker on attempt 0\u001b[0m\n",
      "\u001b[36m[2022-11-14:20:36:12:INFO] Sleeping for 3 sec before retrying\u001b[0m\n",
      "\u001b[36m[2022-11-14:20:36:15:INFO] Connected to RabitTracker.\u001b[0m\n",
      "\u001b[36m[20:36:15] task NULL got new rank 0\u001b[0m\n",
      "\u001b[36m[2022-11-14:20:36:16:INFO] Train matrix has 9521 rows and 449038 columns\u001b[0m\n",
      "\u001b[36m[2022-11-14:20:36:16:INFO] Validation matrix has 1191 rows\u001b[0m\n",
      "\u001b[36m[2022-11-14 20:36:16.033 ip-10-0-142-24.ec2.internal:7 INFO json_config.py:91] Creating hook from json_config at /opt/ml/input/config/debughookconfig.json.\u001b[0m\n",
      "\u001b[34m[2022-11-14:20:36:33:INFO] [0]#011train-auc:0.87005#011validation-auc:0.83754\u001b[0m\n",
      "\u001b[34m[2022-11-14:20:36:46:INFO] [1]#011train-auc:0.90366#011validation-auc:0.87258\u001b[0m\n",
      "\u001b[34m[2022-11-14:20:37:00:INFO] [2]#011train-auc:0.93405#011validation-auc:0.90916\u001b[0m\n",
      "\u001b[34m[2022-11-14:20:37:14:INFO] [3]#011train-auc:0.94591#011validation-auc:0.92312\u001b[0m\n",
      "\u001b[34m[2022-11-14:20:37:28:INFO] [4]#011train-auc:0.95555#011validation-auc:0.93017\u001b[0m\n",
      "\u001b[34m[2022-11-14:20:37:40:INFO] [5]#011train-auc:0.95903#011validation-auc:0.93324\u001b[0m\n",
      "\u001b[34m[2022-11-14:20:37:53:INFO] [6]#011train-auc:0.96354#011validation-auc:0.93745\u001b[0m\n",
      "\u001b[34m[2022-11-14:20:38:04:INFO] [7]#011train-auc:0.96646#011validation-auc:0.93963\u001b[0m\n",
      "\u001b[34m[2022-11-14:20:38:17:INFO] [8]#011train-auc:0.97017#011validation-auc:0.94412\u001b[0m\n",
      "\u001b[34m[2022-11-14:20:38:31:INFO] [9]#011train-auc:0.97298#011validation-auc:0.94478\u001b[0m\n",
      "\u001b[34m[2022-11-14:20:38:42:INFO] [10]#011train-auc:0.97551#011validation-auc:0.94595\u001b[0m\n",
      "\u001b[34m[2022-11-14:20:38:53:INFO] [11]#011train-auc:0.97749#011validation-auc:0.94627\u001b[0m\n",
      "\u001b[34m[2022-11-14:20:39:02:INFO] [12]#011train-auc:0.97926#011validation-auc:0.94985\u001b[0m\n",
      "\u001b[34m[2022-11-14:20:39:15:INFO] [13]#011train-auc:0.98103#011validation-auc:0.95215\u001b[0m\n",
      "\u001b[34m[2022-11-14:20:39:26:INFO] [14]#011train-auc:0.98228#011validation-auc:0.95426\u001b[0m\n",
      "\u001b[34m[2022-11-14:20:39:35:INFO] [15]#011train-auc:0.98358#011validation-auc:0.95411\u001b[0m\n",
      "\u001b[34m[2022-11-14:20:39:45:INFO] [16]#011train-auc:0.98452#011validation-auc:0.95421\u001b[0m\n",
      "\u001b[34m[2022-11-14:20:39:56:INFO] [17]#011train-auc:0.98588#011validation-auc:0.95528\u001b[0m\n",
      "\u001b[34m[2022-11-14:20:40:06:INFO] [18]#011train-auc:0.98675#011validation-auc:0.95547\u001b[0m\n",
      "\u001b[34m[2022-11-14:20:40:17:INFO] [19]#011train-auc:0.98739#011validation-auc:0.95546\u001b[0m\n",
      "\u001b[34m[2022-11-14:20:40:24:INFO] [20]#011train-auc:0.98795#011validation-auc:0.95534\u001b[0m\n",
      "\u001b[34m[2022-11-14:20:40:33:INFO] [21]#011train-auc:0.98887#011validation-auc:0.95595\u001b[0m\n",
      "\u001b[34m[2022-11-14:20:40:47:INFO] [22]#011train-auc:0.98980#011validation-auc:0.95758\u001b[0m\n",
      "\u001b[34m[2022-11-14:20:40:57:INFO] [23]#011train-auc:0.99040#011validation-auc:0.95836\u001b[0m\n",
      "\u001b[34m[2022-11-14:20:41:06:INFO] [24]#011train-auc:0.99108#011validation-auc:0.95918\u001b[0m\n",
      "\u001b[34m[2022-11-14:20:41:17:INFO] [25]#011train-auc:0.99179#011validation-auc:0.95925\u001b[0m\n",
      "\u001b[34m[2022-11-14:20:41:26:INFO] [26]#011train-auc:0.99214#011validation-auc:0.95925\u001b[0m\n",
      "\u001b[34m[2022-11-14:20:41:34:INFO] [27]#011train-auc:0.99250#011validation-auc:0.95971\u001b[0m\n",
      "\u001b[34m[2022-11-14:20:41:44:INFO] [28]#011train-auc:0.99297#011validation-auc:0.96085\u001b[0m\n",
      "\u001b[34m[2022-11-14:20:41:55:INFO] [29]#011train-auc:0.99337#011validation-auc:0.96094\u001b[0m\n",
      "\u001b[34m[2022-11-14:20:42:03:INFO] [30]#011train-auc:0.99359#011validation-auc:0.96170\u001b[0m\n",
      "\u001b[34m[2022-11-14:20:42:11:INFO] [31]#011train-auc:0.99391#011validation-auc:0.96224\u001b[0m\n",
      "\u001b[34m[2022-11-14:20:42:21:INFO] [32]#011train-auc:0.99426#011validation-auc:0.96274\u001b[0m\n",
      "\u001b[34m[2022-11-14:20:42:31:INFO] [33]#011train-auc:0.99455#011validation-auc:0.96270\u001b[0m\n",
      "\u001b[34m[2022-11-14:20:42:40:INFO] [34]#011train-auc:0.99483#011validation-auc:0.96325\u001b[0m\n",
      "\u001b[34m[2022-11-14:20:42:48:INFO] [35]#011train-auc:0.99504#011validation-auc:0.96378\u001b[0m\n",
      "\u001b[34m[2022-11-14:20:42:58:INFO] [36]#011train-auc:0.99536#011validation-auc:0.96411\u001b[0m\n",
      "\u001b[34m[2022-11-14:20:43:10:INFO] [37]#011train-auc:0.99569#011validation-auc:0.96426\u001b[0m\n",
      "\u001b[34m[2022-11-14:20:43:21:INFO] [38]#011train-auc:0.99596#011validation-auc:0.96460\u001b[0m\n",
      "\u001b[34m[2022-11-14:20:43:31:INFO] [39]#011train-auc:0.99615#011validation-auc:0.96382\u001b[0m\n",
      "\u001b[34m[2022-11-14:20:43:39:INFO] [40]#011train-auc:0.99637#011validation-auc:0.96404\u001b[0m\n",
      "\u001b[34m[2022-11-14:20:43:48:INFO] [41]#011train-auc:0.99651#011validation-auc:0.96410\u001b[0m\n",
      "\u001b[34m[2022-11-14:20:43:48:INFO] @tracker All nodes finishes job\u001b[0m\n",
      "\u001b[34m[2022-11-14:20:43:48:INFO] @tracker 452.799076795578 secs between node start and job finish\u001b[0m\n",
      "\n",
      "2022-11-14 20:44:10 Uploading - Uploading generated training model\n",
      "2022-11-14 20:44:10 Completed - Training job completed\n",
      "Training seconds: 2104\n",
      "Billable seconds: 2104\n",
      "ready for hosting!\n"
     ]
    }
   ],
   "source": [
    "xgb_model_1, data_channels_1 = setup_model(base_image='xgboost', model_name='model_1_2', instance_count=4, \n",
    "                                           instance_type='ml.m4.xlarge')\n",
    "xgb_model_1.fit(inputs=data_channels_1)\n",
    "\n",
    "print('ready for hosting!')"
   ]
  },
  {
   "cell_type": "code",
   "execution_count": 10,
   "id": "72a1f5c2",
   "metadata": {},
   "outputs": [
    {
     "name": "stdout",
     "output_type": "stream",
     "text": [
      "--------!"
     ]
    }
   ],
   "source": [
    "xgb_predictor_1 = xgb_model_1.deploy(initial_instance_count=1,\n",
    "                                     serializer=sagemaker.serializers.LibSVMSerializer(),\n",
    "                                     instance_type='ml.m4.xlarge')"
   ]
  },
  {
   "cell_type": "markdown",
   "id": "94b46681",
   "metadata": {},
   "source": [
    "### Métricas do modelo"
   ]
  },
  {
   "cell_type": "code",
   "execution_count": 12,
   "id": "2899ba20",
   "metadata": {},
   "outputs": [],
   "source": [
    "y_pred_1 = make_prediction(xgb_predictor_1, model_name='model_1_2')"
   ]
  },
  {
   "cell_type": "code",
   "execution_count": 13,
   "id": "3205b887",
   "metadata": {},
   "outputs": [
    {
     "name": "stdout",
     "output_type": "stream",
     "text": [
      "              precision    recall  f1-score   support\n",
      "\n",
      "           0       0.93      0.85      0.89       595\n",
      "           1       0.86      0.93      0.90       595\n",
      "\n",
      "    accuracy                           0.89      1190\n",
      "   macro avg       0.90      0.89      0.89      1190\n",
      "weighted avg       0.90      0.89      0.89      1190\n",
      "\n"
     ]
    }
   ],
   "source": [
    "print(classification_report(y_test_1, y_pred_1))"
   ]
  },
  {
   "cell_type": "markdown",
   "id": "0f4f4365",
   "metadata": {},
   "source": [
    "Verifica-se aqui um excelente desempenho mesmo com os dados separados para teste, como foi visto no notebook `model_fakebr.ipynb`para o dataset Fake.br-Corpus. Em seguida, será feita uma segunda validação utilizando este dataset."
   ]
  },
  {
   "cell_type": "markdown",
   "id": "998e951a",
   "metadata": {},
   "source": [
    "### Salvar predição"
   ]
  },
  {
   "cell_type": "code",
   "execution_count": null,
   "id": "638b3030",
   "metadata": {},
   "outputs": [],
   "source": [
    "df_pred_alt = pd.DataFrame({'pred_1_2': y_pred_1})1\n",
    "df_pred_alt.to_csv(f's3://{BUCKET_MODEL}/test/pred_1_2.csv', encoding='utf-8', index=False)"
   ]
  },
  {
   "cell_type": "markdown",
   "id": "3dd0dc01",
   "metadata": {},
   "source": [
    "## Teste adicional - Dataset Fake.br-Corpus\n",
    "Serão amostradas 800 notícias do Dataset Fake.br-Corpus para uma segunda validação do presente modelo."
   ]
  },
  {
   "cell_type": "markdown",
   "id": "6f85c0f3",
   "metadata": {},
   "source": [
    "### Carregar dataset e amostrar dados"
   ]
  },
  {
   "cell_type": "code",
   "execution_count": 17,
   "id": "2fa6581e",
   "metadata": {},
   "outputs": [
    {
     "data": {
      "text/html": [
       "<div>\n",
       "<style scoped>\n",
       "    .dataframe tbody tr th:only-of-type {\n",
       "        vertical-align: middle;\n",
       "    }\n",
       "\n",
       "    .dataframe tbody tr th {\n",
       "        vertical-align: top;\n",
       "    }\n",
       "\n",
       "    .dataframe thead th {\n",
       "        text-align: right;\n",
       "    }\n",
       "</style>\n",
       "<table border=\"1\" class=\"dataframe\">\n",
       "  <thead>\n",
       "    <tr style=\"text-align: right;\">\n",
       "      <th></th>\n",
       "      <th>fake</th>\n",
       "      <th>text</th>\n",
       "      <th>avg_sent_len</th>\n",
       "      <th>avg_word_len</th>\n",
       "      <th>words_str</th>\n",
       "      <th>lemmas_str</th>\n",
       "    </tr>\n",
       "  </thead>\n",
       "  <tbody>\n",
       "    <tr>\n",
       "      <th>0</th>\n",
       "      <td>0</td>\n",
       "      <td>A divisão do STF ao meio entre partidários e ...</td>\n",
       "      <td>10.504673</td>\n",
       "      <td>6.785107</td>\n",
       "      <td>divisão STF meio partidários independentes fic...</td>\n",
       "      <td>divisão STF meio partidário independente ficar...</td>\n",
       "    </tr>\n",
       "    <tr>\n",
       "      <th>1</th>\n",
       "      <td>1</td>\n",
       "      <td>General manda recado para STF: \"Abaixaram as c...</td>\n",
       "      <td>10.866667</td>\n",
       "      <td>6.502610</td>\n",
       "      <td>General manda recado STF Abaixaram calças Cong...</td>\n",
       "      <td>general mandar recado STF abaixar calça congre...</td>\n",
       "    </tr>\n",
       "    <tr>\n",
       "      <th>2</th>\n",
       "      <td>1</td>\n",
       "      <td>O Nordeste acordou! Lula e o PT são enxotados:...</td>\n",
       "      <td>7.333333</td>\n",
       "      <td>6.565873</td>\n",
       "      <td>Nordeste acordou Lula PT enxotados Chega bande...</td>\n",
       "      <td>nordeste acordar Lula PT enxotar chegar bandei...</td>\n",
       "    </tr>\n",
       "    <tr>\n",
       "      <th>3</th>\n",
       "      <td>0</td>\n",
       "      <td>Dois relatórios da Polícia Federal, com análi...</td>\n",
       "      <td>16.878788</td>\n",
       "      <td>7.286668</td>\n",
       "      <td>Dois relatórios Polícia Federal análises mater...</td>\n",
       "      <td>dois relatório Polícia Federal análise materia...</td>\n",
       "    </tr>\n",
       "    <tr>\n",
       "      <th>4</th>\n",
       "      <td>1</td>\n",
       "      <td>Coreia do Norte declara status de QUASE-GUERRA...</td>\n",
       "      <td>11.600000</td>\n",
       "      <td>6.531320</td>\n",
       "      <td>Coreia Norte declara status QUASE-GUERRA mobil...</td>\n",
       "      <td>Coreia Norte declarar status QUASE-GUERRA mobi...</td>\n",
       "    </tr>\n",
       "  </tbody>\n",
       "</table>\n",
       "</div>"
      ],
      "text/plain": [
       "   fake                                               text  avg_sent_len  \\\n",
       "0     0   A divisão do STF ao meio entre partidários e ...     10.504673   \n",
       "1     1  General manda recado para STF: \"Abaixaram as c...     10.866667   \n",
       "2     1  O Nordeste acordou! Lula e o PT são enxotados:...      7.333333   \n",
       "3     0   Dois relatórios da Polícia Federal, com análi...     16.878788   \n",
       "4     1  Coreia do Norte declara status de QUASE-GUERRA...     11.600000   \n",
       "\n",
       "   avg_word_len                                          words_str  \\\n",
       "0      6.785107  divisão STF meio partidários independentes fic...   \n",
       "1      6.502610  General manda recado STF Abaixaram calças Cong...   \n",
       "2      6.565873  Nordeste acordou Lula PT enxotados Chega bande...   \n",
       "3      7.286668  Dois relatórios Polícia Federal análises mater...   \n",
       "4      6.531320  Coreia Norte declara status QUASE-GUERRA mobil...   \n",
       "\n",
       "                                          lemmas_str  \n",
       "0  divisão STF meio partidário independente ficar...  \n",
       "1  general mandar recado STF abaixar calça congre...  \n",
       "2  nordeste acordar Lula PT enxotar chegar bandei...  \n",
       "3  dois relatório Polícia Federal análise materia...  \n",
       "4  Coreia Norte declarar status QUASE-GUERRA mobi...  "
      ]
     },
     "execution_count": 17,
     "metadata": {},
     "output_type": "execute_result"
    }
   ],
   "source": [
    "alternative_df = load_df_from_bucket('dados_processados.csv', tipo='processado')\n",
    "alternative_df.head()"
   ]
  },
  {
   "cell_type": "code",
   "execution_count": 18,
   "id": "bba61b3b",
   "metadata": {},
   "outputs": [
    {
     "data": {
      "text/html": [
       "<div>\n",
       "<style scoped>\n",
       "    .dataframe tbody tr th:only-of-type {\n",
       "        vertical-align: middle;\n",
       "    }\n",
       "\n",
       "    .dataframe tbody tr th {\n",
       "        vertical-align: top;\n",
       "    }\n",
       "\n",
       "    .dataframe thead th {\n",
       "        text-align: right;\n",
       "    }\n",
       "</style>\n",
       "<table border=\"1\" class=\"dataframe\">\n",
       "  <thead>\n",
       "    <tr style=\"text-align: right;\">\n",
       "      <th></th>\n",
       "      <th>fake</th>\n",
       "      <th>lemmas_str</th>\n",
       "    </tr>\n",
       "  </thead>\n",
       "  <tbody>\n",
       "    <tr>\n",
       "      <th>0</th>\n",
       "      <td>0</td>\n",
       "      <td>divisão STF meio partidário independente ficar...</td>\n",
       "    </tr>\n",
       "    <tr>\n",
       "      <th>1</th>\n",
       "      <td>1</td>\n",
       "      <td>general mandar recado STF abaixar calça congre...</td>\n",
       "    </tr>\n",
       "    <tr>\n",
       "      <th>2</th>\n",
       "      <td>1</td>\n",
       "      <td>nordeste acordar Lula PT enxotar chegar bandei...</td>\n",
       "    </tr>\n",
       "    <tr>\n",
       "      <th>3</th>\n",
       "      <td>0</td>\n",
       "      <td>dois relatório Polícia Federal análise materia...</td>\n",
       "    </tr>\n",
       "    <tr>\n",
       "      <th>4</th>\n",
       "      <td>1</td>\n",
       "      <td>Coreia Norte declarar status QUASE-GUERRA mobi...</td>\n",
       "    </tr>\n",
       "  </tbody>\n",
       "</table>\n",
       "</div>"
      ],
      "text/plain": [
       "   fake                                         lemmas_str\n",
       "0     0  divisão STF meio partidário independente ficar...\n",
       "1     1  general mandar recado STF abaixar calça congre...\n",
       "2     1  nordeste acordar Lula PT enxotar chegar bandei...\n",
       "3     0  dois relatório Polícia Federal análise materia...\n",
       "4     1  Coreia Norte declarar status QUASE-GUERRA mobi..."
      ]
     },
     "execution_count": 18,
     "metadata": {},
     "output_type": "execute_result"
    }
   ],
   "source": [
    "alternative_df = alternative_df[['fake', 'lemmas_str']]\n",
    "alternative_df.head()"
   ]
  },
  {
   "cell_type": "code",
   "execution_count": 22,
   "id": "65a9ab82",
   "metadata": {},
   "outputs": [],
   "source": [
    "sample_df = alternative_df.sample(n=800)"
   ]
  },
  {
   "cell_type": "markdown",
   "id": "54156b20",
   "metadata": {},
   "source": [
    "#### Predição\n",
    "\n",
    "Aplicar TF-IDF para vetorizar, salvar dados no S3 e efetuar predição"
   ]
  },
  {
   "cell_type": "code",
   "execution_count": 23,
   "id": "e5ad5012",
   "metadata": {},
   "outputs": [
    {
     "name": "stderr",
     "output_type": "stream",
     "text": [
      "/home/ec2-user/anaconda3/envs/amazonei_tensorflow2_p36/lib/python3.6/site-packages/boto3/compat.py:88: PythonDeprecationWarning: Boto3 will no longer support Python 3.6 starting May 30, 2022. To continue receiving service updates, bug fixes, and security updates please upgrade to Python 3.7 or later. More information can be found here: https://aws.amazon.com/blogs/developer/python-support-policy-updates-for-aws-sdks-and-tools/\n",
      "  warnings.warn(warning, PythonDeprecationWarning)\n"
     ]
    }
   ],
   "source": [
    "x_test_alt, y_test_alt = create_x_y_1(sample_df, tfidf)\n",
    "save_to_s3_bucket_as_libsvm(x_test_alt, y_test_alt, \n",
    "                            prefix='test', filename='model_2_1_alt.libsvm', tipo='modelo')"
   ]
  },
  {
   "cell_type": "code",
   "execution_count": 24,
   "id": "30782890",
   "metadata": {},
   "outputs": [],
   "source": [
    "y_pred_alt = make_prediction(xgb_predictor_1, model_name='model_2_1_alt')"
   ]
  },
  {
   "cell_type": "markdown",
   "id": "1456fa19",
   "metadata": {},
   "source": [
    "## Métricas"
   ]
  },
  {
   "cell_type": "code",
   "execution_count": 25,
   "id": "2fcd6570",
   "metadata": {},
   "outputs": [
    {
     "name": "stdout",
     "output_type": "stream",
     "text": [
      "              precision    recall  f1-score   support\n",
      "\n",
      "           0       0.64      0.94      0.77       381\n",
      "           1       0.91      0.52      0.66       419\n",
      "\n",
      "    accuracy                           0.72       800\n",
      "   macro avg       0.78      0.73      0.71       800\n",
      "weighted avg       0.78      0.72      0.71       800\n",
      "\n"
     ]
    }
   ],
   "source": [
    "print(classification_report(y_test_alt, y_pred_alt))"
   ]
  },
  {
   "cell_type": "markdown",
   "id": "ae9eb91d",
   "metadata": {},
   "source": [
    "Os resultados neste modelo foram bem mais razoáveis. Embora o modelo obtido não obtenha resultados ideais ao avaliar as notícias do outro dataset, são resultados mais coerentes.\n",
    "\n",
    "Um modelo combinado, treinado baseado nos dois datasets, é apresentado no notebook `model_combinado.ipynb`."
   ]
  },
  {
   "cell_type": "markdown",
   "id": "067722f7",
   "metadata": {},
   "source": [
    "#### Salvar predição"
   ]
  },
  {
   "cell_type": "code",
   "execution_count": 26,
   "id": "cd8ecd30",
   "metadata": {},
   "outputs": [],
   "source": [
    "df_pred_alt = pd.DataFrame({'pred_2_alt': y_pred_alt})\n",
    "df_pred_alt.to_csv(f's3://{BUCKET_MODEL}/test/pred_2_alt.csv', encoding='utf-8', index=False)"
   ]
  },
  {
   "cell_type": "markdown",
   "id": "5c8d7d83",
   "metadata": {},
   "source": [
    "### Encerrar modelo\n",
    "Após pegar métricas e dados de interesse, encerrar modelo para evitar cobranças."
   ]
  },
  {
   "cell_type": "code",
   "execution_count": 27,
   "id": "fbc86b2a",
   "metadata": {},
   "outputs": [],
   "source": [
    "xgb_predictor_1.delete_endpoint(delete_endpoint_config=True) "
   ]
  },
  {
   "cell_type": "code",
   "execution_count": null,
   "id": "c037e8a7",
   "metadata": {},
   "outputs": [],
   "source": []
  },
  {
   "cell_type": "code",
   "execution_count": null,
   "id": "15304256",
   "metadata": {},
   "outputs": [],
   "source": []
  },
  {
   "cell_type": "code",
   "execution_count": null,
   "id": "d5b086de",
   "metadata": {},
   "outputs": [],
   "source": []
  },
  {
   "cell_type": "code",
   "execution_count": null,
   "id": "9fcb3df6",
   "metadata": {},
   "outputs": [],
   "source": []
  },
  {
   "cell_type": "code",
   "execution_count": null,
   "id": "80e057e4",
   "metadata": {},
   "outputs": [],
   "source": []
  },
  {
   "cell_type": "code",
   "execution_count": null,
   "id": "369dc4bc",
   "metadata": {},
   "outputs": [],
   "source": []
  },
  {
   "cell_type": "code",
   "execution_count": null,
   "id": "48dec56e",
   "metadata": {},
   "outputs": [],
   "source": []
  },
  {
   "cell_type": "code",
   "execution_count": null,
   "id": "2649e61d",
   "metadata": {},
   "outputs": [],
   "source": []
  },
  {
   "cell_type": "code",
   "execution_count": null,
   "id": "24b2a242",
   "metadata": {},
   "outputs": [],
   "source": []
  },
  {
   "cell_type": "code",
   "execution_count": null,
   "id": "f0fa639c",
   "metadata": {},
   "outputs": [],
   "source": []
  },
  {
   "cell_type": "code",
   "execution_count": null,
   "id": "b437a6fa",
   "metadata": {},
   "outputs": [],
   "source": []
  },
  {
   "cell_type": "code",
   "execution_count": null,
   "id": "e88058c6",
   "metadata": {},
   "outputs": [],
   "source": []
  },
  {
   "cell_type": "code",
   "execution_count": null,
   "id": "d69d6cda",
   "metadata": {},
   "outputs": [],
   "source": []
  },
  {
   "cell_type": "code",
   "execution_count": null,
   "id": "6bcb2598",
   "metadata": {},
   "outputs": [],
   "source": []
  },
  {
   "cell_type": "code",
   "execution_count": null,
   "id": "83f64ce5",
   "metadata": {},
   "outputs": [],
   "source": []
  },
  {
   "cell_type": "code",
   "execution_count": null,
   "id": "57460af0",
   "metadata": {},
   "outputs": [],
   "source": []
  },
  {
   "cell_type": "code",
   "execution_count": null,
   "id": "3342e239",
   "metadata": {},
   "outputs": [],
   "source": []
  },
  {
   "cell_type": "code",
   "execution_count": null,
   "id": "accb3748",
   "metadata": {},
   "outputs": [],
   "source": []
  },
  {
   "cell_type": "code",
   "execution_count": null,
   "id": "b90e86ee",
   "metadata": {},
   "outputs": [],
   "source": []
  },
  {
   "cell_type": "code",
   "execution_count": null,
   "id": "4f131f1d",
   "metadata": {},
   "outputs": [],
   "source": []
  },
  {
   "cell_type": "code",
   "execution_count": null,
   "id": "7a23d70f",
   "metadata": {},
   "outputs": [],
   "source": []
  },
  {
   "cell_type": "code",
   "execution_count": null,
   "id": "997434f0",
   "metadata": {},
   "outputs": [],
   "source": []
  },
  {
   "cell_type": "code",
   "execution_count": null,
   "id": "c93b5e4c",
   "metadata": {},
   "outputs": [],
   "source": []
  },
  {
   "cell_type": "code",
   "execution_count": null,
   "id": "3575a59e",
   "metadata": {},
   "outputs": [],
   "source": []
  },
  {
   "cell_type": "code",
   "execution_count": null,
   "id": "37469d1f",
   "metadata": {},
   "outputs": [],
   "source": []
  },
  {
   "cell_type": "code",
   "execution_count": null,
   "id": "07f0659e",
   "metadata": {},
   "outputs": [],
   "source": []
  },
  {
   "cell_type": "code",
   "execution_count": null,
   "id": "32b95d29",
   "metadata": {},
   "outputs": [],
   "source": []
  },
  {
   "cell_type": "code",
   "execution_count": null,
   "id": "3d032cbc",
   "metadata": {},
   "outputs": [],
   "source": []
  },
  {
   "cell_type": "code",
   "execution_count": 50,
   "id": "c166a966",
   "metadata": {},
   "outputs": [],
   "source": [
    "df_pred_2 = pd.DataFrame({'pred_2': y_pred_2})\n",
    "df_pred_2.to_csv(f's3://{BUCKET_MODEL}/test/pred_2.csv', encoding='utf-8', index=False)"
   ]
  },
  {
   "cell_type": "code",
   "execution_count": 76,
   "id": "3bbc7664",
   "metadata": {},
   "outputs": [
    {
     "data": {
      "text/html": [
       "<div>\n",
       "<style scoped>\n",
       "    .dataframe tbody tr th:only-of-type {\n",
       "        vertical-align: middle;\n",
       "    }\n",
       "\n",
       "    .dataframe tbody tr th {\n",
       "        vertical-align: top;\n",
       "    }\n",
       "\n",
       "    .dataframe thead th {\n",
       "        text-align: right;\n",
       "    }\n",
       "</style>\n",
       "<table border=\"1\" class=\"dataframe\">\n",
       "  <thead>\n",
       "    <tr style=\"text-align: right;\">\n",
       "      <th></th>\n",
       "      <th>Titulo</th>\n",
       "      <th>Subtitulo</th>\n",
       "      <th>Noticia</th>\n",
       "      <th>Categoria</th>\n",
       "      <th>Data</th>\n",
       "      <th>Autor</th>\n",
       "      <th>URL</th>\n",
       "      <th>Classe</th>\n",
       "    </tr>\n",
       "  </thead>\n",
       "  <tbody>\n",
       "    <tr>\n",
       "      <th>0</th>\n",
       "      <td>\\n\\nPapa Francisco foi preso sob acusação de t...</td>\n",
       "      <td>Boato – Ocorreu um apagão no Vaticano. O papa ...</td>\n",
       "      <td>apagão vaticano papar presar acusação tráfico ...</td>\n",
       "      <td>entretenimento</td>\n",
       "      <td>11/01/2021</td>\n",
       "      <td>\\nEdgard Matsuki</td>\n",
       "      <td>https://www.boatos.org/religiao/papa-francisco...</td>\n",
       "      <td>0.0</td>\n",
       "    </tr>\n",
       "    <tr>\n",
       "      <th>1</th>\n",
       "      <td>Equador prepara cova coletiva para mortos por ...</td>\n",
       "      <td>NaN</td>\n",
       "      <td>o governar equador anunciar preparar cova cole...</td>\n",
       "      <td>saúde</td>\n",
       "      <td>27/03/2020 18h25</td>\n",
       "      <td>27/03/2020 18h25</td>\n",
       "      <td>https://noticias.uol.com.br/internacional/ulti...</td>\n",
       "      <td>1.0</td>\n",
       "    </tr>\n",
       "    <tr>\n",
       "      <th>2</th>\n",
       "      <td>Air France voltará a operar voo direto Pequim-...</td>\n",
       "      <td>NaN</td>\n",
       "      <td>o companhia air france operar voar direto pequ...</td>\n",
       "      <td>saúde</td>\n",
       "      <td>07/08/2020 13h42</td>\n",
       "      <td>07/08/2020 13h42</td>\n",
       "      <td>https://www.uol.com.br/nossa/noticias/afp/2020...</td>\n",
       "      <td>1.0</td>\n",
       "    </tr>\n",
       "    <tr>\n",
       "      <th>3</th>\n",
       "      <td>Marfrig intensifica venda de carne do Brasil a...</td>\n",
       "      <td>NaN</td>\n",
       "      <td>o marfrig global foods retomar vender carnar b...</td>\n",
       "      <td>saúde</td>\n",
       "      <td>27/04/2020 14h53</td>\n",
       "      <td>27/04/2020 14h53</td>\n",
       "      <td>https://economia.uol.com.br/noticias/reuters/2...</td>\n",
       "      <td>1.0</td>\n",
       "    </tr>\n",
       "    <tr>\n",
       "      <th>4</th>\n",
       "      <td>As parciais das eleições de 2014 alternaram ma...</td>\n",
       "      <td>NaN</td>\n",
       "      <td>o assunto voltar o compartilhar rede social ju...</td>\n",
       "      <td>entretenimento</td>\n",
       "      <td>31/07/2021</td>\n",
       "      <td>Gilmar Lopes</td>\n",
       "      <td>https://www.e-farsas.com/as-parciais-das-eleic...</td>\n",
       "      <td>0.0</td>\n",
       "    </tr>\n",
       "  </tbody>\n",
       "</table>\n",
       "</div>"
      ],
      "text/plain": [
       "                                              Titulo  \\\n",
       "0  \\n\\nPapa Francisco foi preso sob acusação de t...   \n",
       "1  Equador prepara cova coletiva para mortos por ...   \n",
       "2  Air France voltará a operar voo direto Pequim-...   \n",
       "3  Marfrig intensifica venda de carne do Brasil a...   \n",
       "4  As parciais das eleições de 2014 alternaram ma...   \n",
       "\n",
       "                                           Subtitulo  \\\n",
       "0  Boato – Ocorreu um apagão no Vaticano. O papa ...   \n",
       "1                                                NaN   \n",
       "2                                                NaN   \n",
       "3                                                NaN   \n",
       "4                                                NaN   \n",
       "\n",
       "                                             Noticia       Categoria  \\\n",
       "0  apagão vaticano papar presar acusação tráfico ...  entretenimento   \n",
       "1  o governar equador anunciar preparar cova cole...           saúde   \n",
       "2  o companhia air france operar voar direto pequ...           saúde   \n",
       "3  o marfrig global foods retomar vender carnar b...           saúde   \n",
       "4  o assunto voltar o compartilhar rede social ju...  entretenimento   \n",
       "\n",
       "                Data              Autor  \\\n",
       "0         11/01/2021  \\nEdgard Matsuki    \n",
       "1  27/03/2020 18h25   27/03/2020 18h25    \n",
       "2  07/08/2020 13h42   07/08/2020 13h42    \n",
       "3  27/04/2020 14h53   27/04/2020 14h53    \n",
       "4         31/07/2021       Gilmar Lopes   \n",
       "\n",
       "                                                 URL  Classe  \n",
       "0  https://www.boatos.org/religiao/papa-francisco...     0.0  \n",
       "1  https://noticias.uol.com.br/internacional/ulti...     1.0  \n",
       "2  https://www.uol.com.br/nossa/noticias/afp/2020...     1.0  \n",
       "3  https://economia.uol.com.br/noticias/reuters/2...     1.0  \n",
       "4  https://www.e-farsas.com/as-parciais-das-eleic...     0.0  "
      ]
     },
     "execution_count": 76,
     "metadata": {},
     "output_type": "execute_result"
    }
   ],
   "source": [
    "dset_link = 'https://github.com/Gabriel-Lino-Garcia/FakeRecogna/raw/master/dataset/FakeRecogna.xlsx'\n",
    "alternative_df = pd.read_excel(dset_link, engine='openpyxl')  # engine para xlsx\n",
    "alternative_df.head()"
   ]
  },
  {
   "cell_type": "markdown",
   "id": "4bb23384",
   "metadata": {},
   "source": [
    "#### Nulos\n",
    "Verificar presença de linha com campo 'Noticia' nulo e remover se for o caso"
   ]
  },
  {
   "cell_type": "code",
   "execution_count": 77,
   "id": "6cd1c7f6",
   "metadata": {},
   "outputs": [
    {
     "data": {
      "text/plain": [
       "Titulo         31\n",
       "Subtitulo    6323\n",
       "Noticia         1\n",
       "Categoria       1\n",
       "Data          352\n",
       "Autor          17\n",
       "URL             1\n",
       "Classe          1\n",
       "dtype: int64"
      ]
     },
     "execution_count": 77,
     "metadata": {},
     "output_type": "execute_result"
    }
   ],
   "source": [
    "alternative_df.isna().sum()"
   ]
  },
  {
   "cell_type": "code",
   "execution_count": 78,
   "id": "f449e36c",
   "metadata": {},
   "outputs": [
    {
     "data": {
      "text/html": [
       "<div>\n",
       "<style scoped>\n",
       "    .dataframe tbody tr th:only-of-type {\n",
       "        vertical-align: middle;\n",
       "    }\n",
       "\n",
       "    .dataframe tbody tr th {\n",
       "        vertical-align: top;\n",
       "    }\n",
       "\n",
       "    .dataframe thead th {\n",
       "        text-align: right;\n",
       "    }\n",
       "</style>\n",
       "<table border=\"1\" class=\"dataframe\">\n",
       "  <thead>\n",
       "    <tr style=\"text-align: right;\">\n",
       "      <th></th>\n",
       "      <th>Titulo</th>\n",
       "      <th>Subtitulo</th>\n",
       "      <th>Noticia</th>\n",
       "      <th>Categoria</th>\n",
       "      <th>Data</th>\n",
       "      <th>Autor</th>\n",
       "      <th>URL</th>\n",
       "      <th>Classe</th>\n",
       "    </tr>\n",
       "  </thead>\n",
       "  <tbody>\n",
       "    <tr>\n",
       "      <th>7337</th>\n",
       "      <td>NaN</td>\n",
       "      <td>NaN</td>\n",
       "      <td>NaN</td>\n",
       "      <td>NaN</td>\n",
       "      <td>NaN</td>\n",
       "      <td>NaN</td>\n",
       "      <td>NaN</td>\n",
       "      <td>NaN</td>\n",
       "    </tr>\n",
       "  </tbody>\n",
       "</table>\n",
       "</div>"
      ],
      "text/plain": [
       "     Titulo Subtitulo Noticia Categoria Data Autor  URL  Classe\n",
       "7337    NaN       NaN     NaN       NaN  NaN   NaN  NaN     NaN"
      ]
     },
     "execution_count": 78,
     "metadata": {},
     "output_type": "execute_result"
    }
   ],
   "source": [
    "alternative_df[alternative_df['Noticia'].isna()]"
   ]
  },
  {
   "cell_type": "code",
   "execution_count": 80,
   "id": "1d267126",
   "metadata": {},
   "outputs": [],
   "source": [
    "alternative_df.dropna(subset=['Noticia'], inplace=True)"
   ]
  },
  {
   "cell_type": "markdown",
   "id": "181bdefa",
   "metadata": {},
   "source": [
    "#### Preparação do segundo dataset\n",
    "\n",
    "Colunas de interesse são apenas 'notícia' (equivalente a 'lemma_str') e classe (equivalente a 'fake'). Note que, neste dataset, Classe 0.0 indica notícia Falsa e classe 1.0 indica notícia real! Portanto, é necessário adaptar o DataFrame."
   ]
  },
  {
   "cell_type": "code",
   "execution_count": 81,
   "id": "a72b9751",
   "metadata": {},
   "outputs": [],
   "source": [
    "alternative_df['lemmas_str'] = alternative_df['Noticia']\n",
    "alternative_df['fake'] = (~alternative_df['Classe'].astype(bool)).astype(int) # inverter 1 e 0\n",
    "\n",
    "# Dropar colunas agora redundantes\n",
    "alternative_df = alternative_df.drop(['Noticia', 'Classe'], axis=1)"
   ]
  },
  {
   "cell_type": "markdown",
   "id": "9d673589",
   "metadata": {},
   "source": [
    "Amostrar 400 linhas para teste"
   ]
  },
  {
   "cell_type": "code",
   "execution_count": 83,
   "id": "1807184a",
   "metadata": {},
   "outputs": [],
   "source": [
    "n = 400\n",
    "sample_df = alternative_df.sample(n=n, random_state=42)"
   ]
  },
  {
   "cell_type": "markdown",
   "id": "648d3ae2",
   "metadata": {},
   "source": [
    "#### Predição\n",
    "\n",
    "Aplicar TF-IDF para vetorizar, salvar dados no S3 e efetuar predição"
   ]
  },
  {
   "cell_type": "code",
   "execution_count": 85,
   "id": "689b9b9e",
   "metadata": {},
   "outputs": [
    {
     "name": "stderr",
     "output_type": "stream",
     "text": [
      "/home/ec2-user/anaconda3/envs/amazonei_tensorflow2_p36/lib/python3.6/site-packages/boto3/compat.py:88: PythonDeprecationWarning: Boto3 will no longer support Python 3.6 starting May 30, 2022. To continue receiving service updates, bug fixes, and security updates please upgrade to Python 3.7 or later. More information can be found here: https://aws.amazon.com/blogs/developer/python-support-policy-updates-for-aws-sdks-and-tools/\n",
      "  warnings.warn(warning, PythonDeprecationWarning)\n"
     ]
    }
   ],
   "source": [
    "x_test_alt, y_test_alt = create_x_y_2(sample_df, tfidf)\n",
    "save_to_s3_bucket_as_libsvm(x_test_alt, y_test_alt, \n",
    "                            prefix='test', filename='model_2_alt.libsvm', tipo='modelo')"
   ]
  },
  {
   "cell_type": "code",
   "execution_count": 86,
   "id": "5ec999dc",
   "metadata": {},
   "outputs": [],
   "source": [
    "y_pred_alt = make_prediction(xgb_predictor_2, model_name='model_2_alt')"
   ]
  },
  {
   "cell_type": "markdown",
   "id": "2cbe15d4",
   "metadata": {},
   "source": [
    "#### Métricas"
   ]
  },
  {
   "cell_type": "code",
   "execution_count": 87,
   "id": "643fbe24",
   "metadata": {},
   "outputs": [
    {
     "name": "stdout",
     "output_type": "stream",
     "text": [
      "              precision    recall  f1-score   support\n",
      "\n",
      "           0       1.00      0.01      0.02       205\n",
      "           1       0.49      1.00      0.66       195\n",
      "\n",
      "    accuracy                           0.49       400\n",
      "   macro avg       0.74      0.50      0.34       400\n",
      "weighted avg       0.75      0.49      0.33       400\n",
      "\n"
     ]
    }
   ],
   "source": [
    "print(classification_report(y_test_alt, y_pred_alt))"
   ]
  },
  {
   "cell_type": "markdown",
   "id": "58ceb4a8",
   "metadata": {},
   "source": [
    "#### Salvar predição"
   ]
  },
  {
   "cell_type": "code",
   "execution_count": 88,
   "id": "30665fb2",
   "metadata": {},
   "outputs": [],
   "source": [
    "df_pred_alt = pd.DataFrame({'pred_alt': y_pred_alt})\n",
    "df_pred_alt.to_csv(f's3://{BUCKET_MODEL}/test/pred_alt.csv', encoding='utf-8', index=False)"
   ]
  },
  {
   "cell_type": "markdown",
   "id": "bed2b929",
   "metadata": {},
   "source": [
    "### Encerrar modelo\n",
    "Após pegar métricas e dados de interesse, encerrar modelo para evitar cobranças."
   ]
  },
  {
   "cell_type": "code",
   "execution_count": 89,
   "id": "37aea010",
   "metadata": {},
   "outputs": [],
   "source": [
    "xgb_predictor_2.delete_endpoint(delete_endpoint_config=True) "
   ]
  }
 ],
 "metadata": {
  "kernelspec": {
   "display_name": "conda_amazonei_tensorflow2_p36",
   "language": "python",
   "name": "conda_amazonei_tensorflow2_p36"
  },
  "language_info": {
   "codemirror_mode": {
    "name": "ipython",
    "version": 3
   },
   "file_extension": ".py",
   "mimetype": "text/x-python",
   "name": "python",
   "nbconvert_exporter": "python",
   "pygments_lexer": "ipython3",
   "version": "3.6.13"
  }
 },
 "nbformat": 4,
 "nbformat_minor": 5
}
