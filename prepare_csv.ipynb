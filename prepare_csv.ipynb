{
 "cells": [
  {
   "cell_type": "markdown",
   "metadata": {},
   "source": [
    "# Notebook para converter conteúdo da pasta news_texts em um .csv"
   ]
  },
  {
   "cell_type": "code",
   "execution_count": 13,
   "metadata": {},
   "outputs": [],
   "source": [
    "from zipfile import ZipFile\n",
    "import pandas as pd\n",
    "import os\n",
    "import io\n",
    "\n",
    "texts_dir = 'news_texts'\n",
    "fake_path = os.path.join(texts_dir, 'fake.zip')\n",
    "true_path = os.path.join(texts_dir, 'true.zip')\n",
    "\n",
    "paths_tuples = [(fake_path, 1), (true_path, 0)]\n"
   ]
  },
  {
   "cell_type": "code",
   "execution_count": 18,
   "metadata": {},
   "outputs": [],
   "source": [
    "class DataKeys:\n",
    "    fake = 'fake'\n",
    "    text = 'text'\n",
    "\n",
    "data_dict = {DataKeys.fake: [], DataKeys.text: []}"
   ]
  },
  {
   "cell_type": "code",
   "execution_count": 19,
   "metadata": {},
   "outputs": [],
   "source": [
    "for zip_path, is_fake in paths_tuples:\n",
    "\n",
    "    with ZipFile(zip_path, 'r') as zip:\n",
    "        for file in zip.namelist():\n",
    "            if file.endswith('txt'):\n",
    "                with io.TextIOWrapper(zip.open(file), encoding=\"utf-8\") as f:\n",
    "                    file_text = f.read()\n",
    "                    data_dict[DataKeys.fake].append(is_fake)\n",
    "                    data_dict[DataKeys.text].append(file_text)"
   ]
  },
  {
   "cell_type": "code",
   "execution_count": 25,
   "metadata": {},
   "outputs": [],
   "source": [
    "data_df = pd.DataFrame.from_dict(data_dict)\n",
    "data_df.head()\n",
    "data_df.to_csv('dados_brutos.csv', index=False, encoding='utf-8')"
   ]
  }
 ],
 "metadata": {
  "kernelspec": {
   "display_name": "Python 3.8.3 32-bit",
   "language": "python",
   "name": "python3"
  },
  "language_info": {
   "codemirror_mode": {
    "name": "ipython",
    "version": 3
   },
   "file_extension": ".py",
   "mimetype": "text/x-python",
   "name": "python",
   "nbconvert_exporter": "python",
   "pygments_lexer": "ipython3",
   "version": "3.8.3"
  },
  "orig_nbformat": 4,
  "vscode": {
   "interpreter": {
    "hash": "c5fa7ba32432fbccd6c6c336f668a51ad23212af70fbbcf1e0985032658c8a57"
   }
  }
 },
 "nbformat": 4,
 "nbformat_minor": 2
}
