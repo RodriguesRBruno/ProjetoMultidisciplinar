{
 "cells": [
  {
   "cell_type": "markdown",
   "id": "4311b847",
   "metadata": {},
   "source": [
    "# Treinamento e validação de Modelos - Dataset Fake.br-Corpus"
   ]
  },
  {
   "cell_type": "code",
   "execution_count": 1,
   "id": "3046193e",
   "metadata": {},
   "outputs": [],
   "source": [
    "import os\n",
    "import sagemaker\n",
    "import pandas as pd\n",
    "from sklearn.feature_extraction.text import TfidfVectorizer\n",
    "from sklearn.metrics import classification_report, precision_score\n",
    "from python_scripts.save_load import load_df_from_bucket, save_df_to_s3_bucket, save_to_s3_bucket_as_libsvm, BUCKET_MODEL\n",
    "from python_scripts.modelling import create_train_validation_test_sets, setup_model, make_prediction    \n",
    "from python_scripts.plots import plot_confusion_matrix"
   ]
  },
  {
   "cell_type": "markdown",
   "id": "56d6f2c8",
   "metadata": {},
   "source": [
    "## Carregamento de dados\n",
    "Apenas as colunas de lemmas, tamanho médio de sentença e tamanho médio de palavra serão utilizadas no modelo"
   ]
  },
  {
   "cell_type": "code",
   "execution_count": 2,
   "id": "93fa9779",
   "metadata": {},
   "outputs": [
    {
     "data": {
      "text/html": [
       "<div>\n",
       "<style scoped>\n",
       "    .dataframe tbody tr th:only-of-type {\n",
       "        vertical-align: middle;\n",
       "    }\n",
       "\n",
       "    .dataframe tbody tr th {\n",
       "        vertical-align: top;\n",
       "    }\n",
       "\n",
       "    .dataframe thead th {\n",
       "        text-align: right;\n",
       "    }\n",
       "</style>\n",
       "<table border=\"1\" class=\"dataframe\">\n",
       "  <thead>\n",
       "    <tr style=\"text-align: right;\">\n",
       "      <th></th>\n",
       "      <th>fake</th>\n",
       "      <th>text</th>\n",
       "      <th>avg_sent_len</th>\n",
       "      <th>avg_word_len</th>\n",
       "      <th>words_str</th>\n",
       "      <th>lemmas_str</th>\n",
       "    </tr>\n",
       "  </thead>\n",
       "  <tbody>\n",
       "    <tr>\n",
       "      <th>0</th>\n",
       "      <td>0</td>\n",
       "      <td>A divisão do STF ao meio entre partidários e ...</td>\n",
       "      <td>10.504673</td>\n",
       "      <td>6.785107</td>\n",
       "      <td>divisão STF meio partidários independentes fic...</td>\n",
       "      <td>divisão STF meio partidário independente ficar...</td>\n",
       "    </tr>\n",
       "    <tr>\n",
       "      <th>1</th>\n",
       "      <td>1</td>\n",
       "      <td>General manda recado para STF: \"Abaixaram as c...</td>\n",
       "      <td>10.866667</td>\n",
       "      <td>6.502610</td>\n",
       "      <td>General manda recado STF Abaixaram calças Cong...</td>\n",
       "      <td>general mandar recado STF abaixar calça congre...</td>\n",
       "    </tr>\n",
       "    <tr>\n",
       "      <th>2</th>\n",
       "      <td>1</td>\n",
       "      <td>O Nordeste acordou! Lula e o PT são enxotados:...</td>\n",
       "      <td>7.333333</td>\n",
       "      <td>6.565873</td>\n",
       "      <td>Nordeste acordou Lula PT enxotados Chega bande...</td>\n",
       "      <td>nordeste acordar Lula PT enxotar chegar bandei...</td>\n",
       "    </tr>\n",
       "    <tr>\n",
       "      <th>3</th>\n",
       "      <td>0</td>\n",
       "      <td>Dois relatórios da Polícia Federal, com análi...</td>\n",
       "      <td>16.878788</td>\n",
       "      <td>7.286668</td>\n",
       "      <td>Dois relatórios Polícia Federal análises mater...</td>\n",
       "      <td>dois relatório Polícia Federal análise materia...</td>\n",
       "    </tr>\n",
       "    <tr>\n",
       "      <th>4</th>\n",
       "      <td>1</td>\n",
       "      <td>Coreia do Norte declara status de QUASE-GUERRA...</td>\n",
       "      <td>11.600000</td>\n",
       "      <td>6.531320</td>\n",
       "      <td>Coreia Norte declara status QUASE-GUERRA mobil...</td>\n",
       "      <td>Coreia Norte declarar status QUASE-GUERRA mobi...</td>\n",
       "    </tr>\n",
       "  </tbody>\n",
       "</table>\n",
       "</div>"
      ],
      "text/plain": [
       "   fake                                               text  avg_sent_len  \\\n",
       "0     0   A divisão do STF ao meio entre partidários e ...     10.504673   \n",
       "1     1  General manda recado para STF: \"Abaixaram as c...     10.866667   \n",
       "2     1  O Nordeste acordou! Lula e o PT são enxotados:...      7.333333   \n",
       "3     0   Dois relatórios da Polícia Federal, com análi...     16.878788   \n",
       "4     1  Coreia do Norte declara status de QUASE-GUERRA...     11.600000   \n",
       "\n",
       "   avg_word_len                                          words_str  \\\n",
       "0      6.785107  divisão STF meio partidários independentes fic...   \n",
       "1      6.502610  General manda recado STF Abaixaram calças Cong...   \n",
       "2      6.565873  Nordeste acordou Lula PT enxotados Chega bande...   \n",
       "3      7.286668  Dois relatórios Polícia Federal análises mater...   \n",
       "4      6.531320  Coreia Norte declara status QUASE-GUERRA mobil...   \n",
       "\n",
       "                                          lemmas_str  \n",
       "0  divisão STF meio partidário independente ficar...  \n",
       "1  general mandar recado STF abaixar calça congre...  \n",
       "2  nordeste acordar Lula PT enxotar chegar bandei...  \n",
       "3  dois relatório Polícia Federal análise materia...  \n",
       "4  Coreia Norte declarar status QUASE-GUERRA mobi...  "
      ]
     },
     "execution_count": 2,
     "metadata": {},
     "output_type": "execute_result"
    }
   ],
   "source": [
    "full_df = load_df_from_bucket('dados_processados.csv', tipo='processado')\n",
    "full_df.head()"
   ]
  },
  {
   "cell_type": "code",
   "execution_count": 3,
   "id": "b5079f9c",
   "metadata": {},
   "outputs": [
    {
     "data": {
      "text/html": [
       "<div>\n",
       "<style scoped>\n",
       "    .dataframe tbody tr th:only-of-type {\n",
       "        vertical-align: middle;\n",
       "    }\n",
       "\n",
       "    .dataframe tbody tr th {\n",
       "        vertical-align: top;\n",
       "    }\n",
       "\n",
       "    .dataframe thead th {\n",
       "        text-align: right;\n",
       "    }\n",
       "</style>\n",
       "<table border=\"1\" class=\"dataframe\">\n",
       "  <thead>\n",
       "    <tr style=\"text-align: right;\">\n",
       "      <th></th>\n",
       "      <th>fake</th>\n",
       "      <th>lemmas_str</th>\n",
       "      <th>avg_sent_len</th>\n",
       "      <th>avg_word_len</th>\n",
       "    </tr>\n",
       "  </thead>\n",
       "  <tbody>\n",
       "    <tr>\n",
       "      <th>0</th>\n",
       "      <td>0</td>\n",
       "      <td>divisão STF meio partidário independente ficar...</td>\n",
       "      <td>10.504673</td>\n",
       "      <td>6.785107</td>\n",
       "    </tr>\n",
       "    <tr>\n",
       "      <th>1</th>\n",
       "      <td>1</td>\n",
       "      <td>general mandar recado STF abaixar calça congre...</td>\n",
       "      <td>10.866667</td>\n",
       "      <td>6.502610</td>\n",
       "    </tr>\n",
       "    <tr>\n",
       "      <th>2</th>\n",
       "      <td>1</td>\n",
       "      <td>nordeste acordar Lula PT enxotar chegar bandei...</td>\n",
       "      <td>7.333333</td>\n",
       "      <td>6.565873</td>\n",
       "    </tr>\n",
       "    <tr>\n",
       "      <th>3</th>\n",
       "      <td>0</td>\n",
       "      <td>dois relatório Polícia Federal análise materia...</td>\n",
       "      <td>16.878788</td>\n",
       "      <td>7.286668</td>\n",
       "    </tr>\n",
       "    <tr>\n",
       "      <th>4</th>\n",
       "      <td>1</td>\n",
       "      <td>Coreia Norte declarar status QUASE-GUERRA mobi...</td>\n",
       "      <td>11.600000</td>\n",
       "      <td>6.531320</td>\n",
       "    </tr>\n",
       "  </tbody>\n",
       "</table>\n",
       "</div>"
      ],
      "text/plain": [
       "   fake                                         lemmas_str  avg_sent_len  \\\n",
       "0     0  divisão STF meio partidário independente ficar...     10.504673   \n",
       "1     1  general mandar recado STF abaixar calça congre...     10.866667   \n",
       "2     1  nordeste acordar Lula PT enxotar chegar bandei...      7.333333   \n",
       "3     0  dois relatório Polícia Federal análise materia...     16.878788   \n",
       "4     1  Coreia Norte declarar status QUASE-GUERRA mobi...     11.600000   \n",
       "\n",
       "   avg_word_len  \n",
       "0      6.785107  \n",
       "1      6.502610  \n",
       "2      6.565873  \n",
       "3      7.286668  \n",
       "4      6.531320  "
      ]
     },
     "execution_count": 3,
     "metadata": {},
     "output_type": "execute_result"
    }
   ],
   "source": [
    "model_df = full_df[['fake', 'lemmas_str', 'avg_sent_len', 'avg_word_len']]\n",
    "model_df.head()"
   ]
  },
  {
   "cell_type": "markdown",
   "id": "697db0c2",
   "metadata": {},
   "source": [
    "## Modelo 1: Baseado em tamanho de sentenças e palavras\n",
    "\n",
    "O primeiro modelo treinado é um modelo mais simples. Aqui, apenas as colunas referentes ao tamanho médio de sentença e de palavra de cada artigo são consideradas, sem se levar em conta  o conteúdo da notícia propriamente dita."
   ]
  },
  {
   "cell_type": "markdown",
   "id": "2ea08831",
   "metadata": {},
   "source": [
    "### Separar dados de treino e teste"
   ]
  },
  {
   "cell_type": "code",
   "execution_count": 4,
   "id": "150bf6fd",
   "metadata": {},
   "outputs": [],
   "source": [
    "train_1, test_1, validate_1 = create_train_validation_test_sets(model_df.drop('lemmas_str', axis=1), \n",
    "                                                                stratify_col='fake',\n",
    "                                                                test_size=0.2, random_state=42)"
   ]
  },
  {
   "cell_type": "code",
   "execution_count": 5,
   "id": "2da9f884",
   "metadata": {},
   "outputs": [],
   "source": [
    "def create_x_y_1(base_df, target_col='fake'):\n",
    "    return base_df.drop(target_col, axis=1), base_df[target_col]\n",
    "\n",
    "x_train_1, y_train_1 = create_x_y_1(train_1)\n",
    "x_validate_1, y_validate_1 = create_x_y_1(validate_1)\n",
    "x_test_1, y_test_1 = create_x_y_1(test_1)"
   ]
  },
  {
   "cell_type": "markdown",
   "id": "3f9bf1b8",
   "metadata": {},
   "source": [
    "### Upload de dados para o S3"
   ]
  },
  {
   "cell_type": "code",
   "execution_count": 6,
   "id": "a2677d12",
   "metadata": {},
   "outputs": [
    {
     "name": "stderr",
     "output_type": "stream",
     "text": [
      "/home/ec2-user/anaconda3/envs/amazonei_tensorflow2_p36/lib/python3.6/site-packages/boto3/compat.py:88: PythonDeprecationWarning: Boto3 will no longer support Python 3.6 starting May 30, 2022. To continue receiving service updates, bug fixes, and security updates please upgrade to Python 3.7 or later. More information can be found here: https://aws.amazon.com/blogs/developer/python-support-policy-updates-for-aws-sdks-and-tools/\n",
      "  warnings.warn(warning, PythonDeprecationWarning)\n",
      "/home/ec2-user/anaconda3/envs/amazonei_tensorflow2_p36/lib/python3.6/site-packages/boto3/compat.py:88: PythonDeprecationWarning: Boto3 will no longer support Python 3.6 starting May 30, 2022. To continue receiving service updates, bug fixes, and security updates please upgrade to Python 3.7 or later. More information can be found here: https://aws.amazon.com/blogs/developer/python-support-policy-updates-for-aws-sdks-and-tools/\n",
      "  warnings.warn(warning, PythonDeprecationWarning)\n",
      "/home/ec2-user/anaconda3/envs/amazonei_tensorflow2_p36/lib/python3.6/site-packages/boto3/compat.py:88: PythonDeprecationWarning: Boto3 will no longer support Python 3.6 starting May 30, 2022. To continue receiving service updates, bug fixes, and security updates please upgrade to Python 3.7 or later. More information can be found here: https://aws.amazon.com/blogs/developer/python-support-policy-updates-for-aws-sdks-and-tools/\n",
      "  warnings.warn(warning, PythonDeprecationWarning)\n"
     ]
    }
   ],
   "source": [
    "file_name_tuples = [(x_train_1, y_train_1, 'train'), \n",
    "                   (x_test_1, y_test_1, 'test'), \n",
    "                   (x_validate_1, y_validate_1, 'validate')]\n",
    "\n",
    "for x, y, prefix in file_name_tuples:\n",
    "    save_to_s3_bucket_as_libsvm(x, y, prefix=prefix, filename='model_1.libsvm', tipo='modelo')"
   ]
  },
  {
   "cell_type": "markdown",
   "id": "a0c7bce4",
   "metadata": {},
   "source": [
    "### Treinar modelo"
   ]
  },
  {
   "cell_type": "code",
   "execution_count": 7,
   "id": "086a7f71",
   "metadata": {},
   "outputs": [
    {
     "name": "stdout",
     "output_type": "stream",
     "text": [
      "2022-11-16 13:26:17 Starting - Starting the training job...ProfilerReport-1668605177: InProgress\n",
      "...\n",
      "2022-11-16 13:28:12 Downloading - Downloading input data......\n",
      "2022-11-16 13:29:01 Training - Downloading the training image.....\u001b[34m[2022-11-16 13:29:57.052 ip-10-0-97-128.ec2.internal:7 INFO utils.py:27] RULE_JOB_STOP_SIGNAL_FILENAME: None\u001b[0m\n",
      "\u001b[34m[2022-11-16:13:29:57:INFO] Imported framework sagemaker_xgboost_container.training\u001b[0m\n",
      "\u001b[34m[2022-11-16:13:29:57:INFO] Failed to parse hyperparameter eval_metric value map to Json.\u001b[0m\n",
      "\u001b[34mReturning the value itself\u001b[0m\n",
      "\u001b[34m[2022-11-16:13:29:57:INFO] Failed to parse hyperparameter objective value binary:logistic to Json.\u001b[0m\n",
      "\u001b[34mReturning the value itself\u001b[0m\n",
      "\u001b[34m[2022-11-16:13:29:57:INFO] No GPUs detected (normal if no gpus installed)\u001b[0m\n",
      "\u001b[34m[2022-11-16:13:29:57:INFO] Running XGBoost Sagemaker in algorithm mode\u001b[0m\n",
      "\u001b[34m[2022-11-16:13:29:57:INFO] files path: /opt/ml/input/data/train\u001b[0m\n",
      "\u001b[34m[2022-11-16:13:29:57:INFO] files path: /opt/ml/input/data/validation\u001b[0m\n",
      "\u001b[34m[2022-11-16:13:29:57:INFO] Distributed node training with 2 hosts: ['algo-1', 'algo-2']\u001b[0m\n",
      "\u001b[34m[2022-11-16:13:29:57:INFO] start listen on algo-1:9099\u001b[0m\n",
      "\u001b[34m[2022-11-16:13:29:57:INFO] Rabit slave environment: {'DMLC_TRACKER_URI': 'algo-1', 'DMLC_TRACKER_PORT': 9099}\u001b[0m\n",
      "\u001b[34m[2022-11-16:13:29:57:INFO] No data received from connection ('10.0.97.128', 53200). Closing.\u001b[0m\n",
      "\u001b[34m[2022-11-16:13:29:57:INFO] Connected to RabitTracker.\u001b[0m\n",
      "\u001b[34m[2022-11-16:13:29:58:INFO] No data received from connection ('10.0.93.69', 49416). Closing.\u001b[0m\n",
      "\u001b[34m[2022-11-16:13:29:58:INFO] Recieve start signal from 10.0.93.69; assign rank 0\u001b[0m\n",
      "\u001b[34m[13:29:58] task NULL got new rank 1\u001b[0m\n",
      "\u001b[34m[2022-11-16:13:29:58:INFO] Recieve start signal from 10.0.97.128; assign rank 1\u001b[0m\n",
      "\u001b[34m[2022-11-16:13:29:58:INFO] @tracker All of 2 nodes getting started\u001b[0m\n",
      "\u001b[34m[2022-11-16:13:29:58:INFO] @tracker All nodes finishes job\u001b[0m\n",
      "\u001b[34m[2022-11-16:13:29:58:INFO] @tracker 0.0020003318786621094 secs between node start and job finish\u001b[0m\n",
      "\u001b[34m[2022-11-16:13:29:58:INFO] start listen on algo-1:9100\u001b[0m\n",
      "\u001b[34m[2022-11-16:13:29:58:INFO] Rabit slave environment: {'DMLC_TRACKER_URI': 'algo-1', 'DMLC_TRACKER_PORT': 9100}\u001b[0m\n",
      "\u001b[34m[2022-11-16:13:29:58:INFO] Connected to RabitTracker.\u001b[0m\n",
      "\u001b[34m[2022-11-16:13:29:58:INFO] No data received from connection ('10.0.97.128', 53378). Closing.\u001b[0m\n",
      "\u001b[35m[2022-11-16 13:29:58.566 ip-10-0-93-69.ec2.internal:7 INFO utils.py:27] RULE_JOB_STOP_SIGNAL_FILENAME: None\u001b[0m\n",
      "\u001b[35m[2022-11-16:13:29:58:INFO] Imported framework sagemaker_xgboost_container.training\u001b[0m\n",
      "\u001b[35m[2022-11-16:13:29:58:INFO] Failed to parse hyperparameter eval_metric value map to Json.\u001b[0m\n",
      "\u001b[35mReturning the value itself\u001b[0m\n",
      "\u001b[35m[2022-11-16:13:29:58:INFO] Failed to parse hyperparameter objective value binary:logistic to Json.\u001b[0m\n",
      "\u001b[35mReturning the value itself\u001b[0m\n",
      "\u001b[35m[2022-11-16:13:29:58:INFO] No GPUs detected (normal if no gpus installed)\u001b[0m\n",
      "\u001b[35m[2022-11-16:13:29:58:INFO] Running XGBoost Sagemaker in algorithm mode\u001b[0m\n",
      "\u001b[35m[2022-11-16:13:29:58:INFO] files path: /opt/ml/input/data/train\u001b[0m\n",
      "\u001b[35m[2022-11-16:13:29:58:INFO] files path: /opt/ml/input/data/validation\u001b[0m\n",
      "\u001b[35m[2022-11-16:13:29:58:INFO] Distributed node training with 2 hosts: ['algo-1', 'algo-2']\u001b[0m\n",
      "\u001b[35m[2022-11-16:13:29:58:INFO] Connected to RabitTracker.\u001b[0m\n",
      "\u001b[35m[13:29:58] task NULL got new rank 0\u001b[0m\n",
      "\u001b[35m[2022-11-16:13:29:58:INFO] Failed to connect to RabitTracker on attempt 0\u001b[0m\n",
      "\u001b[35m[2022-11-16:13:29:58:INFO] Sleeping for 3 sec before retrying\u001b[0m\n",
      "\u001b[35m[2022-11-16:13:30:01:INFO] Connected to RabitTracker.\u001b[0m\n",
      "\u001b[35m[13:30:02] task NULL got new rank 0\u001b[0m\n",
      "\u001b[35m[2022-11-16:13:30:02:INFO] Train matrix has 5760 rows and 2 columns\u001b[0m\n",
      "\u001b[35m[2022-11-16:13:30:02:INFO] Validation matrix has 720 rows\u001b[0m\n",
      "\u001b[35m[2022-11-16 13:30:02.167 ip-10-0-93-69.ec2.internal:7 INFO json_config.py:91] Creating hook from json_config at /opt/ml/input/config/debughookconfig.json.\u001b[0m\n",
      "\u001b[34m[2022-11-16:13:30:01:INFO] No data received from connection ('10.0.93.69', 58306). Closing.\u001b[0m\n",
      "\u001b[34m[2022-11-16:13:30:02:INFO] Recieve start signal from 10.0.93.69; assign rank 0\u001b[0m\n",
      "\u001b[34m[13:30:02] task NULL got new rank 1\u001b[0m\n",
      "\u001b[34m[2022-11-16:13:30:02:INFO] Recieve start signal from 10.0.97.128; assign rank 1\u001b[0m\n",
      "\u001b[34m[2022-11-16:13:30:02:INFO] @tracker All of 2 nodes getting started\u001b[0m\n",
      "\u001b[34m[2022-11-16:13:30:02:INFO] Train matrix has 5760 rows and 2 columns\u001b[0m\n",
      "\u001b[34m[2022-11-16:13:30:02:INFO] Validation matrix has 720 rows\u001b[0m\n",
      "\u001b[34m[2022-11-16 13:30:02.166 ip-10-0-97-128.ec2.internal:7 INFO json_config.py:91] Creating hook from json_config at /opt/ml/input/config/debughookconfig.json.\u001b[0m\n",
      "\u001b[34m[2022-11-16:13:30:02:INFO] [0]#011train-map:0.78623#011validation-map:0.79951\u001b[0m\n",
      "\u001b[34m[2022-11-16:13:30:02:INFO] [1]#011train-map:0.79517#011validation-map:0.80820\u001b[0m\n",
      "\u001b[34m[2022-11-16:13:30:02:INFO] [2]#011train-map:0.80124#011validation-map:0.81370\u001b[0m\n",
      "\u001b[34m[2022-11-16:13:30:02:INFO] [3]#011train-map:0.80658#011validation-map:0.81016\u001b[0m\n",
      "\u001b[34m[2022-11-16:13:30:03:INFO] [4]#011train-map:0.80883#011validation-map:0.80973\u001b[0m\n",
      "\u001b[34m[2022-11-16:13:30:03:INFO] [5]#011train-map:0.81147#011validation-map:0.80702\u001b[0m\n",
      "\u001b[34m[2022-11-16:13:30:03:INFO] [6]#011train-map:0.81277#011validation-map:0.80973\u001b[0m\n",
      "\u001b[34m[2022-11-16:13:30:03:INFO] [7]#011train-map:0.81446#011validation-map:0.81214\u001b[0m\n",
      "\u001b[34m[2022-11-16:13:30:03:INFO] [8]#011train-map:0.81671#011validation-map:0.81119\u001b[0m\n",
      "\u001b[34m[2022-11-16:13:30:04:INFO] [9]#011train-map:0.81803#011validation-map:0.81054\u001b[0m\n",
      "\u001b[34m[2022-11-16:13:30:04:INFO] [10]#011train-map:0.82007#011validation-map:0.81313\u001b[0m\n",
      "\u001b[34m[2022-11-16:13:30:04:INFO] [11]#011train-map:0.82204#011validation-map:0.81257\u001b[0m\n",
      "\u001b[34m[2022-11-16:13:30:04:INFO] [12]#011train-map:0.82432#011validation-map:0.81210\u001b[0m\n",
      "\u001b[34m[2022-11-16:13:30:04:INFO] [13]#011train-map:0.82558#011validation-map:0.81163\u001b[0m\n",
      "\u001b[34m[2022-11-16:13:30:04:INFO] [14]#011train-map:0.82782#011validation-map:0.80939\u001b[0m\n",
      "\u001b[34m[2022-11-16:13:30:04:INFO] [15]#011train-map:0.82961#011validation-map:0.80932\u001b[0m\n",
      "\u001b[34m[2022-11-16:13:30:04:INFO] [16]#011train-map:0.83159#011validation-map:0.80962\u001b[0m\n",
      "\u001b[34m[2022-11-16:13:30:05:INFO] [17]#011train-map:0.83329#011validation-map:0.80936\u001b[0m\n",
      "\u001b[34m[2022-11-16:13:30:05:INFO] [18]#011train-map:0.83596#011validation-map:0.81037\u001b[0m\n",
      "\u001b[34m[2022-11-16:13:30:05:INFO] [19]#011train-map:0.83840#011validation-map:0.80897\u001b[0m\n",
      "\u001b[34m[2022-11-16:13:30:05:INFO] [20]#011train-map:0.84055#011validation-map:0.80744\u001b[0m\n",
      "\u001b[34m[2022-11-16:13:30:05:INFO] [21]#011train-map:0.84139#011validation-map:0.80812\u001b[0m\n",
      "\u001b[34m[2022-11-16:13:30:05:INFO] [22]#011train-map:0.84295#011validation-map:0.80790\u001b[0m\n",
      "\u001b[34m[2022-11-16:13:30:05:INFO] [23]#011train-map:0.84375#011validation-map:0.80842\u001b[0m\n",
      "\u001b[34m[2022-11-16:13:30:05:INFO] [24]#011train-map:0.84531#011validation-map:0.80730\u001b[0m\n",
      "\u001b[34m[2022-11-16:13:30:05:INFO] [25]#011train-map:0.84723#011validation-map:0.80539\u001b[0m\n",
      "\u001b[34m[2022-11-16:13:30:05:INFO] [26]#011train-map:0.84936#011validation-map:0.80516\u001b[0m\n",
      "\u001b[34m[2022-11-16:13:30:06:INFO] [27]#011train-map:0.85057#011validation-map:0.80499\u001b[0m\n",
      "\u001b[34m[2022-11-16:13:30:06:INFO] [28]#011train-map:0.85213#011validation-map:0.80592\u001b[0m\n",
      "\u001b[34m[2022-11-16:13:30:06:INFO] [29]#011train-map:0.85289#011validation-map:0.80550\u001b[0m\n",
      "\u001b[34m[2022-11-16:13:30:06:INFO] [30]#011train-map:0.85441#011validation-map:0.80600\u001b[0m\n",
      "\u001b[34m[2022-11-16:13:30:06:INFO] [31]#011train-map:0.85689#011validation-map:0.80593\u001b[0m\n",
      "\u001b[34m[2022-11-16:13:30:06:INFO] [32]#011train-map:0.85870#011validation-map:0.80600\u001b[0m\n",
      "\u001b[34m[2022-11-16:13:30:06:INFO] [33]#011train-map:0.86003#011validation-map:0.80434\u001b[0m\n",
      "\u001b[34m[2022-11-16:13:30:06:INFO] [34]#011train-map:0.86153#011validation-map:0.80466\u001b[0m\n",
      "\u001b[34m[2022-11-16:13:30:06:INFO] [35]#011train-map:0.86249#011validation-map:0.80395\u001b[0m\n",
      "\u001b[34m[2022-11-16:13:30:06:INFO] [36]#011train-map:0.86421#011validation-map:0.80412\u001b[0m\n",
      "\u001b[34m[2022-11-16:13:30:06:INFO] [37]#011train-map:0.86522#011validation-map:0.80302\u001b[0m\n",
      "\u001b[34m[2022-11-16:13:30:06:INFO] [38]#011train-map:0.86669#011validation-map:0.80166\u001b[0m\n",
      "\u001b[34m[2022-11-16:13:30:06:INFO] [39]#011train-map:0.86837#011validation-map:0.80117\u001b[0m\n",
      "\u001b[34m[2022-11-16:13:30:06:INFO] [40]#011train-map:0.86990#011validation-map:0.80016\u001b[0m\n",
      "\u001b[34m[2022-11-16:13:30:07:INFO] [41]#011train-map:0.87169#011validation-map:0.80161\u001b[0m\n",
      "\u001b[34m[2022-11-16:13:30:07:INFO] @tracker All nodes finishes job\u001b[0m\n",
      "\u001b[34m[2022-11-16:13:30:07:INFO] @tracker 4.856640815734863 secs between node start and job finish\u001b[0m\n",
      "\n",
      "2022-11-16 13:30:13 Uploading - Uploading generated training model\n",
      "2022-11-16 13:30:42 Completed - Training job completed\n",
      "ProfilerReport-1668605177: NoIssuesFound\n",
      "Training seconds: 276\n",
      "Billable seconds: 276\n",
      "ready for hosting!\n"
     ]
    }
   ],
   "source": [
    "xgb_model, data_channels = setup_model(base_image='xgboost', model_name='model_1', instance_count=2, \n",
    "                                       instance_type='ml.m4.xlarge')\n",
    "xgb_model.fit(inputs=data_channels)\n",
    "\n",
    "print('ready for hosting!')"
   ]
  },
  {
   "cell_type": "code",
   "execution_count": 8,
   "id": "0751feb8",
   "metadata": {},
   "outputs": [
    {
     "name": "stdout",
     "output_type": "stream",
     "text": [
      "--------!"
     ]
    }
   ],
   "source": [
    "xgb_predictor = xgb_model.deploy(initial_instance_count=1,\n",
    "                                 serializer=sagemaker.serializers.LibSVMSerializer(),\n",
    "                                 instance_type='ml.m4.xlarge')"
   ]
  },
  {
   "cell_type": "markdown",
   "id": "016d5961",
   "metadata": {},
   "source": [
    "### Métricas no conjunto de testes"
   ]
  },
  {
   "cell_type": "code",
   "execution_count": 9,
   "id": "4ecb8d10",
   "metadata": {},
   "outputs": [],
   "source": [
    "y_pred_1 = make_prediction(xgb_predictor, model_name='model_1')\n",
    "\n",
    "# Alternativa para carregar resultados salvos em outra execução\n",
    "# from python_scripts.save_load import BUCKET_MODEL\n",
    "# y_pred_1 = pd.read_csv(f's3://{BUCKET_MODEL}/test/pred_1.csv')"
   ]
  },
  {
   "cell_type": "code",
   "execution_count": 10,
   "id": "f40ef2e9",
   "metadata": {},
   "outputs": [
    {
     "name": "stdout",
     "output_type": "stream",
     "text": [
      "              precision    recall  f1-score   support\n",
      "\n",
      "           0       0.66      0.67      0.66       360\n",
      "           1       0.66      0.66      0.66       360\n",
      "\n",
      "    accuracy                           0.66       720\n",
      "   macro avg       0.66      0.66      0.66       720\n",
      "weighted avg       0.66      0.66      0.66       720\n",
      "\n"
     ]
    }
   ],
   "source": [
    "print(classification_report(y_test_1, y_pred_1))"
   ]
  },
  {
   "cell_type": "code",
   "execution_count": 11,
   "id": "86b1276d",
   "metadata": {},
   "outputs": [
    {
     "data": {
      "image/png": "[encoded data removed]",
      "text/plain": [
       "<Figure size 432x288 with 1 Axes>"
      ]
     },
     "metadata": {
      "needs_background": "light"
     },
     "output_type": "display_data"
    }
   ],
   "source": [
    "plot_confusion_matrix(y_test_1, y_pred_1)"
   ]
  },
  {
   "cell_type": "code",
   "execution_count": 12,
   "id": "bc4f2a59",
   "metadata": {},
   "outputs": [
    {
     "data": {
      "text/plain": [
       "0.6629213483146067"
      ]
     },
     "execution_count": 12,
     "metadata": {},
     "output_type": "execute_result"
    }
   ],
   "source": [
    "precision_score(y_test_1, y_pred_1)"
   ]
  },
  {
   "cell_type": "markdown",
   "id": "94af5a3b",
   "metadata": {},
   "source": [
    "Modelo razoável dado sua simplicidade (ignora completamente o contexto)"
   ]
  },
  {
   "cell_type": "markdown",
   "id": "fd863392",
   "metadata": {},
   "source": [
    "### Salvar resultados de predição"
   ]
  },
  {
   "cell_type": "code",
   "execution_count": 13,
   "id": "7695391d",
   "metadata": {},
   "outputs": [],
   "source": [
    "df_pred_1 = pd.DataFrame({'pred_1': y_pred_1})\n",
    "df_pred_1.to_csv(f's3://{BUCKET_MODEL}/test/pred_1.csv', encoding='utf-8', index=False)"
   ]
  },
  {
   "cell_type": "markdown",
   "id": "b807c3ab",
   "metadata": {},
   "source": [
    "### Encerrar modelo\n",
    "Após pegar métricas e dados de interesse, encerrar modelo para evitar cobranças."
   ]
  },
  {
   "cell_type": "code",
   "execution_count": 14,
   "id": "94d81bc1",
   "metadata": {},
   "outputs": [],
   "source": [
    "xgb_predictor.delete_endpoint(delete_endpoint_config=True) "
   ]
  },
  {
   "cell_type": "markdown",
   "id": "6c55eb5e",
   "metadata": {},
   "source": [
    "## Modelo 2: TF-IDF"
   ]
  },
  {
   "cell_type": "code",
   "execution_count": 15,
   "id": "de34f911",
   "metadata": {},
   "outputs": [],
   "source": [
    "train_2, test_2, validate_2 = create_train_validation_test_sets(model_df.drop(['avg_word_len', \n",
    "                                                                               'avg_sent_len'], axis=1), \n",
    "                                                                stratify_col='fake',\n",
    "                                                                test_size=0.2, random_state=42)"
   ]
  },
  {
   "cell_type": "markdown",
   "id": "452e23a5",
   "metadata": {},
   "source": [
    "### Processamento adicional\n",
    "\n",
    "Um vetorizador TFIDF é utilizado para converter os dados textuais em colunas do DataFrame."
   ]
  },
  {
   "cell_type": "code",
   "execution_count": 16,
   "id": "b272ef5e",
   "metadata": {},
   "outputs": [
    {
     "data": {
      "text/plain": [
       "TfidfVectorizer(lowercase=False, ngram_range=(1, 2))"
      ]
     },
     "execution_count": 16,
     "metadata": {},
     "output_type": "execute_result"
    }
   ],
   "source": [
    "# Criar vetorizador TFIDF e ajustar aos dados de treinamento\n",
    "tfidf = TfidfVectorizer(lowercase=False, ngram_range = (1,2))\n",
    "tfidf.fit(train_2['lemmas_str'])"
   ]
  },
  {
   "cell_type": "code",
   "execution_count": 17,
   "id": "2c595b0d",
   "metadata": {},
   "outputs": [],
   "source": [
    "def create_x_y_2(base_df, tfidf, target_col='fake', lemma_col = 'lemmas_str'):\n",
    "    tfidf_res = tfidf.transform(base_df[lemma_col])\n",
    "    return tfidf_res, base_df[target_col]\n",
    "\n",
    "x_train_2, y_train_2 = create_x_y_2(train_2, tfidf)\n",
    "x_validate_2, y_validate_2 = create_x_y_2(validate_2, tfidf)\n",
    "x_test_2, y_test_2 = create_x_y_2(test_2, tfidf)"
   ]
  },
  {
   "cell_type": "markdown",
   "id": "185e1171",
   "metadata": {},
   "source": [
    "### Upload de dados para o S3"
   ]
  },
  {
   "cell_type": "code",
   "execution_count": 18,
   "id": "11f29bd4",
   "metadata": {},
   "outputs": [
    {
     "name": "stderr",
     "output_type": "stream",
     "text": [
      "/home/ec2-user/anaconda3/envs/amazonei_tensorflow2_p36/lib/python3.6/site-packages/boto3/compat.py:88: PythonDeprecationWarning: Boto3 will no longer support Python 3.6 starting May 30, 2022. To continue receiving service updates, bug fixes, and security updates please upgrade to Python 3.7 or later. More information can be found here: https://aws.amazon.com/blogs/developer/python-support-policy-updates-for-aws-sdks-and-tools/\n",
      "  warnings.warn(warning, PythonDeprecationWarning)\n",
      "/home/ec2-user/anaconda3/envs/amazonei_tensorflow2_p36/lib/python3.6/site-packages/boto3/compat.py:88: PythonDeprecationWarning: Boto3 will no longer support Python 3.6 starting May 30, 2022. To continue receiving service updates, bug fixes, and security updates please upgrade to Python 3.7 or later. More information can be found here: https://aws.amazon.com/blogs/developer/python-support-policy-updates-for-aws-sdks-and-tools/\n",
      "  warnings.warn(warning, PythonDeprecationWarning)\n",
      "/home/ec2-user/anaconda3/envs/amazonei_tensorflow2_p36/lib/python3.6/site-packages/boto3/compat.py:88: PythonDeprecationWarning: Boto3 will no longer support Python 3.6 starting May 30, 2022. To continue receiving service updates, bug fixes, and security updates please upgrade to Python 3.7 or later. More information can be found here: https://aws.amazon.com/blogs/developer/python-support-policy-updates-for-aws-sdks-and-tools/\n",
      "  warnings.warn(warning, PythonDeprecationWarning)\n"
     ]
    }
   ],
   "source": [
    "file_name_tuples = [(x_train_2, y_train_2, 'train'), \n",
    "                   (x_test_2, y_test_2, 'test'), \n",
    "                   (x_validate_2, y_validate_2, 'validate')]\n",
    "\n",
    "for x, y, prefix in file_name_tuples:\n",
    "    save_to_s3_bucket_as_libsvm(x, y, prefix=prefix, filename='model_2.libsvm', tipo='modelo')"
   ]
  },
  {
   "cell_type": "markdown",
   "id": "8ceb666c",
   "metadata": {},
   "source": [
    "### Treinar modelo"
   ]
  },
  {
   "cell_type": "code",
   "execution_count": 19,
   "id": "f519cb9d",
   "metadata": {},
   "outputs": [
    {
     "name": "stdout",
     "output_type": "stream",
     "text": [
      "2022-11-16 13:35:34 Starting - Starting the training job...ProfilerReport-1668605733: InProgress\n",
      "......\n",
      "2022-11-16 13:36:57 Starting - Preparing the instances for training.........\n",
      "2022-11-16 13:38:18 Downloading - Downloading input data...\n",
      "2022-11-16 13:38:58 Training - Downloading the training image......\n",
      "2022-11-16 13:40:04 Training - Training image download completed. Training in progress..\u001b[34m[2022-11-16 13:40:08.684 ip-10-0-241-114.ec2.internal:10 INFO utils.py:27] RULE_JOB_STOP_SIGNAL_FILENAME: None\u001b[0m\n",
      "\u001b[34m[2022-11-16:13:40:08:INFO] Imported framework sagemaker_xgboost_container.training\u001b[0m\n",
      "\u001b[34m[2022-11-16:13:40:08:INFO] Failed to parse hyperparameter eval_metric value map to Json.\u001b[0m\n",
      "\u001b[34mReturning the value itself\u001b[0m\n",
      "\u001b[34m[2022-11-16:13:40:08:INFO] Failed to parse hyperparameter objective value binary:logistic to Json.\u001b[0m\n",
      "\u001b[34mReturning the value itself\u001b[0m\n",
      "\u001b[34m[2022-11-16:13:40:08:INFO] No GPUs detected (normal if no gpus installed)\u001b[0m\n",
      "\u001b[34m[2022-11-16:13:40:08:INFO] Running XGBoost Sagemaker in algorithm mode\u001b[0m\n",
      "\u001b[34m[2022-11-16:13:40:08:INFO] files path: /opt/ml/input/data/train\u001b[0m\n",
      "\u001b[34m[2022-11-16:13:40:09:INFO] files path: /opt/ml/input/data/validation\u001b[0m\n",
      "\u001b[34m[2022-11-16:13:40:09:INFO] Distributed node training with 4 hosts: ['algo-1', 'algo-2', 'algo-3', 'algo-4']\u001b[0m\n",
      "\u001b[34m[2022-11-16:13:40:09:INFO] Connected to RabitTracker.\u001b[0m\n",
      "\u001b[34m[13:40:11] task NULL got new rank 3\u001b[0m\n",
      "\u001b[34m[2022-11-16:13:40:11:INFO] Failed to connect to RabitTracker on attempt 0\u001b[0m\n",
      "\u001b[34m[2022-11-16:13:40:11:INFO] Sleeping for 3 sec before retrying\u001b[0m\n",
      "\u001b[36m[2022-11-16 13:40:08.949 ip-10-0-199-11.ec2.internal:7 INFO utils.py:27] RULE_JOB_STOP_SIGNAL_FILENAME: None\u001b[0m\n",
      "\u001b[36m[2022-11-16:13:40:09:INFO] Imported framework sagemaker_xgboost_container.training\u001b[0m\n",
      "\u001b[36m[2022-11-16:13:40:09:INFO] Failed to parse hyperparameter eval_metric value map to Json.\u001b[0m\n",
      "\u001b[36mReturning the value itself\u001b[0m\n",
      "\u001b[36m[2022-11-16:13:40:09:INFO] Failed to parse hyperparameter objective value binary:logistic to Json.\u001b[0m\n",
      "\u001b[36mReturning the value itself\u001b[0m\n",
      "\u001b[36m[2022-11-16:13:40:09:INFO] No GPUs detected (normal if no gpus installed)\u001b[0m\n",
      "\u001b[36m[2022-11-16:13:40:09:INFO] Running XGBoost Sagemaker in algorithm mode\u001b[0m\n",
      "\u001b[36m[2022-11-16:13:40:09:INFO] files path: /opt/ml/input/data/train\u001b[0m\n",
      "\u001b[36m[2022-11-16:13:40:09:INFO] files path: /opt/ml/input/data/validation\u001b[0m\n",
      "\u001b[36m[2022-11-16:13:40:09:INFO] Distributed node training with 4 hosts: ['algo-1', 'algo-2', 'algo-3', 'algo-4']\u001b[0m\n",
      "\u001b[36m[2022-11-16:13:40:09:INFO] Connected to RabitTracker.\u001b[0m\n",
      "\u001b[36m[13:40:11] task NULL got new rank 1\u001b[0m\n",
      "\u001b[32m[2022-11-16 13:40:10.381 ip-10-0-222-19.ec2.internal:8 INFO utils.py:27] RULE_JOB_STOP_SIGNAL_FILENAME: None\u001b[0m\n",
      "\u001b[32m[2022-11-16:13:40:10:INFO] Imported framework sagemaker_xgboost_container.training\u001b[0m\n",
      "\u001b[32m[2022-11-16:13:40:10:INFO] Failed to parse hyperparameter eval_metric value map to Json.\u001b[0m\n",
      "\u001b[32mReturning the value itself\u001b[0m\n",
      "\u001b[32m[2022-11-16:13:40:10:INFO] Failed to parse hyperparameter objective value binary:logistic to Json.\u001b[0m\n",
      "\u001b[32mReturning the value itself\u001b[0m\n",
      "\u001b[32m[2022-11-16:13:40:10:INFO] No GPUs detected (normal if no gpus installed)\u001b[0m\n",
      "\u001b[32m[2022-11-16:13:40:10:INFO] Running XGBoost Sagemaker in algorithm mode\u001b[0m\n",
      "\u001b[32m[2022-11-16:13:40:10:INFO] files path: /opt/ml/input/data/train\u001b[0m\n",
      "\u001b[32m[2022-11-16:13:40:10:INFO] files path: /opt/ml/input/data/validation\u001b[0m\n",
      "\u001b[32m[2022-11-16:13:40:10:INFO] Distributed node training with 4 hosts: ['algo-1', 'algo-2', 'algo-3', 'algo-4']\u001b[0m\n",
      "\u001b[32m[2022-11-16:13:40:10:INFO] Connected to RabitTracker.\u001b[0m\n",
      "\u001b[32m[13:40:11] task NULL got new rank 2\u001b[0m\n",
      "\u001b[32m[2022-11-16:13:40:11:INFO] Failed to connect to RabitTracker on attempt 0\u001b[0m\n",
      "\u001b[32m[2022-11-16:13:40:11:INFO] Sleeping for 3 sec before retrying\u001b[0m\n",
      "\u001b[36m[2022-11-16:13:40:11:INFO] Failed to connect to RabitTracker on attempt 0\u001b[0m\n",
      "\u001b[34m[2022-11-16 13:40:08.692 ip-10-0-197-158.ec2.internal:8 INFO utils.py:27] RULE_JOB_STOP_SIGNAL_FILENAME: None\u001b[0m\n",
      "\u001b[34m[2022-11-16:13:40:08:INFO] Imported framework sagemaker_xgboost_container.training\u001b[0m\n",
      "\u001b[34m[2022-11-16:13:40:08:INFO] Failed to parse hyperparameter eval_metric value map to Json.\u001b[0m\n",
      "\u001b[34mReturning the value itself\u001b[0m\n",
      "\u001b[34m[2022-11-16:13:40:08:INFO] Failed to parse hyperparameter objective value binary:logistic to Json.\u001b[0m\n",
      "\u001b[34mReturning the value itself\u001b[0m\n",
      "\u001b[34m[2022-11-16:13:40:08:INFO] No GPUs detected (normal if no gpus installed)\u001b[0m\n",
      "\u001b[34m[2022-11-16:13:40:08:INFO] Running XGBoost Sagemaker in algorithm mode\u001b[0m\n",
      "\u001b[34m[2022-11-16:13:40:08:INFO] files path: /opt/ml/input/data/train\u001b[0m\n",
      "\u001b[34m[2022-11-16:13:40:09:INFO] files path: /opt/ml/input/data/validation\u001b[0m\n",
      "\u001b[34m[2022-11-16:13:40:09:INFO] Distributed node training with 4 hosts: ['algo-1', 'algo-2', 'algo-3', 'algo-4']\u001b[0m\n",
      "\u001b[34m[2022-11-16:13:40:09:INFO] start listen on algo-1:9099\u001b[0m\n",
      "\u001b[34m[2022-11-16:13:40:09:INFO] Rabit slave environment: {'DMLC_TRACKER_URI': 'algo-1', 'DMLC_TRACKER_PORT': 9099}\u001b[0m\n",
      "\u001b[34m[2022-11-16:13:40:09:INFO] No data received from connection ('10.0.197.158', 50502). Closing.\u001b[0m\n",
      "\u001b[34m[2022-11-16:13:40:09:INFO] Connected to RabitTracker.\u001b[0m\n",
      "\u001b[34m[2022-11-16:13:40:09:INFO] No data received from connection ('10.0.241.114', 59338). Closing.\u001b[0m\n",
      "\u001b[34m[2022-11-16:13:40:09:INFO] No data received from connection ('10.0.199.11', 36432). Closing.\u001b[0m\n",
      "\u001b[34m[2022-11-16:13:40:10:INFO] No data received from connection ('10.0.222.19', 59208). Closing.\u001b[0m\n",
      "\u001b[34m[13:40:10] task NULL got new rank 0\u001b[0m\n",
      "\u001b[34m[2022-11-16:13:40:11:INFO] Recieve start signal from 10.0.197.158; assign rank 0\u001b[0m\n",
      "\u001b[34m[2022-11-16:13:40:11:INFO] Recieve start signal from 10.0.199.11; assign rank 1\u001b[0m\n",
      "\u001b[34m[2022-11-16:13:40:11:INFO] Recieve start signal from 10.0.222.19; assign rank 2\u001b[0m\n",
      "\u001b[34m[2022-11-16:13:40:11:INFO] Recieve start signal from 10.0.241.114; assign rank 3\u001b[0m\n",
      "\u001b[34m[2022-11-16:13:40:11:INFO] @tracker All of 4 nodes getting started\u001b[0m\n",
      "\u001b[34m[2022-11-16:13:40:11:INFO] @tracker All nodes finishes job\u001b[0m\n",
      "\u001b[34m[2022-11-16:13:40:11:INFO] @tracker 0.04766440391540527 secs between node start and job finish\u001b[0m\n",
      "\u001b[34m[2022-11-16:13:40:11:INFO] start listen on algo-1:9100\u001b[0m\n",
      "\u001b[34m[2022-11-16:13:40:11:INFO] Rabit slave environment: {'DMLC_TRACKER_URI': 'algo-1', 'DMLC_TRACKER_PORT': 9100}\u001b[0m\n",
      "\u001b[34m[2022-11-16:13:40:11:INFO] No data received from connection ('10.0.197.158', 33726). Closing.\u001b[0m\n",
      "\u001b[34m[2022-11-16:13:40:11:INFO] Connected to RabitTracker.\u001b[0m\n",
      "\u001b[36m[2022-11-16:13:40:11:INFO] Sleeping for 3 sec before retrying\u001b[0m\n",
      "\u001b[32m[2022-11-16:13:40:14:INFO] Connected to RabitTracker.\u001b[0m\n",
      "\u001b[34m[2022-11-16:13:40:14:INFO] No data received from connection ('10.0.241.114', 47044). Closing.\u001b[0m\n",
      "\u001b[34m[2022-11-16:13:40:14:INFO] No data received from connection ('10.0.199.11', 50554). Closing.\u001b[0m\n",
      "\u001b[34m[2022-11-16:13:40:14:INFO] No data received from connection ('10.0.222.19', 54324). Closing.\u001b[0m\n",
      "\u001b[34m[13:40:14] task NULL got new rank 0\u001b[0m\n",
      "\u001b[34m[2022-11-16:13:40:14:INFO] Recieve start signal from 10.0.197.158; assign rank 0\u001b[0m\n",
      "\u001b[34m[2022-11-16:13:40:14:INFO] Recieve start signal from 10.0.199.11; assign rank 1\u001b[0m\n",
      "\u001b[34m[2022-11-16:13:40:14:INFO] Recieve start signal from 10.0.222.19; assign rank 2\u001b[0m\n",
      "\u001b[35m[2022-11-16:13:40:14:INFO] Connected to RabitTracker.\u001b[0m\n",
      "\u001b[35m[13:40:14] task NULL got new rank 3\u001b[0m\n",
      "\u001b[35m[2022-11-16:13:40:14:INFO] Train matrix has 5760 rows and 1184676 columns\u001b[0m\n",
      "\u001b[35m[2022-11-16:13:40:14:INFO] Validation matrix has 720 rows\u001b[0m\n",
      "\u001b[35m[2022-11-16 13:40:14.715 ip-10-0-241-114.ec2.internal:10 INFO json_config.py:91] Creating hook from json_config at /opt/ml/input/config/debughookconfig.json.\u001b[0m\n",
      "\u001b[36m[2022-11-16:13:40:14:INFO] Connected to RabitTracker.\u001b[0m\n",
      "\u001b[36m[13:40:14] task NULL got new rank 1\u001b[0m\n",
      "\u001b[36m[2022-11-16:13:40:14:INFO] Train matrix has 5760 rows and 1184676 columns\u001b[0m\n",
      "\u001b[36m[2022-11-16:13:40:14:INFO] Validation matrix has 720 rows\u001b[0m\n",
      "\u001b[36m[2022-11-16 13:40:14.627 ip-10-0-199-11.ec2.internal:7 INFO json_config.py:91] Creating hook from json_config at /opt/ml/input/config/debughookconfig.json.\u001b[0m\n",
      "\u001b[32m[13:40:14] task NULL got new rank 2\u001b[0m\n",
      "\u001b[32m[2022-11-16:13:40:14:INFO] Train matrix has 5760 rows and 1184676 columns\u001b[0m\n",
      "\u001b[32m[2022-11-16:13:40:14:INFO] Validation matrix has 720 rows\u001b[0m\n",
      "\u001b[32m[2022-11-16 13:40:14.708 ip-10-0-222-19.ec2.internal:8 INFO json_config.py:91] Creating hook from json_config at /opt/ml/input/config/debughookconfig.json.\u001b[0m\n",
      "\u001b[34m[2022-11-16:13:40:14:INFO] Recieve start signal from 10.0.241.114; assign rank 3\u001b[0m\n",
      "\u001b[34m[2022-11-16:13:40:14:INFO] Train matrix has 5760 rows and 1184676 columns\u001b[0m\n",
      "\u001b[34m[2022-11-16:13:40:14:INFO] @tracker All of 4 nodes getting started\u001b[0m\n",
      "\u001b[34m[2022-11-16:13:40:14:INFO] Validation matrix has 720 rows\u001b[0m\n",
      "\u001b[34m[2022-11-16 13:40:14.716 ip-10-0-197-158.ec2.internal:8 INFO json_config.py:91] Creating hook from json_config at /opt/ml/input/config/debughookconfig.json.\u001b[0m\n",
      "\u001b[34m[2022-11-16:13:41:14:INFO] [0]#011train-map:0.95890#011validation-map:0.94350\u001b[0m\n",
      "\u001b[34m[2022-11-16:13:42:01:INFO] [1]#011train-map:0.97646#011validation-map:0.95063\u001b[0m\n",
      "\u001b[34m[2022-11-16:13:42:47:INFO] [2]#011train-map:0.98365#011validation-map:0.95584\u001b[0m\n",
      "\u001b[34m[2022-11-16:13:43:35:INFO] [3]#011train-map:0.98565#011validation-map:0.96876\u001b[0m\n",
      "\u001b[34m[2022-11-16:13:44:19:INFO] [4]#011train-map:0.99140#011validation-map:0.97284\u001b[0m\n",
      "\u001b[34m[2022-11-16:13:45:05:INFO] [5]#011train-map:0.99405#011validation-map:0.98289\u001b[0m\n",
      "\u001b[34m[2022-11-16:13:45:52:INFO] [6]#011train-map:0.99691#011validation-map:0.98335\u001b[0m\n",
      "\u001b[34m[2022-11-16:13:46:32:INFO] [7]#011train-map:0.99731#011validation-map:0.98453\u001b[0m\n",
      "\u001b[34m[2022-11-16:13:47:17:INFO] [8]#011train-map:0.99778#011validation-map:0.98503\u001b[0m\n",
      "\u001b[34m[2022-11-16:13:47:54:INFO] [9]#011train-map:0.99829#011validation-map:0.98925\u001b[0m\n",
      "\u001b[34m[2022-11-16:13:48:37:INFO] [10]#011train-map:0.99897#011validation-map:0.99018\u001b[0m\n",
      "\u001b[34m[2022-11-16:13:49:13:INFO] [11]#011train-map:0.99898#011validation-map:0.99218\u001b[0m\n",
      "\u001b[34m[2022-11-16:13:49:53:INFO] [12]#011train-map:0.99913#011validation-map:0.99252\u001b[0m\n",
      "\u001b[34m[2022-11-16:13:50:23:INFO] [13]#011train-map:0.99919#011validation-map:0.99355\u001b[0m\n",
      "\u001b[34m[2022-11-16:13:50:53:INFO] [14]#011train-map:0.99922#011validation-map:0.99378\u001b[0m\n",
      "\u001b[34m[2022-11-16:13:51:32:INFO] [15]#011train-map:0.99932#011validation-map:0.99385\u001b[0m\n",
      "\u001b[34m[2022-11-16:13:52:06:INFO] [16]#011train-map:0.99933#011validation-map:0.99370\u001b[0m\n",
      "\u001b[34m[2022-11-16:13:52:37:INFO] [17]#011train-map:0.99933#011validation-map:0.99413\u001b[0m\n",
      "\u001b[34m[2022-11-16:13:53:05:INFO] [18]#011train-map:0.99931#011validation-map:0.99439\u001b[0m\n",
      "\u001b[34m[2022-11-16:13:53:36:INFO] [19]#011train-map:0.99933#011validation-map:0.99443\u001b[0m\n",
      "\u001b[34m[2022-11-16:13:54:04:INFO] [20]#011train-map:0.99948#011validation-map:0.99434\u001b[0m\n",
      "\u001b[34m[2022-11-16:13:54:40:INFO] [21]#011train-map:0.99986#011validation-map:0.99429\u001b[0m\n",
      "\u001b[34m[2022-11-16:13:55:10:INFO] [22]#011train-map:0.99991#011validation-map:0.99462\u001b[0m\n",
      "\u001b[34m[2022-11-16:13:55:41:INFO] [23]#011train-map:0.99995#011validation-map:0.99478\u001b[0m\n",
      "\u001b[34m[2022-11-16:13:56:10:INFO] [24]#011train-map:0.99997#011validation-map:0.99497\u001b[0m\n",
      "\u001b[34m[2022-11-16:13:56:44:INFO] [25]#011train-map:0.99997#011validation-map:0.99525\u001b[0m\n",
      "\u001b[34m[2022-11-16:13:57:07:INFO] [26]#011train-map:0.99997#011validation-map:0.99543\u001b[0m\n",
      "\u001b[34m[2022-11-16:13:57:40:INFO] [27]#011train-map:0.99998#011validation-map:0.99550\u001b[0m\n",
      "\u001b[34m[2022-11-16:13:58:05:INFO] [28]#011train-map:0.99998#011validation-map:0.99551\u001b[0m\n",
      "\u001b[34m[2022-11-16:13:58:29:INFO] [29]#011train-map:0.99999#011validation-map:0.99555\u001b[0m\n",
      "\u001b[34m[2022-11-16:13:58:53:INFO] [30]#011train-map:1.00000#011validation-map:0.99537\u001b[0m\n",
      "\u001b[34m[2022-11-16:13:59:17:INFO] [31]#011train-map:1.00000#011validation-map:0.99558\u001b[0m\n",
      "\u001b[34m[2022-11-16:13:59:44:INFO] [32]#011train-map:1.00000#011validation-map:0.99568\u001b[0m\n",
      "\u001b[34m[2022-11-16:14:00:13:INFO] [33]#011train-map:1.00000#011validation-map:0.99560\u001b[0m\n",
      "\u001b[34m[2022-11-16:14:00:34:INFO] [34]#011train-map:1.00000#011validation-map:0.99588\u001b[0m\n",
      "\u001b[34m[2022-11-16:14:00:59:INFO] [35]#011train-map:1.00000#011validation-map:0.99595\u001b[0m\n",
      "\u001b[34m[2022-11-16:14:01:29:INFO] [36]#011train-map:1.00000#011validation-map:0.99580\u001b[0m\n",
      "\u001b[34m[2022-11-16:14:01:53:INFO] [37]#011train-map:1.00000#011validation-map:0.99585\u001b[0m\n",
      "\u001b[34m[2022-11-16:14:02:16:INFO] [38]#011train-map:1.00000#011validation-map:0.99594\u001b[0m\n",
      "\u001b[34m[2022-11-16:14:02:38:INFO] [39]#011train-map:1.00000#011validation-map:0.99591\u001b[0m\n",
      "\u001b[34m[2022-11-16:14:03:00:INFO] [40]#011train-map:1.00000#011validation-map:0.99607\u001b[0m\n",
      "\u001b[34m[2022-11-16:14:03:29:INFO] [41]#011train-map:1.00000#011validation-map:0.99614\u001b[0m\n",
      "\u001b[34m[2022-11-16:14:03:30:INFO] @tracker All nodes finishes job\u001b[0m\n",
      "\u001b[34m[2022-11-16:14:03:30:INFO] @tracker 1395.6494817733765 secs between node start and job finish\u001b[0m\n",
      "\n",
      "2022-11-16 14:04:46 Uploading - Uploading generated training model\n",
      "2022-11-16 14:04:46 Completed - Training job completed\n",
      "ProfilerReport-1668605733: NoIssuesFound\n",
      "Training seconds: 6288\n",
      "Billable seconds: 6288\n",
      "ready for hosting!\n"
     ]
    }
   ],
   "source": [
    "xgb_model_2, data_channels_2 = setup_model(base_image='xgboost', model_name='model_2', instance_count=4, \n",
    "                                           instance_type='ml.m4.xlarge')\n",
    "xgb_model_2.fit(inputs=data_channels_2)\n",
    "\n",
    "print('ready for hosting!')"
   ]
  },
  {
   "cell_type": "code",
   "execution_count": 20,
   "id": "8cf4b6b5",
   "metadata": {},
   "outputs": [
    {
     "name": "stdout",
     "output_type": "stream",
     "text": [
      "-------!"
     ]
    }
   ],
   "source": [
    "xgb_predictor_2 = xgb_model_2.deploy(initial_instance_count=1,\n",
    "                                     serializer=sagemaker.serializers.LibSVMSerializer(),\n",
    "                                     instance_type='ml.m4.xlarge')"
   ]
  },
  {
   "cell_type": "markdown",
   "id": "88d9a1ad",
   "metadata": {},
   "source": [
    "### Métricas do modelo\n",
    "O conjunto de testes é separado em duas partes para o teste, devido a limitações no tamanho de payload que podem ser enviadas ao endpoint"
   ]
  },
  {
   "cell_type": "code",
   "execution_count": 21,
   "id": "23dce678",
   "metadata": {},
   "outputs": [],
   "source": [
    "# Alternativa para carregar resultados salvos em outra execução\n",
    "# from python_scripts.save_load import BUCKET_MODEL\n",
    "# y_pred_2 = pd.read_csv(f's3://{BUCKET_MODEL}/test/pred_2.csv')"
   ]
  },
  {
   "cell_type": "code",
   "execution_count": 22,
   "id": "bb0c40e2",
   "metadata": {},
   "outputs": [],
   "source": [
    "half = test_2.shape[0]//2\n",
    "x_test_2_pt1, y_test_2_pt1 = create_x_y_2(test_2.iloc[:half], tfidf)\n",
    "x_test_2_pt2, y_test_2_pt2 = create_x_y_2(test_2.iloc[half:], tfidf)"
   ]
  },
  {
   "cell_type": "code",
   "execution_count": 23,
   "id": "5fceda0c",
   "metadata": {},
   "outputs": [
    {
     "name": "stderr",
     "output_type": "stream",
     "text": [
      "/home/ec2-user/anaconda3/envs/amazonei_tensorflow2_p36/lib/python3.6/site-packages/boto3/compat.py:88: PythonDeprecationWarning: Boto3 will no longer support Python 3.6 starting May 30, 2022. To continue receiving service updates, bug fixes, and security updates please upgrade to Python 3.7 or later. More information can be found here: https://aws.amazon.com/blogs/developer/python-support-policy-updates-for-aws-sdks-and-tools/\n",
      "  warnings.warn(warning, PythonDeprecationWarning)\n",
      "/home/ec2-user/anaconda3/envs/amazonei_tensorflow2_p36/lib/python3.6/site-packages/boto3/compat.py:88: PythonDeprecationWarning: Boto3 will no longer support Python 3.6 starting May 30, 2022. To continue receiving service updates, bug fixes, and security updates please upgrade to Python 3.7 or later. More information can be found here: https://aws.amazon.com/blogs/developer/python-support-policy-updates-for-aws-sdks-and-tools/\n",
      "  warnings.warn(warning, PythonDeprecationWarning)\n"
     ]
    }
   ],
   "source": [
    "save_to_s3_bucket_as_libsvm(x_test_2_pt1, y_test_2_pt1, prefix='test', \n",
    "                            filename='model_2_pt1.libsvm', tipo='modelo')\n",
    "save_to_s3_bucket_as_libsvm(x_test_2_pt2, y_test_2_pt2, prefix='test', \n",
    "                            filename='model_2_pt2.libsvm', tipo='modelo')"
   ]
  },
  {
   "cell_type": "code",
   "execution_count": 24,
   "id": "43abf441",
   "metadata": {},
   "outputs": [],
   "source": [
    "import s3fs\n",
    "from sklearn.datasets import load_svmlight_file\n",
    "\n",
    "fs = s3fs.S3FileSystem()\n",
    "s3_path = f's3://projetointerdisciplinartreinoteste/test/model_2_pt1.libsvm'\n",
    "\n",
    "with fs.open(s3_path) as libsvm_file:\n",
    "    y_temp_1 = xgb_predictor_2.predict(libsvm_file)\n",
    "\n",
    "\n",
    "s3_path = f's3://projetointerdisciplinartreinoteste/test/model_2_pt2.libsvm'\n",
    "\n",
    "with fs.open(s3_path) as libsvm_file:\n",
    "    y_temp_2 = xgb_predictor_2.predict(libsvm_file)\n"
   ]
  },
  {
   "cell_type": "code",
   "execution_count": 25,
   "id": "7c07124b",
   "metadata": {},
   "outputs": [],
   "source": [
    "#Threhold de 0.5 para decidir classes\n",
    "y_pred_list_1 = [1 if float(x) >= 0.5 else 0 for x in y_temp_1.decode('utf-8').split('\\n') if x != '']\n",
    "y_pred_list_2 = [1 if float(x) >= 0.5 else 0 for x in y_temp_2.decode('utf-8').split('\\n') if x != '']"
   ]
  },
  {
   "cell_type": "code",
   "execution_count": 26,
   "id": "211b568f",
   "metadata": {},
   "outputs": [],
   "source": [
    "y_pred_2 = y_pred_list_1+y_pred_list_2"
   ]
  },
  {
   "cell_type": "code",
   "execution_count": 27,
   "id": "4c0771db",
   "metadata": {},
   "outputs": [
    {
     "name": "stdout",
     "output_type": "stream",
     "text": [
      "              precision    recall  f1-score   support\n",
      "\n",
      "           0       0.97      0.93      0.95       360\n",
      "           1       0.94      0.97      0.95       360\n",
      "\n",
      "    accuracy                           0.95       720\n",
      "   macro avg       0.95      0.95      0.95       720\n",
      "weighted avg       0.95      0.95      0.95       720\n",
      "\n"
     ]
    }
   ],
   "source": [
    "print(classification_report(y_test_2, y_pred_2))"
   ]
  },
  {
   "cell_type": "code",
   "execution_count": 28,
   "id": "e65e6574",
   "metadata": {},
   "outputs": [
    {
     "data": {
      "image/png": "[encoded data removed]",
      "text/plain": [
       "<Figure size 432x288 with 1 Axes>"
      ]
     },
     "metadata": {
      "needs_background": "light"
     },
     "output_type": "display_data"
    }
   ],
   "source": [
    "plot_confusion_matrix(y_test_2, y_pred_2)"
   ]
  },
  {
   "cell_type": "code",
   "execution_count": 29,
   "id": "34b14c67",
   "metadata": {},
   "outputs": [
    {
     "data": {
      "text/plain": [
       "0.9358288770053476"
      ]
     },
     "execution_count": 29,
     "metadata": {},
     "output_type": "execute_result"
    }
   ],
   "source": [
    "precision_score(y_test_2, y_pred_2)"
   ]
  },
  {
   "cell_type": "markdown",
   "id": "bb1bb53f",
   "metadata": {},
   "source": [
    "Resultados excelentes, muito acima do que seria razoavelmente esperado. Isto sugere problemas de *overfit* no dataset utilizado para a construção do modelo. Para testar a hipótese de *overfit*, posteriormente dados de teste serão amostrados do segundo dataset (FakeRecogna) para uma segunda validação deste modelo."
   ]
  },
  {
   "cell_type": "markdown",
   "id": "59d9ea42",
   "metadata": {},
   "source": [
    "## Salvar resultados da predição"
   ]
  },
  {
   "cell_type": "code",
   "execution_count": 30,
   "id": "7bb6771f",
   "metadata": {},
   "outputs": [],
   "source": [
    "df_pred_2 = pd.DataFrame({'pred_2': y_pred_2})\n",
    "df_pred_2.to_csv(f's3://{BUCKET_MODEL}/test/pred_2.csv', encoding='utf-8', index=False)"
   ]
  },
  {
   "cell_type": "markdown",
   "id": "814bc4a4",
   "metadata": {},
   "source": [
    "## Teste adicional - Dataset FakeRecogna\n",
    "Serão amostradas 3500 notícias do Dataset FakeRecogna para uma segunda validação do presente modelo."
   ]
  },
  {
   "cell_type": "markdown",
   "id": "93bc8f0c",
   "metadata": {},
   "source": [
    "### Carregar dataset e amostrar dados"
   ]
  },
  {
   "cell_type": "code",
   "execution_count": 31,
   "id": "4f9ff53a",
   "metadata": {},
   "outputs": [
    {
     "data": {
      "text/html": [
       "<div>\n",
       "<style scoped>\n",
       "    .dataframe tbody tr th:only-of-type {\n",
       "        vertical-align: middle;\n",
       "    }\n",
       "\n",
       "    .dataframe tbody tr th {\n",
       "        vertical-align: top;\n",
       "    }\n",
       "\n",
       "    .dataframe thead th {\n",
       "        text-align: right;\n",
       "    }\n",
       "</style>\n",
       "<table border=\"1\" class=\"dataframe\">\n",
       "  <thead>\n",
       "    <tr style=\"text-align: right;\">\n",
       "      <th></th>\n",
       "      <th>Categoria</th>\n",
       "      <th>lemmas_str</th>\n",
       "      <th>fake</th>\n",
       "    </tr>\n",
       "  </thead>\n",
       "  <tbody>\n",
       "    <tr>\n",
       "      <th>0</th>\n",
       "      <td>entretenimento</td>\n",
       "      <td>apagão vaticano papar presar acusação tráfico ...</td>\n",
       "      <td>1</td>\n",
       "    </tr>\n",
       "    <tr>\n",
       "      <th>1</th>\n",
       "      <td>saúde</td>\n",
       "      <td>governar equador anunciar preparar cova coleti...</td>\n",
       "      <td>0</td>\n",
       "    </tr>\n",
       "    <tr>\n",
       "      <th>2</th>\n",
       "      <td>saúde</td>\n",
       "      <td>companhia air france operar voar direto pequim...</td>\n",
       "      <td>0</td>\n",
       "    </tr>\n",
       "    <tr>\n",
       "      <th>3</th>\n",
       "      <td>saúde</td>\n",
       "      <td>marfrig global foods retomar vender carnar bov...</td>\n",
       "      <td>0</td>\n",
       "    </tr>\n",
       "    <tr>\n",
       "      <th>4</th>\n",
       "      <td>entretenimento</td>\n",
       "      <td>assunto voltar compartilhar rede social julho ...</td>\n",
       "      <td>1</td>\n",
       "    </tr>\n",
       "  </tbody>\n",
       "</table>\n",
       "</div>"
      ],
      "text/plain": [
       "        Categoria                                         lemmas_str  fake\n",
       "0  entretenimento  apagão vaticano papar presar acusação tráfico ...     1\n",
       "1           saúde  governar equador anunciar preparar cova coleti...     0\n",
       "2           saúde  companhia air france operar voar direto pequim...     0\n",
       "3           saúde  marfrig global foods retomar vender carnar bov...     0\n",
       "4  entretenimento  assunto voltar compartilhar rede social julho ...     1"
      ]
     },
     "execution_count": 31,
     "metadata": {},
     "output_type": "execute_result"
    }
   ],
   "source": [
    "alternative_df = load_df_from_bucket('dados_processados_recogna.csv', tipo='processado')\n",
    "alternative_df.head()"
   ]
  },
  {
   "cell_type": "code",
   "execution_count": 32,
   "id": "56cdeae4",
   "metadata": {},
   "outputs": [
    {
     "data": {
      "text/html": [
       "<div>\n",
       "<style scoped>\n",
       "    .dataframe tbody tr th:only-of-type {\n",
       "        vertical-align: middle;\n",
       "    }\n",
       "\n",
       "    .dataframe tbody tr th {\n",
       "        vertical-align: top;\n",
       "    }\n",
       "\n",
       "    .dataframe thead th {\n",
       "        text-align: right;\n",
       "    }\n",
       "</style>\n",
       "<table border=\"1\" class=\"dataframe\">\n",
       "  <thead>\n",
       "    <tr style=\"text-align: right;\">\n",
       "      <th></th>\n",
       "      <th>Categoria</th>\n",
       "      <th>lemmas_str</th>\n",
       "      <th>fake</th>\n",
       "    </tr>\n",
       "  </thead>\n",
       "  <tbody>\n",
       "    <tr>\n",
       "      <th>2473</th>\n",
       "      <td>mundo</td>\n",
       "      <td>dia acordar decretar presidente corresponder s...</td>\n",
       "      <td>1</td>\n",
       "    </tr>\n",
       "    <tr>\n",
       "      <th>8153</th>\n",
       "      <td>saúde</td>\n",
       "      <td>comedir problema vacinar proibir voar ditar ap...</td>\n",
       "      <td>1</td>\n",
       "    </tr>\n",
       "    <tr>\n",
       "      <th>3154</th>\n",
       "      <td>saúde</td>\n",
       "      <td>olhar beleza poema escrever século indicar pub...</td>\n",
       "      <td>1</td>\n",
       "    </tr>\n",
       "    <tr>\n",
       "      <th>668</th>\n",
       "      <td>saúde</td>\n",
       "      <td>turístico rir janeiro decidir manter previsão ...</td>\n",
       "      <td>0</td>\n",
       "    </tr>\n",
       "    <tr>\n",
       "      <th>9772</th>\n",
       "      <td>saúde</td>\n",
       "      <td>governar federal anunciar quintafeira dia bras...</td>\n",
       "      <td>0</td>\n",
       "    </tr>\n",
       "  </tbody>\n",
       "</table>\n",
       "</div>"
      ],
      "text/plain": [
       "     Categoria                                         lemmas_str  fake\n",
       "2473     mundo  dia acordar decretar presidente corresponder s...     1\n",
       "8153     saúde  comedir problema vacinar proibir voar ditar ap...     1\n",
       "3154     saúde  olhar beleza poema escrever século indicar pub...     1\n",
       "668      saúde  turístico rir janeiro decidir manter previsão ...     0\n",
       "9772     saúde  governar federal anunciar quintafeira dia bras...     0"
      ]
     },
     "execution_count": 32,
     "metadata": {},
     "output_type": "execute_result"
    }
   ],
   "source": [
    "sample_df = alternative_df.sample(n=3500, random_state=42)\n",
    "sample_df.head()"
   ]
  },
  {
   "cell_type": "markdown",
   "id": "f4922aaa",
   "metadata": {},
   "source": [
    "#### Predição\n",
    "\n",
    "Aplicar TF-IDF para vetorizar, salvar dados no S3 e efetuar predição"
   ]
  },
  {
   "cell_type": "code",
   "execution_count": 33,
   "id": "0060ee23",
   "metadata": {},
   "outputs": [
    {
     "name": "stderr",
     "output_type": "stream",
     "text": [
      "/home/ec2-user/anaconda3/envs/amazonei_tensorflow2_p36/lib/python3.6/site-packages/boto3/compat.py:88: PythonDeprecationWarning: Boto3 will no longer support Python 3.6 starting May 30, 2022. To continue receiving service updates, bug fixes, and security updates please upgrade to Python 3.7 or later. More information can be found here: https://aws.amazon.com/blogs/developer/python-support-policy-updates-for-aws-sdks-and-tools/\n",
      "  warnings.warn(warning, PythonDeprecationWarning)\n"
     ]
    }
   ],
   "source": [
    "x_test_alt, y_test_alt = create_x_y_2(sample_df, tfidf)\n",
    "save_to_s3_bucket_as_libsvm(x_test_alt, y_test_alt, \n",
    "                            prefix='test', filename='model_2_alt.libsvm', tipo='modelo')"
   ]
  },
  {
   "cell_type": "code",
   "execution_count": 34,
   "id": "032d7c73",
   "metadata": {},
   "outputs": [],
   "source": [
    "y_pred_alt = make_prediction(xgb_predictor_2, model_name='model_2_alt')\n",
    "\n",
    "# Alternativa para carregar resultados salvos em outra execução\n",
    "# from python_scripts.save_load import BUCKET_MODEL\n",
    "# y_pred_alt = pd.read_csv(f's3://{BUCKET_MODEL}/test/pred_alt.csv')"
   ]
  },
  {
   "cell_type": "markdown",
   "id": "08cc20fd",
   "metadata": {},
   "source": [
    "#### Métricas"
   ]
  },
  {
   "cell_type": "code",
   "execution_count": 35,
   "id": "b9317112",
   "metadata": {},
   "outputs": [
    {
     "name": "stdout",
     "output_type": "stream",
     "text": [
      "              precision    recall  f1-score   support\n",
      "\n",
      "           0       1.00      0.00      0.00      1779\n",
      "           1       0.49      1.00      0.66      1721\n",
      "\n",
      "    accuracy                           0.49      3500\n",
      "   macro avg       0.75      0.50      0.33      3500\n",
      "weighted avg       0.75      0.49      0.32      3500\n",
      "\n"
     ]
    }
   ],
   "source": [
    "print(classification_report(y_test_alt, y_pred_alt))"
   ]
  },
  {
   "cell_type": "code",
   "execution_count": 36,
   "id": "45a07afc",
   "metadata": {},
   "outputs": [
    {
     "data": {
      "image/png": "[encoded data removed]",
      "text/plain": [
       "<Figure size 432x288 with 1 Axes>"
      ]
     },
     "metadata": {
      "needs_background": "light"
     },
     "output_type": "display_data"
    }
   ],
   "source": [
    "plot_confusion_matrix(y_test_alt, y_pred_alt)"
   ]
  },
  {
   "cell_type": "code",
   "execution_count": 37,
   "id": "d6dd93af",
   "metadata": {},
   "outputs": [
    {
     "data": {
      "text/plain": [
       "0.4918548156616176"
      ]
     },
     "execution_count": 37,
     "metadata": {},
     "output_type": "execute_result"
    }
   ],
   "source": [
    "precision_score(y_test_alt, y_pred_alt)"
   ]
  },
  {
   "cell_type": "code",
   "execution_count": 38,
   "id": "179c9785",
   "metadata": {},
   "outputs": [
    {
     "data": {
      "text/plain": [
       "0.9997"
      ]
     },
     "execution_count": 38,
     "metadata": {},
     "output_type": "execute_result"
    }
   ],
   "source": [
    "# Proporção de previsões de notícias falsas em y_pred_alt\n",
    "round(sum(y_pred_alt)/len(y_pred_alt), 4)  # 4 casas para ver que não foi TUDO"
   ]
  },
  {
   "cell_type": "code",
   "execution_count": 39,
   "id": "97c5ed1a",
   "metadata": {},
   "outputs": [
    {
     "data": {
      "text/plain": [
       "0.49"
      ]
     },
     "execution_count": 39,
     "metadata": {},
     "output_type": "execute_result"
    }
   ],
   "source": [
    "# Proporção de notícias realmente falsas nos dados de teste\n",
    "round(sample_df['fake'].sum()/sample_df.shape[0], 2)"
   ]
  },
  {
   "cell_type": "markdown",
   "id": "0992336b",
   "metadata": {},
   "source": [
    "Ao se testar o modelo no dataset FakeRecogna, os resultados obtidos foram muito ruins! O modelo simplesmente previu que praticamente todas as notícias do dataset seriam falsas. Uma hipótese do que pode ter levado a este resultado é a diferença nos termos utilizados nas notícias. O dataset FakeRecogna, por abrangir os anos de 2019 a 2021, apresenta um peso muito grande para termos relativos à pandemia de COVID-19 que se iniciou em 2020, e que não apareciam em grande quantidade no dataset Fake.br-Corpus.\n",
    "\n",
    "Um modelo treinado baseado no dataset FakeRecogna é apresentado no Notebook `model_fakerecogna.ipynb`, enquanto que um modelo baseado em ambos datasets é apresentado no notebook `model_fakebr.ipynb`."
   ]
  },
  {
   "cell_type": "markdown",
   "id": "caad81da",
   "metadata": {},
   "source": [
    "#### Salvar predição"
   ]
  },
  {
   "cell_type": "code",
   "execution_count": 40,
   "id": "9d988e96",
   "metadata": {},
   "outputs": [],
   "source": [
    "df_pred_alt = pd.DataFrame({'pred_alt': y_pred_alt})\n",
    "df_pred_alt.to_csv(f's3://{BUCKET_MODEL}/test/pred_alt.csv', encoding='utf-8', index=False)"
   ]
  },
  {
   "cell_type": "markdown",
   "id": "6a8173c3",
   "metadata": {},
   "source": [
    "### Encerrar modelo\n",
    "Após pegar métricas e dados de interesse, encerrar modelo para evitar cobranças."
   ]
  },
  {
   "cell_type": "code",
   "execution_count": 41,
   "id": "8af3027e",
   "metadata": {},
   "outputs": [],
   "source": [
    "xgb_predictor_2.delete_endpoint(delete_endpoint_config=True) "
   ]
  }
 ],
 "metadata": {
  "kernelspec": {
   "display_name": "conda_amazonei_tensorflow2_p36",
   "language": "python",
   "name": "conda_amazonei_tensorflow2_p36"
  },
  "language_info": {
   "codemirror_mode": {
    "name": "ipython",
    "version": 3
   },
   "file_extension": ".py",
   "mimetype": "text/x-python",
   "name": "python",
   "nbconvert_exporter": "python",
   "pygments_lexer": "ipython3",
   "version": "3.6.13"
  }
 },
 "nbformat": 4,
 "nbformat_minor": 5
}
